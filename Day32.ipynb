{
 "cells": [
  {
   "cell_type": "code",
   "execution_count": 1,
   "id": "d35f4664-3a3c-4580-85ec-f46f2de11f63",
   "metadata": {},
   "outputs": [],
   "source": [
    "# Remove Duplicates\n",
    "nums = [1, 2, 3, 2, 1, 3, 2, 4, 5, 4]"
   ]
  },
  {
   "cell_type": "code",
   "execution_count": 2,
   "id": "5e2d11e3-83ac-434f-b3aa-f851d08fa70f",
   "metadata": {},
   "outputs": [
    {
     "data": {
      "text/plain": [
       "[1, 2, 3, 4, 5]"
      ]
     },
     "execution_count": 2,
     "metadata": {},
     "output_type": "execute_result"
    }
   ],
   "source": [
    "temp = []\n",
    "for i in nums:\n",
    "    if i not in temp:\n",
    "        temp.append(i)\n",
    "temp"
   ]
  },
  {
   "cell_type": "code",
   "execution_count": null,
   "id": "27eee0f8-6d22-496c-ab33-872abb81bf5c",
   "metadata": {},
   "outputs": [],
   "source": []
  }
 ],
 "metadata": {
  "kernelspec": {
   "display_name": "Python 3 (ipykernel)",
   "language": "python",
   "name": "python3"
  },
  "language_info": {
   "codemirror_mode": {
    "name": "ipython",
    "version": 3
   },
   "file_extension": ".py",
   "mimetype": "text/x-python",
   "name": "python",
   "nbconvert_exporter": "python",
   "pygments_lexer": "ipython3",
   "version": "3.11.9"
  }
 },
 "nbformat": 4,
 "nbformat_minor": 5
}
