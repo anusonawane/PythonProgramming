{
 "cells": [
  {
   "cell_type": "markdown",
   "id": "9035b695-9262-4d14-80c7-2ccadb64b0ea",
   "metadata": {},
   "source": [
    "Finding the Maximum Number in a List"
   ]
  },
  {
   "cell_type": "code",
   "execution_count": 1,
   "id": "f70c6641-fe58-481f-a2f4-1377269805f4",
   "metadata": {},
   "outputs": [],
   "source": [
    "numberList = [15, 85, 35, 89, 125]\n"
   ]
  },
  {
   "cell_type": "code",
   "execution_count": 2,
   "id": "b6686cbd-1e52-44f5-8d51-4413549439db",
   "metadata": {},
   "outputs": [
    {
     "data": {
      "text/plain": [
       "125"
      ]
     },
     "execution_count": 2,
     "metadata": {},
     "output_type": "execute_result"
    }
   ],
   "source": [
    "maxn=0\n",
    "for i in numberList:\n",
    "    if i>maxn:\n",
    "        maxn=i\n",
    "maxn"
   ]
  },
  {
   "cell_type": "markdown",
   "id": "6e89b61e-0c2e-4bf9-aaf9-22188f6baf92",
   "metadata": {},
   "source": [
    "Finding the Minimum Number in a List"
   ]
  },
  {
   "cell_type": "code",
   "execution_count": 3,
   "id": "efe53223-4eaa-4dc3-b85f-0d90438c7f70",
   "metadata": {},
   "outputs": [
    {
     "data": {
      "text/plain": [
       "15"
      ]
     },
     "execution_count": 3,
     "metadata": {},
     "output_type": "execute_result"
    }
   ],
   "source": [
    "minn=numberList[0]\n",
    "for i in numberList:\n",
    "    if i< minn:\n",
    "        minn=i\n",
    "minn"
   ]
  },
  {
   "cell_type": "markdown",
   "id": "8396ba10-92e5-4410-8892-01cf99bea610",
   "metadata": {},
   "source": [
    "Finding the Middle Element in a List"
   ]
  },
  {
   "cell_type": "code",
   "execution_count": 4,
   "id": "08363edf-3368-4329-8d19-b7d83dd573ae",
   "metadata": {},
   "outputs": [],
   "source": [
    "numList = [1, 2, 3, 4, 5]\n"
   ]
  },
  {
   "cell_type": "code",
   "execution_count": 5,
   "id": "c782e65d-d6c3-4d70-b4ed-ee85bbed1c60",
   "metadata": {},
   "outputs": [
    {
     "data": {
      "text/plain": [
       "3"
      ]
     },
     "execution_count": 5,
     "metadata": {},
     "output_type": "execute_result"
    }
   ],
   "source": [
    "numList[int(len(numList)/2)]\n"
   ]
  },
  {
   "cell_type": "markdown",
   "id": "e390b59c-2920-4009-b2b5-ef713fd75fd5",
   "metadata": {},
   "source": [
    "program to count the frequency of each element in a list."
   ]
  },
  {
   "cell_type": "code",
   "execution_count": 6,
   "id": "d2fa0be1-8a5f-4f85-9783-fee23a8ebcf7",
   "metadata": {},
   "outputs": [],
   "source": [
    "nums = [1, 2, 3, 2, 1, 3, 2, 4, 5, 4]"
   ]
  },
  {
   "cell_type": "code",
   "execution_count": 8,
   "id": "7a06b595-3c60-4533-b574-6c8809081511",
   "metadata": {},
   "outputs": [
    {
     "data": {
      "text/plain": [
       "{1: 2, 2: 3, 3: 2, 4: 2, 5: 1}"
      ]
     },
     "execution_count": 8,
     "metadata": {},
     "output_type": "execute_result"
    }
   ],
   "source": [
    "dictn={}\n",
    "for i in nums:\n",
    "    if i not in dictn:\n",
    "        dictn[i]=1\n",
    "    else:\n",
    "        dictn[i]+=1\n",
    "\n",
    "dictn"
   ]
  },
  {
   "cell_type": "raw",
   "id": "dd3def46-5a20-437b-84d0-a402b71652c8",
   "metadata": {},
   "source": [
    "program to find the common elements between two lists."
   ]
  },
  {
   "cell_type": "code",
   "execution_count": 10,
   "id": "c7b048fe-c218-4fa1-8a56-187f8a6fae33",
   "metadata": {},
   "outputs": [
    {
     "data": {
      "text/plain": [
       "[4, 5]"
      ]
     },
     "execution_count": 10,
     "metadata": {},
     "output_type": "execute_result"
    }
   ],
   "source": [
    "list_a = [1, 2, 3, 4, 5]\n",
    "list_b = [4, 5, 6, 7, 8]\n",
    "\n",
    "common = []\n",
    "for i in list_a:\n",
    "    if i in list_b:\n",
    "        common.append(i)\n",
    "\n",
    "common"
   ]
  },
  {
   "cell_type": "markdown",
   "id": "2a8cef38-98c2-4caf-82dd-709d572370b3",
   "metadata": {},
   "source": [
    "Flatten List to individual elements"
   ]
  },
  {
   "cell_type": "code",
   "execution_count": 11,
   "id": "ffeb8174-5a73-4f48-a86f-79ce1e51dafc",
   "metadata": {},
   "outputs": [],
   "source": [
    "a = [[1,3, \"geeks\"], [4,5], [6, \"best\"]]"
   ]
  },
  {
   "cell_type": "code",
   "execution_count": 15,
   "id": "52972833-65ad-4314-96e9-8f563fcfa106",
   "metadata": {},
   "outputs": [
    {
     "data": {
      "text/plain": [
       "[1, 3, 'geeks', 4, 5, 6, 'best']"
      ]
     },
     "execution_count": 15,
     "metadata": {},
     "output_type": "execute_result"
    }
   ],
   "source": [
    "sum(a, [])"
   ]
  },
  {
   "cell_type": "markdown",
   "id": "4f7424ff-265b-4f9a-aea1-098c84f693d5",
   "metadata": {},
   "source": [
    "input_data = [\n",
    "    {'category': 'fruits', 'value': 3},\n",
    "    {'category': 'vegetables', 'value': 5},\n",
    "    {'category': 'fruits', 'value': 1},\n",
    "    {'category': 'fruits', 'value': 4},\n",
    "    {'category': 'vegetables', 'value': 2}\n",
    "]\n",
    "\n",
    "expected_output = {\n",
    "    'fruits': [{'category': 'fruits', 'value': 4}, {'category': 'fruits', 'value': 3}, {'category': 'fruits', 'value': 1}],\n",
    "    'vegetables': [{'category': 'vegetables', 'value': 5}, {'category': 'vegetables', 'value': 2}]\n",
    "}\n"
   ]
  },
  {
   "cell_type": "code",
   "execution_count": 32,
   "id": "0ad7e079-d113-436d-a7fe-9fef7ded35fd",
   "metadata": {},
   "outputs": [],
   "source": [
    "input_data = [\n",
    "    {'category': 'fruits', 'value': 3},\n",
    "    {'category': 'vegetables', 'value': 5},\n",
    "    {'category': 'fruits', 'value': 1},\n",
    "    {'category': 'fruits', 'value': 4},\n",
    "    {'category': 'vegetables', 'value': 2}\n",
    "]\n",
    "key1={}\n",
    "\n",
    "for i in input_data:\n",
    "    if i['category'] not in key1.keys():\n",
    "        key1[i['category']] = [i]\n",
    "\n",
    "    else:\n",
    "        key1[i['category']].append(i)\n",
    "        \n",
    "    \n"
   ]
  },
  {
   "cell_type": "code",
   "execution_count": 33,
   "id": "b6a0684f-8d28-4504-8e90-b6af4f1326e9",
   "metadata": {},
   "outputs": [
    {
     "data": {
      "text/plain": [
       "{'fruits': [{'category': 'fruits', 'value': 3},\n",
       "  {'category': 'fruits', 'value': 1},\n",
       "  {'category': 'fruits', 'value': 4}],\n",
       " 'vegetables': [{'category': 'vegetables', 'value': 5},\n",
       "  {'category': 'vegetables', 'value': 2}]}"
      ]
     },
     "execution_count": 33,
     "metadata": {},
     "output_type": "execute_result"
    }
   ],
   "source": [
    "key1"
   ]
  },
  {
   "cell_type": "code",
   "execution_count": null,
   "id": "16549ea0-d84c-46ab-bdff-f69a2e6099bb",
   "metadata": {},
   "outputs": [],
   "source": []
  }
 ],
 "metadata": {
  "kernelspec": {
   "display_name": "Python 3 (ipykernel)",
   "language": "python",
   "name": "python3"
  },
  "language_info": {
   "codemirror_mode": {
    "name": "ipython",
    "version": 3
   },
   "file_extension": ".py",
   "mimetype": "text/x-python",
   "name": "python",
   "nbconvert_exporter": "python",
   "pygments_lexer": "ipython3",
   "version": "3.11.9"
  }
 },
 "nbformat": 4,
 "nbformat_minor": 5
}
