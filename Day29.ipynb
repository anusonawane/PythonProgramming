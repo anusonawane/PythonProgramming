{
 "cells": [
  {
   "cell_type": "raw",
   "id": "051d6bc4-440e-437b-8b9f-967817ba68e2",
   "metadata": {},
   "source": [
    "given a dictionary of product orders. Write a function that returns a dictionary summarizing the total quantity ordered for each product in the list."
   ]
  },
  {
   "cell_type": "code",
   "execution_count": 1,
   "id": "292385c5-9852-494d-90df-31279405fe3a",
   "metadata": {},
   "outputs": [],
   "source": [
    "product_list = [\"apple\", \"banana\", \"orange\"]\n",
    "order_dict = {\n",
    "    \"apple\": [3, 5, 2],\n",
    "    \"banana\": [1, 6],\n",
    "    \"grape\": [10],\n",
    "}\n",
    "\n",
    "expected_output = {\n",
    "    \"apple\": 10,\n",
    "    \"banana\": 7,\n",
    "    \"grape\": 10\n",
    "}"
   ]
  },
  {
   "cell_type": "code",
   "execution_count": 2,
   "id": "c662dd47-e9d3-4640-bb78-3ec71b580a50",
   "metadata": {},
   "outputs": [
    {
     "data": {
      "text/plain": [
       "{'apple': 10, 'banana': 7, 'grape': 10}"
      ]
     },
     "execution_count": 2,
     "metadata": {},
     "output_type": "execute_result"
    }
   ],
   "source": [
    "\n",
    "new={}\n",
    "\n",
    "for key,val in order_dict.items():\n",
    "   new[key]=sum(val)\n",
    "\n",
    "new"
   ]
  },
  {
   "cell_type": "code",
   "execution_count": null,
   "id": "981dd1b7-afc4-44ff-b06f-b47c909c4091",
   "metadata": {},
   "outputs": [],
   "source": []
  }
 ],
 "metadata": {
  "kernelspec": {
   "display_name": "Python 3 (ipykernel)",
   "language": "python",
   "name": "python3"
  },
  "language_info": {
   "codemirror_mode": {
    "name": "ipython",
    "version": 3
   },
   "file_extension": ".py",
   "mimetype": "text/x-python",
   "name": "python",
   "nbconvert_exporter": "python",
   "pygments_lexer": "ipython3",
   "version": "3.11.9"
  }
 },
 "nbformat": 4,
 "nbformat_minor": 5
}
