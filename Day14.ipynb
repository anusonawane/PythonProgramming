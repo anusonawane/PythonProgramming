{
 "cells": [
  {
   "cell_type": "raw",
   "id": "e91813c2-7932-4d6e-a394-bbb9b066fc17",
   "metadata": {},
   "source": [
    "\n",
    "Sure! Here's another coding problem that builds on your knowledge of lists and dictionaries for an intermediate level:\n",
    "\n",
    "Question:\n",
    "\n",
    "Write a Python function called merge_by_category() that takes two lists of dictionaries. Each dictionary has a 'category' (a string) and a 'value' (an integer). Your task is to merge the two lists by combining the dictionaries with the same 'category' key. For each matching category, the 'value' should be the sum of the values from both lists."
   ]
  },
  {
   "cell_type": "raw",
   "id": "ac63591c-9531-4604-898d-97098f257ae0",
   "metadata": {},
   "source": [
    "list1 = [\n",
    "    {'category': 'fruits', 'value': 3},\n",
    "    {'category': 'vegetables', 'value': 5}\n",
    "]\n",
    "\n",
    "list2 = [\n",
    "    {'category': 'fruits', 'value': 2},\n",
    "    {'category': 'grains', 'value': 4}\n",
    "]\n",
    "\n",
    "expected_output = [\n",
    "    {'category': 'fruits', 'value': 5},  # 3 + 2\n",
    "    {'category': 'vegetables', 'value': 5},  # only in list1\n",
    "    {'category': 'grains', 'value': 4}  # only in list2\n",
    "]\n"
   ]
  },
  {
   "cell_type": "code",
   "execution_count": 1,
   "id": "c80c7a7b-1db9-418c-8801-a1fb63436089",
   "metadata": {},
   "outputs": [],
   "source": [
    "list1 = [\n",
    "    {'category': 'fruits', 'value': 3},\n",
    "    {'category': 'vegetables', 'value': 5}\n",
    "]\n",
    "\n",
    "list2 = [\n",
    "    {'category': 'fruits', 'value': 2},\n",
    "    {'category': 'grains', 'value': 4}\n",
    "]"
   ]
  },
  {
   "cell_type": "code",
   "execution_count": 2,
   "id": "1eb83ebe-d55c-4102-a5c7-248b5ad27447",
   "metadata": {},
   "outputs": [
    {
     "data": {
      "text/plain": [
       "[{'category': 'fruits', 'value': 3},\n",
       " {'category': 'vegetables', 'value': 5},\n",
       " {'category': 'fruits', 'value': 2},\n",
       " {'category': 'grains', 'value': 4}]"
      ]
     },
     "execution_count": 2,
     "metadata": {},
     "output_type": "execute_result"
    }
   ],
   "source": [
    "list1.extend(list2)\n",
    "list1"
   ]
  },
  {
   "cell_type": "code",
   "execution_count": 3,
   "id": "c3f61b7f-4cc0-416e-8aac-29d3970f2db7",
   "metadata": {},
   "outputs": [],
   "source": [
    "\n",
    "new = {}\n",
    "for i in list1:\n",
    "    if i['category'] not in new:\n",
    "        new[i['category']]=i['value']\n",
    "    else:\n",
    "        new[i['category']]+=i['value']\n",
    "l1 = [{'category': key, 'value': value} for key, value in new.items()]\n",
    "   "
   ]
  },
  {
   "cell_type": "code",
   "execution_count": 6,
   "id": "517b63ab-61f8-4225-a68e-7391d254d41c",
   "metadata": {},
   "outputs": [
    {
     "data": {
      "text/plain": [
       "{'fruits': 5, 'vegetables': 5, 'grains': 4}"
      ]
     },
     "execution_count": 6,
     "metadata": {},
     "output_type": "execute_result"
    }
   ],
   "source": [
    "new"
   ]
  },
  {
   "cell_type": "code",
   "execution_count": 7,
   "id": "79b79857-752c-4933-9b0c-a1607a831e83",
   "metadata": {},
   "outputs": [
    {
     "data": {
      "text/plain": [
       "[{'category': 'fruits', 'value': 5},\n",
       " {'category': 'vegetables', 'value': 5},\n",
       " {'category': 'grains', 'value': 4}]"
      ]
     },
     "execution_count": 7,
     "metadata": {},
     "output_type": "execute_result"
    }
   ],
   "source": [
    "l1"
   ]
  },
  {
   "cell_type": "code",
   "execution_count": null,
   "id": "bad8164b-2f2d-4b88-bffe-efa3d4ec0f8c",
   "metadata": {},
   "outputs": [],
   "source": []
  },
  {
   "cell_type": "code",
   "execution_count": null,
   "id": "5c74cfb9-21d1-4099-93a7-733b660455f8",
   "metadata": {},
   "outputs": [],
   "source": []
  },
  {
   "cell_type": "raw",
   "id": "80fef2ea-e0a3-4410-9af8-7e1cd414dcb1",
   "metadata": {},
   "source": [
    "return a list of unique categories found in the input list.\n",
    "\n"
   ]
  },
  {
   "cell_type": "code",
   "execution_count": 8,
   "id": "3377554d-7e6c-4b0f-b2f8-4f07ebf4639e",
   "metadata": {},
   "outputs": [],
   "source": [
    "data = [\n",
    "    {'category': 'fruits', 'value': 3},\n",
    "    {'category': 'vegetables', 'value': 5},\n",
    "    {'category': 'fruits', 'value': 1},\n",
    "    {'category': 'grains', 'value': 4},\n",
    "    {'category': 'dairy', 'value': 2},\n",
    "    {'category': 'grains', 'value': 7}\n",
    "]\n",
    "\n",
    "# Expected output:\n",
    "# ['fruits', 'vegetables', 'grains', 'dairy']\n"
   ]
  },
  {
   "cell_type": "code",
   "execution_count": 9,
   "id": "ad72cb7e-2b4f-48d8-b811-105cc56677f1",
   "metadata": {},
   "outputs": [
    {
     "data": {
      "text/plain": [
       "['fruits', 'vegetables', 'grains', 'dairy']"
      ]
     },
     "execution_count": 9,
     "metadata": {},
     "output_type": "execute_result"
    }
   ],
   "source": [
    "list1=[]\n",
    "for i in data:\n",
    "    if i['category'] not in list1:\n",
    "        list1.append(i['category'])\n",
    "list1"
   ]
  },
  {
   "cell_type": "code",
   "execution_count": null,
   "id": "d0c9d1c2-7be0-42c4-8ecc-2988a24282f1",
   "metadata": {},
   "outputs": [],
   "source": []
  }
 ],
 "metadata": {
  "kernelspec": {
   "display_name": "Python 3 (ipykernel)",
   "language": "python",
   "name": "python3"
  },
  "language_info": {
   "codemirror_mode": {
    "name": "ipython",
    "version": 3
   },
   "file_extension": ".py",
   "mimetype": "text/x-python",
   "name": "python",
   "nbconvert_exporter": "python",
   "pygments_lexer": "ipython3",
   "version": "3.11.9"
  }
 },
 "nbformat": 4,
 "nbformat_minor": 5
}
