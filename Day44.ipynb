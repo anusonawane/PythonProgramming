{
 "cells": [
  {
   "cell_type": "raw",
   "id": "14d3cbc1-0727-4c28-bdd1-67f407dda137",
   "metadata": {},
   "source": [
    "Check If a String is a Palindrome"
   ]
  },
  {
   "cell_type": "code",
   "execution_count": 1,
   "id": "ae177536-2345-4eb2-a8a6-8b9565fc27ba",
   "metadata": {},
   "outputs": [],
   "source": [
    "s = \"racecar\""
   ]
  },
  {
   "cell_type": "code",
   "execution_count": 2,
   "id": "8f1a91be-b672-4396-9d24-b312fbee68cd",
   "metadata": {},
   "outputs": [],
   "source": [
    "def is_palindrome(s):\n",
    "    return s == s[::-1] \n"
   ]
  },
  {
   "cell_type": "code",
   "execution_count": 3,
   "id": "6a84a966-0095-466d-ab8a-255a59e2329e",
   "metadata": {},
   "outputs": [
    {
     "data": {
      "text/plain": [
       "True"
      ]
     },
     "execution_count": 3,
     "metadata": {},
     "output_type": "execute_result"
    }
   ],
   "source": [
    "is_palindrome(s)"
   ]
  },
  {
   "cell_type": "code",
   "execution_count": null,
   "id": "ea9f4c84-23a4-4516-b8a3-c6c0de9d4da9",
   "metadata": {},
   "outputs": [],
   "source": []
  }
 ],
 "metadata": {
  "kernelspec": {
   "display_name": "Python 3 (ipykernel)",
   "language": "python",
   "name": "python3"
  },
  "language_info": {
   "codemirror_mode": {
    "name": "ipython",
    "version": 3
   },
   "file_extension": ".py",
   "mimetype": "text/x-python",
   "name": "python",
   "nbconvert_exporter": "python",
   "pygments_lexer": "ipython3",
   "version": "3.11.9"
  }
 },
 "nbformat": 4,
 "nbformat_minor": 5
}
