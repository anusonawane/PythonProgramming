{
 "cells": [
  {
   "cell_type": "code",
   "execution_count": 1,
   "id": "7ee14fa9-abdd-4944-8e36-2e51640f5148",
   "metadata": {},
   "outputs": [],
   "source": [
    "# Example usage\n",
    "employee_data = [\n",
    "    {\"id\": 1, \"name\": \"Alice\", \"age\": 34, \"department\": \"HR\", \"salary\": 60000},\n",
    "    {\"id\": 2, \"name\": \"Bob\", \"age\": 29, \"department\": \"IT\", \"salary\": 55000},\n",
    "    {\"id\": 3, \"name\": \"Charlie\", \"age\": 45, \"department\": \"Finance\", \"salary\": 70000},\n",
    "    {\"id\": 4, \"name\": \"David\", \"age\": 40, \"department\": \"HR\", \"salary\": 48000},\n",
    "    {\"id\": 5, \"name\": \"Eve\", \"age\": 38, \"department\": \"IT\", \"salary\": 75000},\n",
    "    {\"id\": 6, \"name\": \"Frank\", \"age\": 50, \"department\": \"Finance\", \"salary\": 90000},\n",
    "]"
   ]
  },
  {
   "cell_type": "raw",
   "id": "656f7c05-10e3-4062-b4cf-5a134aedce9c",
   "metadata": {},
   "source": [
    "Filter employees based on age > 30 and salary >= 50000"
   ]
  },
  {
   "cell_type": "code",
   "execution_count": 2,
   "id": "611b3208-79e5-4f1b-84eb-bf4daabaaba2",
   "metadata": {},
   "outputs": [],
   "source": [
    "filtered_employees = [\n",
    "        emp for emp in employee_data if emp['age'] > 30 and emp['salary'] >= 50000\n",
    "    ]"
   ]
  },
  {
   "cell_type": "code",
   "execution_count": 3,
   "id": "4cf922e2-1a2c-437b-8eed-bc224b44c205",
   "metadata": {},
   "outputs": [
    {
     "data": {
      "text/plain": [
       "[{'id': 1, 'name': 'Alice', 'age': 34, 'department': 'HR', 'salary': 60000},\n",
       " {'id': 3,\n",
       "  'name': 'Charlie',\n",
       "  'age': 45,\n",
       "  'department': 'Finance',\n",
       "  'salary': 70000},\n",
       " {'id': 5, 'name': 'Eve', 'age': 38, 'department': 'IT', 'salary': 75000},\n",
       " {'id': 6,\n",
       "  'name': 'Frank',\n",
       "  'age': 50,\n",
       "  'department': 'Finance',\n",
       "  'salary': 90000}]"
      ]
     },
     "execution_count": 3,
     "metadata": {},
     "output_type": "execute_result"
    }
   ],
   "source": [
    "filtered_employees"
   ]
  },
  {
   "cell_type": "code",
   "execution_count": null,
   "id": "4376c735-c60c-4ebe-97cd-eec72d49bbdc",
   "metadata": {},
   "outputs": [],
   "source": []
  }
 ],
 "metadata": {
  "kernelspec": {
   "display_name": "Python 3 (ipykernel)",
   "language": "python",
   "name": "python3"
  },
  "language_info": {
   "codemirror_mode": {
    "name": "ipython",
    "version": 3
   },
   "file_extension": ".py",
   "mimetype": "text/x-python",
   "name": "python",
   "nbconvert_exporter": "python",
   "pygments_lexer": "ipython3",
   "version": "3.11.9"
  }
 },
 "nbformat": 4,
 "nbformat_minor": 5
}
