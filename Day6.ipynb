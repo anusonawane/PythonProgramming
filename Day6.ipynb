{
 "cells": [
  {
   "cell_type": "markdown",
   "id": "d210303a-7242-43ae-8fa3-abdb5cd2a7c5",
   "metadata": {},
   "source": [
    "# read CSV, JSON, XML, and XLSX files"
   ]
  },
  {
   "cell_type": "code",
   "execution_count": 1,
   "id": "c257f7a9-2cec-4d36-a46e-76e53846c6ad",
   "metadata": {},
   "outputs": [],
   "source": [
    "import pandas as pd"
   ]
  },
  {
   "cell_type": "code",
   "execution_count": null,
   "id": "c7f91eec-a3b1-479a-84b8-7d3c33e0d916",
   "metadata": {},
   "outputs": [],
   "source": [
    "df = pd.read_csv(\"test.csv\")"
   ]
  },
  {
   "cell_type": "code",
   "execution_count": null,
   "id": "56f14b92-b54d-4e13-9c83-d332f9969897",
   "metadata": {},
   "outputs": [],
   "source": []
  },
  {
   "cell_type": "code",
   "execution_count": null,
   "id": "5f1be369-8110-4803-8e4e-ba6aad862d74",
   "metadata": {},
   "outputs": [],
   "source": [
    "jsonfile = pd.read_json(\"test.json\")"
   ]
  },
  {
   "cell_type": "code",
   "execution_count": null,
   "id": "e19b9209-0609-46e0-9fec-6aa327923eef",
   "metadata": {},
   "outputs": [],
   "source": []
  },
  {
   "cell_type": "code",
   "execution_count": null,
   "id": "141f5b85-4a4e-4fea-a989-deca69ab1197",
   "metadata": {},
   "outputs": [],
   "source": [
    "excel_df = pd.read_excel(\"test.xlsx\", sheet_name=\"first_sheet\")\n"
   ]
  }
 ],
 "metadata": {
  "kernelspec": {
   "display_name": "Python 3 (ipykernel)",
   "language": "python",
   "name": "python3"
  },
  "language_info": {
   "codemirror_mode": {
    "name": "ipython",
    "version": 3
   },
   "file_extension": ".py",
   "mimetype": "text/x-python",
   "name": "python",
   "nbconvert_exporter": "python",
   "pygments_lexer": "ipython3",
   "version": "3.11.9"
  }
 },
 "nbformat": 4,
 "nbformat_minor": 5
}
