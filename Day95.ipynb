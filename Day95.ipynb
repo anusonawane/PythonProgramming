{
 "cells": [
  {
   "cell_type": "raw",
   "id": "1fa88f17-dcfa-4755-aaac-c217f3424a5c",
   "metadata": {},
   "source": [
    "class classname:\n",
    "    \"\"\"doc string\"\"\"\n",
    "    variables:[instance variables, static variables and local variables]\n",
    "    methods: instance, class ,static methods.\n",
    "\n"
   ]
  },
  {
   "cell_type": "code",
   "execution_count": 1,
   "id": "8431b858-3e94-493e-a14e-9b15b0949fde",
   "metadata": {},
   "outputs": [],
   "source": [
    "class Student:\n",
    "    #Constructor- first arg should be self)\n",
    "    def __init__(self):\n",
    "        self.name='Anushka' # instance variables- The variables which are decalred innside a constructor are called instance variables\n",
    "        self.rollno=3303\n",
    "        self.marks=98\n",
    "\n",
    "    #instance menthod- first arg should be self\n",
    "    def talk(self):\n",
    "        print(\"My name is \",self.name) \n",
    "        print(\"My roll no is \",self.rollno) \n",
    "        print(\"My marks are \",self.marks)\n",
    "\n",
    "    "
   ]
  },
  {
   "cell_type": "code",
   "execution_count": 2,
   "id": "c52b09f0-7475-4cbd-ac13-116baab4c10b",
   "metadata": {},
   "outputs": [],
   "source": [
    "reference_variable=Student()"
   ]
  },
  {
   "cell_type": "code",
   "execution_count": 3,
   "id": "8387a99d-c283-4ec5-8df7-c96c88d0fe46",
   "metadata": {},
   "outputs": [
    {
     "data": {
      "text/plain": [
       "'Anushka'"
      ]
     },
     "execution_count": 3,
     "metadata": {},
     "output_type": "execute_result"
    }
   ],
   "source": [
    "reference_variable.name"
   ]
  },
  {
   "cell_type": "code",
   "execution_count": 4,
   "id": "9bd9adb5-d43b-48c5-b306-7365346ac438",
   "metadata": {},
   "outputs": [
    {
     "name": "stdout",
     "output_type": "stream",
     "text": [
      "My name is  Anushka\n",
      "My roll no is  3303\n",
      "My marks are  98\n"
     ]
    }
   ],
   "source": [
    "reference_variable.talk()"
   ]
  },
  {
   "cell_type": "markdown",
   "id": "20806e83-f0b9-4fb6-8c54-9eb75eb213b0",
   "metadata": {},
   "source": [
    "# #####################################################################################"
   ]
  },
  {
   "cell_type": "code",
   "execution_count": 5,
   "id": "6be7993f-ecee-4b88-888e-4c2ebdd50185",
   "metadata": {},
   "outputs": [],
   "source": [
    "class Student:\n",
    "    \n",
    "    def __init__(self, name, rollno, marks):\n",
    "        self.name=name\n",
    "        self.rollno=rollno\n",
    "        self.marks=marks\n",
    "\n",
    "    \n",
    "    def talk(self):\n",
    "        print(\"My name is \",self.name) \n",
    "        print(\"My roll no is \",self.rollno) \n",
    "        print(\"My marks are \",self.marks)\n"
   ]
  },
  {
   "cell_type": "code",
   "execution_count": 6,
   "id": "30daf95a-10f6-43a7-b9c1-1f8fd434f0e2",
   "metadata": {},
   "outputs": [],
   "source": [
    "s1 = Student(\"Anushka\", 3303, 98)"
   ]
  },
  {
   "cell_type": "code",
   "execution_count": 7,
   "id": "430c2ff4-4abc-49db-a54a-cbdc5596e65c",
   "metadata": {},
   "outputs": [
    {
     "data": {
      "text/plain": [
       "'Anushka'"
      ]
     },
     "execution_count": 7,
     "metadata": {},
     "output_type": "execute_result"
    }
   ],
   "source": [
    "s1.name"
   ]
  },
  {
   "cell_type": "code",
   "execution_count": 8,
   "id": "d4a5c1b4-6612-4e6e-a35a-10dd0c44bb8d",
   "metadata": {},
   "outputs": [
    {
     "name": "stdout",
     "output_type": "stream",
     "text": [
      "My name is  Anushka\n",
      "My roll no is  3303\n",
      "My marks are  98\n"
     ]
    }
   ],
   "source": [
    "s1.talk()"
   ]
  },
  {
   "cell_type": "markdown",
   "id": "5ebf6787-54ca-4b3d-b665-cdcb60dea434",
   "metadata": {},
   "source": [
    "# #################################################################"
   ]
  },
  {
   "cell_type": "markdown",
   "id": "fc135658-8d09-4efe-b1e9-0f940b3e1722",
   "metadata": {},
   "source": [
    "# Instance Variable(Non static variables)"
   ]
  },
  {
   "cell_type": "raw",
   "id": "c17d891e-edfb-49c3-851a-2ebdab80185e",
   "metadata": {},
   "source": [
    "When the value of a variable(student) is varied from object to object.\n",
    "Can be accessed \n",
    "student1= name1, rollno1\n",
    "student2= name2, rollno2"
   ]
  },
  {
   "cell_type": "code",
   "execution_count": null,
   "id": "02ea53f2-fe34-4783-a9c4-5e45408c7afe",
   "metadata": {},
   "outputs": [],
   "source": []
  },
  {
   "cell_type": "code",
   "execution_count": null,
   "id": "bcb2f067-2eed-4f3c-8331-4b50fe8963ee",
   "metadata": {},
   "outputs": [],
   "source": []
  }
 ],
 "metadata": {
  "kernelspec": {
   "display_name": "Python 3 (ipykernel)",
   "language": "python",
   "name": "python3"
  },
  "language_info": {
   "codemirror_mode": {
    "name": "ipython",
    "version": 3
   },
   "file_extension": ".py",
   "mimetype": "text/x-python",
   "name": "python",
   "nbconvert_exporter": "python",
   "pygments_lexer": "ipython3",
   "version": "3.11.11"
  }
 },
 "nbformat": 4,
 "nbformat_minor": 5
}
