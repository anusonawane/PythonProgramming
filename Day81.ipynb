{
 "cells": [
  {
   "cell_type": "code",
   "execution_count": 1,
   "id": "afa7123b-4a47-4c03-af32-bcd8228956c8",
   "metadata": {},
   "outputs": [],
   "source": [
    "data = {\n",
    "    'Name': ['Alice', 'Bob', 'Charlie', 'David'],\n",
    "    'Age': [25, 30, 35, 40],\n",
    "    'City': ['New York', 'San Francisco', 'Los Angeles', 'Chicago'],\n",
    "    'Salary': [70000, 80000, 120000, 90000],\n",
    "    'Date': ['2023-01-01', '2023-02-15', '2023-03-10', '2023-04-20']\n",
    "}"
   ]
  },
  {
   "cell_type": "code",
   "execution_count": 9,
   "id": "81bc00ac-d981-4684-8e86-7752aa84fd42",
   "metadata": {},
   "outputs": [
    {
     "name": "stdout",
     "output_type": "stream",
     "text": [
      "Name === ['Alice', 'Bob', 'Charlie', 'David']\n",
      "Age === [25, 30, 35, 40]\n"
     ]
    }
   ],
   "source": [
    "for key, emp in data.items():\n",
    "    if key==\"Name\" or key==\"Age\":\n",
    "        print(key, \"===\",emp)"
   ]
  },
  {
   "cell_type": "code",
   "execution_count": null,
   "id": "7d00a9cf-9de0-4162-9823-9ea33d6de859",
   "metadata": {},
   "outputs": [],
   "source": []
  }
 ],
 "metadata": {
  "kernelspec": {
   "display_name": "Python 3 (ipykernel)",
   "language": "python",
   "name": "python3"
  },
  "language_info": {
   "codemirror_mode": {
    "name": "ipython",
    "version": 3
   },
   "file_extension": ".py",
   "mimetype": "text/x-python",
   "name": "python",
   "nbconvert_exporter": "python",
   "pygments_lexer": "ipython3",
   "version": "3.11.11"
  }
 },
 "nbformat": 4,
 "nbformat_minor": 5
}
