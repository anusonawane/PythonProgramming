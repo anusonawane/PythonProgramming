{
 "cells": [
  {
   "cell_type": "code",
   "execution_count": null,
   "id": "1e13302f-70c7-4d32-a753-5e82071295d7",
   "metadata": {},
   "outputs": [],
   "source": [
    "\"\"\"\n",
    "Write a program that accepts a sentence and calculate the number of upper case letters and lower case letters.\n",
    "Suppose the following input is supplied to the program:\n",
    "Hello world!\n",
    "Then, the output should be:\n",
    "UPPER CASE 1\n",
    "LOWER CASE 9\n",
    "\"\"\""
   ]
  },
  {
   "cell_type": "code",
   "execution_count": 3,
   "id": "b2c41d73-0a53-4056-9e79-7710feb5ac4e",
   "metadata": {},
   "outputs": [
    {
     "name": "stdin",
     "output_type": "stream",
     "text": [
      " Hello world!\n"
     ]
    },
    {
     "name": "stdout",
     "output_type": "stream",
     "text": [
      "Total number of upper are 1 and lower are 9\n"
     ]
    }
   ],
   "source": [
    "sent = input()\n",
    "upper = 0\n",
    "lower = 0\n",
    "for i in sent:\n",
    "    if i.isupper():\n",
    "        upper+=1\n",
    "    if i.islower():\n",
    "        lower+=1\n",
    "print(\"Total number of upper are {} and lower are {}\".format(upper,lower))"
   ]
  },
  {
   "cell_type": "code",
   "execution_count": 7,
   "id": "6b7bdcea-be3e-429b-8443-501c901bcb68",
   "metadata": {},
   "outputs": [
    {
     "name": "stdout",
     "output_type": "stream",
     "text": [
      "Provided sent: Hello world!\n",
      "upper case: 1\n",
      "Lower case: 9\n"
     ]
    }
   ],
   "source": [
    "d = {\"upper_case\":0,\"Lower_case\":0}\n",
    "for i in sent:\n",
    "    if i.isupper():\n",
    "        d[\"upper_case\"]+=1\n",
    "    if i.islower():\n",
    "        d[\"Lower_case\"]+=1\n",
    "    else:\n",
    "        pass\n",
    "print(\"Provided sent:\",sent)\n",
    "print(\"upper case:\",d[\"upper_case\"])\n",
    "print(\"Lower case:\",d[\"Lower_case\"])"
   ]
  },
  {
   "cell_type": "code",
   "execution_count": null,
   "id": "600994c2-b97d-4c00-b7e4-1ee00ddcd95d",
   "metadata": {},
   "outputs": [],
   "source": []
  },
  {
   "cell_type": "code",
   "execution_count": null,
   "id": "646494bb-0f0b-45dd-821d-3b2b4748573d",
   "metadata": {},
   "outputs": [],
   "source": []
  }
 ],
 "metadata": {
  "kernelspec": {
   "display_name": "Python 3 (ipykernel)",
   "language": "python",
   "name": "python3"
  },
  "language_info": {
   "codemirror_mode": {
    "name": "ipython",
    "version": 3
   },
   "file_extension": ".py",
   "mimetype": "text/x-python",
   "name": "python",
   "nbconvert_exporter": "python",
   "pygments_lexer": "ipython3",
   "version": "3.11.9"
  }
 },
 "nbformat": 4,
 "nbformat_minor": 5
}
