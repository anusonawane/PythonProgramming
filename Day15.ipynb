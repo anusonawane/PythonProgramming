{
 "cells": [
  {
   "cell_type": "markdown",
   "id": "220badd2-9320-490c-869b-e219168521e0",
   "metadata": {},
   "source": [
    "text = \"Hello World\"\n",
    "\n",
    "# Expected output:\n",
    "# {'h': 1, 'e': 1, 'l': 3, 'o': 2, 'w': 1, 'r': 1, 'd': 1}\n"
   ]
  },
  {
   "cell_type": "code",
   "execution_count": 1,
   "id": "616e6e86-5575-4847-b4f1-d5bd22101984",
   "metadata": {},
   "outputs": [
    {
     "name": "stdout",
     "output_type": "stream",
     "text": [
      "{'h': 1, 'e': 1, 'l': 3, 'o': 2, 'w': 1, 'r': 1, 'd': 1}\n"
     ]
    }
   ],
   "source": [
    "def letter_frequency(text):\n",
    "    text = text.replace(\" \", \"\").lower()\n",
    "    frequency = {}\n",
    "    \n",
    "    for char in text:\n",
    "        if char in frequency:\n",
    "            frequency[char] += 1  \n",
    "        else:\n",
    "            frequency[char] = 1  \n",
    "    \n",
    "    return frequency\n",
    "\n",
    "\n",
    "text = \"Hello World\"\n",
    "output = letter_frequency(text)\n",
    "print(output)\n"
   ]
  },
  {
   "cell_type": "code",
   "execution_count": null,
   "id": "9406aedd-68b2-4be4-b850-f17418da0c02",
   "metadata": {},
   "outputs": [],
   "source": []
  }
 ],
 "metadata": {
  "kernelspec": {
   "display_name": "Python 3 (ipykernel)",
   "language": "python",
   "name": "python3"
  },
  "language_info": {
   "codemirror_mode": {
    "name": "ipython",
    "version": 3
   },
   "file_extension": ".py",
   "mimetype": "text/x-python",
   "name": "python",
   "nbconvert_exporter": "python",
   "pygments_lexer": "ipython3",
   "version": "3.11.9"
  }
 },
 "nbformat": 4,
 "nbformat_minor": 5
}
