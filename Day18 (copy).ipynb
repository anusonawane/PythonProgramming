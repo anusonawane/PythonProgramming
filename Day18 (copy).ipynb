{
 "cells": [
  {
   "cell_type": "raw",
   "id": "749c0cc7-346a-41ec-a327-b84ec5f6a736",
   "metadata": {},
   "source": [
    "given a list of integers where every integer appears exactly twice except for one integer, which appears only once. Write a Python function to find that single integer that appears once.\n",
    "Input: nums = [2, 2, 1, 4, 4, 5, 5]\n",
    "Output: 1\n",
    "\n"
   ]
  },
  {
   "cell_type": "code",
   "execution_count": 1,
   "id": "62b993b7-fdb8-44ca-ba09-a0f2d4374599",
   "metadata": {},
   "outputs": [],
   "source": [
    "nums = [2, 2, 1, 4, 4, 5, 5]"
   ]
  },
  {
   "cell_type": "code",
   "execution_count": 2,
   "id": "0b5dc95c-3091-426a-9acb-f2453e1050fc",
   "metadata": {},
   "outputs": [
    {
     "name": "stdout",
     "output_type": "stream",
     "text": [
      "1\n"
     ]
    }
   ],
   "source": [
    "nums2 = [2, 2, 1, 4, 4, 5, 5]\n",
    "for i in nums:\n",
    "    if i in nums2:\n",
    "        nums2.pop(i)\n",
    "    else:\n",
    "        print(i)\n",
    "        break\n"
   ]
  },
  {
   "cell_type": "code",
   "execution_count": null,
   "id": "34c3ec1c-22f7-4c53-9db6-d75a32c788c5",
   "metadata": {},
   "outputs": [],
   "source": []
  },
  {
   "cell_type": "code",
   "execution_count": null,
   "id": "1b2f23b2-db46-4e34-8941-4c658aca8406",
   "metadata": {},
   "outputs": [],
   "source": []
  }
 ],
 "metadata": {
  "kernelspec": {
   "display_name": "Python 3 (ipykernel)",
   "language": "python",
   "name": "python3"
  },
  "language_info": {
   "codemirror_mode": {
    "name": "ipython",
    "version": 3
   },
   "file_extension": ".py",
   "mimetype": "text/x-python",
   "name": "python",
   "nbconvert_exporter": "python",
   "pygments_lexer": "ipython3",
   "version": "3.11.9"
  }
 },
 "nbformat": 4,
 "nbformat_minor": 5
}
