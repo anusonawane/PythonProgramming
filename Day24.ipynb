{
 "cells": [
  {
   "cell_type": "raw",
   "id": "da942433-6a09-442e-a2a0-47df07d8446d",
   "metadata": {},
   "source": [
    " Creating a Pivot Table"
   ]
  },
  {
   "cell_type": "code",
   "execution_count": null,
   "id": "df3dbca5-c0c3-423d-a305-fd6f589b5544",
   "metadata": {},
   "outputs": [],
   "source": []
  },
  {
   "cell_type": "code",
   "execution_count": 1,
   "id": "04c1f7bc-20cb-49db-824c-579e4e4629f2",
   "metadata": {},
   "outputs": [],
   "source": [
    "import pandas as pd\n",
    "\n",
    "data = {\n",
    "    'department': ['Sales', 'Sales', 'IT', 'HR', 'HR', 'IT', 'Sales'],\n",
    "    'employee': ['Alice', 'Bob', 'Charlie', 'David', 'Eva', 'Frank', 'Grace'],\n",
    "    'region': ['East', 'West', 'East', 'West', 'East', 'West', 'East'],\n",
    "    'salary': [70000, 60000, 90000, 50000, 55000, 85000, 75000],\n",
    "    'bonus': [5000, 3000, 8000, 2000, 2500, 7000, 4000]\n",
    "}\n",
    "\n",
    "df = pd.DataFrame(data)\n"
   ]
  },
  {
   "cell_type": "code",
   "execution_count": null,
   "id": "de9bc135-09e4-4d61-8c59-3c7487091d23",
   "metadata": {},
   "outputs": [],
   "source": []
  },
  {
   "cell_type": "raw",
   "id": "5f38c1a4-d2ee-471f-8a66-7c1519c8d81a",
   "metadata": {},
   "source": [
    "Average Salary per Department and Region"
   ]
  },
  {
   "cell_type": "code",
   "execution_count": 2,
   "id": "c1a0abd2-4e57-4d7f-adaf-979e4f754b24",
   "metadata": {},
   "outputs": [
    {
     "name": "stdout",
     "output_type": "stream",
     "text": [
      "region         East     West\n",
      "department                  \n",
      "HR          55000.0  50000.0\n",
      "IT          90000.0  85000.0\n",
      "Sales       72500.0  60000.0\n"
     ]
    }
   ],
   "source": [
    "pivot = pd.pivot_table(df, values='salary', index='department', columns='region', aggfunc='mean')\n",
    "print(pivot)\n"
   ]
  },
  {
   "cell_type": "code",
   "execution_count": null,
   "id": "1712ece3-d541-4d12-a0e8-57f9d5a5aa2f",
   "metadata": {},
   "outputs": [],
   "source": []
  }
 ],
 "metadata": {
  "kernelspec": {
   "display_name": "Python 3 (ipykernel)",
   "language": "python",
   "name": "python3"
  },
  "language_info": {
   "codemirror_mode": {
    "name": "ipython",
    "version": 3
   },
   "file_extension": ".py",
   "mimetype": "text/x-python",
   "name": "python",
   "nbconvert_exporter": "python",
   "pygments_lexer": "ipython3",
   "version": "3.11.9"
  }
 },
 "nbformat": 4,
 "nbformat_minor": 5
}
