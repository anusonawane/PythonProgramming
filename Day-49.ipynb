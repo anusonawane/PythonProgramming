{
 "cells": [
  
   "cell_type": "code",
   "execution_count": 1, 
   "id": "50e081cf-bea0-4174-aa92-d09cb0039890",
   "metadata": {},
   "outputs": [
    {
     "data": {
      "text/plain": [
       "'\\nThe try block lets you test a block of code for errors.\\n\\nThe except block lets you handle the error.\\n\\nThe else block lets you execute code when there is no error.\\n\\nThe finally block lets you execute code, regardless of the result of the try- and except blocks.\\n'"
      ]
     },
     "execution_count": 1,
     "metadata": {},
     "output_type": "execute_result"
    }
   ],
   "source": [
    "# Try Except \n",
    "\"\"\"\n",
    "The try block lets you test a block of code for errors.\n",
    "\n",
    "The except block lets you handle the error.\n",
    "\n",
    "The else block lets you execute code when there is no error.\n",
    "\n",
    "The finally block lets you execute code, regardless of the result of the try- and except blocks.\n",
    "\"\"\""
   ]
  },
  {
   "cell_type": "code",
   "execution_count": 2,
   "id": "f91d3289-186e-41aa-9a75-9bbe4a8d9947",
   "metadata": {},
   "outputs": [
    {
     "data": {
      "text/plain": [
       "'\\ntry:\\n    # Code that may raise an exception\\n    risky_code()\\nexcept SomeExceptionType:\\n    # Code to handle the exception\\n    handle_exception()\\n'"
      ]
     },
     "execution_count": 2,
     "metadata": {},
     "output_type": "execute_result"
    }
   ],
   "source": [
    "\"\"\"\n",
    "try:\n",
    "    # Code that may raise an exception\n",
    "    risky_code()\n",
    "except SomeExceptionType:\n",
    "    # Code to handle the exception\n",
    "    handle_exception()\n",
    "\"\"\""
   ]
  },
  {
   "cell_type": "code",
   "execution_count": 5,
   "id": "7b08f5a3-3e08-4477-9873-2b30183696d0",
   "metadata": {},
   "outputs": [
    {
     "name": "stdin",
     "output_type": "stream",
     "text": [
      "enter number  3\n",
      "enter number  0\n"
     ]
    },
    {
     "name": "stdout",
     "output_type": "stream",
     "text": [
      "division by 0 is not allowed\n"
     ]
    }
   ],
   "source": [
    "try :\n",
    "    a = int(input(\"enter number \"))\n",
    "    b = int(input(\"enter number \"))\n",
    "    c = a/b\n",
    "    print(c)\n",
    "except ZeroDivisionError:\n",
    "    print(\"division by 0 is not allowed\")\n"
   ]
  },
  {
   "cell_type": "code",
   "execution_count": 6,
   "id": "064ff46b-bcfa-4624-8204-4332cf2be27e",
   "metadata": {},
   "outputs": [
    {
     "name": "stdin",
     "output_type": "stream",
     "text": [
      "Enter a number:  2\n",
      "Enter another number:  0\n"
     ]
    },
    {
     "name": "stdout",
     "output_type": "stream",
     "text": [
      "An error occurred: division by zero\n"
     ]
    }
   ],
   "source": [
    "try:\n",
    "    x = int(input(\"Enter a number: \"))\n",
    "    y = int(input(\"Enter another number: \"))\n",
    "    print(f\"Result: {x / y}\")\n",
    "except Exception as e:  # Catch any exception and get its details\n",
    "    print(f\"An error occurred: {e}\")"
   ]
  },
  {
   "cell_type": "code",
   "execution_count": 9,
   "id": "a53ae396-1196-45f5-a08f-d90a2de5ced5",
   "metadata": {},
   "outputs": [
    {
     "data": {
      "text/plain": [
       "'\\nWhen to Use try-except\\n1. To handle predictable errors:\\n2. Division by zero.\\n3. File not found.\\n4. Invalid user input.\\n5. To make programs more user-friendly:\\n6. Show custom error messages instead of crashing.\\n7. To clean up resources\\n8. Close files or release locks in the finally block.\\n'"
      ]
     },
     "execution_count": 9,
     "metadata": {},
     "output_type": "execute_result"
    }
   ],
   "source": [
    "# When to use ?\n",
    "\"\"\"\n",
    "When to Use try-except\n",
    "1. To handle predictable errors:\n",
    "2. Division by zero.\n",
    "3. File not found.\n",
    "4. Invalid user input.\n",
    "5. To make programs more user-friendly:\n",
    "6. Show custom error messages instead of crashing.\n",
    "7. To clean up resources\n",
    "8. Close files or release locks in the finally block.\n",
    "\"\"\""
   ]
  },
  {
   "cell_type": "code",
   "execution_count": 21,
   "id": "44eb18b7-19f3-4352-a463-0ced1ecde72b",
   "metadata": {},
   "outputs": [
    {
     "name": "stdout",
     "output_type": "stream",
     "text": [
      "The average of the numbers is: 3.5\n"
     ]
    }
   ],
   "source": [
    "# Example\n",
    "try:\n",
    "    with open(\"example.txt\" ,\"r\") as file:\n",
    "        lines = file.readlines()\n",
    "\n",
    "    if not lines:\n",
    "        raise ValueError(\"The file is empty.\")\n",
    "    else:\n",
    "        numbers = [float(line.strip()) for line in lines]\n",
    "        average = sum(numbers) / len(numbers)\n",
    "        print(f\"The average of the numbers is: {average}\")\n",
    "\n",
    "\n",
    "except Exception as e:\n",
    "    print(f\"an error occured {e}\")"
   ]
  },
  {
   "cell_type": "code",
   "execution_count": null,
   "id": "ec915b4a-a39b-435d-9533-e34bc6ea280d",
   "metadata": {},
   "outputs": [],
   "source": []
  }
 ],
 "metadata": {
  "kernelspec": {
   "display_name": "Python 3 (ipykernel)",
   "language": "python",
   "name": "python3"
  },
  "language_info": {
   "codemirror_mode": {
    "name": "ipython",
    "version": 3
   }, 
   "file_extension": ".py",
   "mimetype": "text/x-python",
   "name": "python",
   "nbconvert_exporter": "python",
   "pygments_lexer": "ipython3",
   "version": "3.11.9"
  }
 },
 "nbformat": 4,
 "nbformat_minor": 5
}
