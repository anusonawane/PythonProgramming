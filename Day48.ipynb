{
 "cells": [
  {
   "cell_type": "code",
   "execution_count": 1,
   "id": "f769cd4b-5f47-4ef0-9986-596971fc04c9",
   "metadata": {},
   "outputs": [],
   "source": [
    "# Python data types\n",
    "# data structures can be used to store the variables, can be of same types, can be of different types"
   ]
  },
  {
   "cell_type": "code",
   "execution_count": 2,
   "id": "09331a78-244a-4d99-8a24-f684436d1f88",
   "metadata": {},
   "outputs": [
    {
     "name": "stdout",
     "output_type": "stream",
     "text": [
      "['Engineer', 26, 62.36]\n"
     ]
    }
   ],
   "source": [
    "# 1. List\n",
    "# Lists are ordered, mutable and can be of mix data types\n",
    "\n",
    "fruits = [\"Orange\", \"Banana\", \"Apple\", \"Cherry\"]   # of same data type\n",
    "bio_data = [\"Engineer\",26, 62.36]  # of different data type\n",
    "print(bio_data)"
   ]
  },
  {
   "cell_type": "code",
   "execution_count": 4,
   "id": "5ab36f06-f636-454e-bfc0-c34781bd00fc",
   "metadata": {},
   "outputs": [
    {
     "name": "stdout",
     "output_type": "stream",
     "text": [
      "['chinmay', 'chinmay']\n"
     ]
    }
   ],
   "source": [
    "# Lists are indexed so they can have duplicate evalues\n",
    "\n",
    "dup_list = [\"chinmay\", \"chinmay\"]\n",
    "print(dup_list)"
   ]
  },
  {
   "cell_type": "code",
   "execution_count": 6,
   "id": "f3e9ad27-f571-4e49-b66a-2a1422245246",
   "metadata": {},
   "outputs": [
    {
     "name": "stdout",
     "output_type": "stream",
     "text": [
      "('Chinmay', 'Chinmay', 33, 6.776)\n"
     ]
    }
   ],
   "source": [
    "# 2. Tuples\n",
    "# Tuples are ordered and immutable and can be of mix data types\n",
    "# Tuples can have duplicates \n",
    "\n",
    "tuple_example = (\"Chinmay\", \"Chinmay\",33,6.776)\n",
    "print(tuple_example)"
   ]
  },
  {
   "cell_type": "code",
   "execution_count": 8,
   "id": "bb039e41-8cff-4d85-b07f-18096647d65e",
   "metadata": {},
   "outputs": [
    {
     "name": "stdout",
     "output_type": "stream",
     "text": [
      "{'bhalerao', 'chinmay'}\n"
     ]
    }
   ],
   "source": [
    "# 3. Sets\n",
    "# Sets are unordered and some times unchangable and indexed\n",
    "# Duplicates are not allowed\n",
    "\n",
    "Set = {\"chinmay\", \"chinmay\", \"bhalerao\"}\n",
    "print(Set)"
   ]
  },
  {
   "cell_type": "code",
   "execution_count": 9,
   "id": "3e591a58-d6bc-4295-adb7-2f42da949846",
   "metadata": {},
   "outputs": [
    {
     "name": "stdout",
     "output_type": "stream",
     "text": [
      "{'Chinmay': 'Bhalerao'}\n"
     ]
    }
   ],
   "source": [
    "# 4. Dicts\n",
    "# Dicts are ordered, changable and do not allow duplicates\n",
    "\n",
    "D = {\"Chinmay\":\"Bhalerao\"}\n",
    "print(D)"
   ]
  },
  {
   "cell_type": "code",
   "execution_count": 12,
   "id": "ec5e4c8f-d5ea-4555-8a73-a73953820a64",
   "metadata": {},
   "outputs": [
    {
     "data": {
      "text/plain": [
       "dict_values(['chinmay', 26, 'xyz@gmail.com'])"
      ]
     },
     "execution_count": 12,
     "metadata": {},
     "output_type": "execute_result"
    }
   ],
   "source": [
    "# Dict have key and value pairs\n",
    "\n",
    "bio = {\"name\":\"chinmay\",\n",
    "       \"Age\":26,\n",
    "       \"mail\":\"xyz@gmail.com\"}\n",
    "\n",
    "# Accessing keys and values\n",
    "bio[\"name\"]\n",
    "bio.keys()\n",
    "bio.values()"
   ]
  },
  {
   "cell_type": "code",
   "execution_count": 13,
   "id": "ce8d009b-d1fa-4417-8818-2222024794af",
   "metadata": {},
   "outputs": [],
   "source": [
    "############################################################################################################################\n",
    "############################################################################################################################\n",
    "############################################################################################################################"
   ]
  },
  {
   "cell_type": "code",
   "execution_count": null,
   "id": "c33b2ad4-a781-4fcc-8d95-74068ded8660",
   "metadata": {},
   "outputs": [],
   "source": [
    "List operations "
   ]
  },
  {
   "cell_type": "code",
   "execution_count": 16,
   "id": "eb180478-aac6-4e75-b866-2e6e8f8ba8e1",
   "metadata": {},
   "outputs": [
    {
     "data": {
      "text/plain": [
       "'chinmay'"
      ]
     },
     "execution_count": 16,
     "metadata": {},
     "output_type": "execute_result"
    }
   ],
   "source": [
    "l1 = [\"chinmay\", \"mangesh\",\"bhalerao\"]\n",
    "\n",
    "## can index and can call by index\n",
    "l1[0]"
   ]
  },
  {
   "cell_type": "code",
   "execution_count": 17,
   "id": "f0ffb4db-01a1-4de8-b8cb-c13f00ad1545",
   "metadata": {},
   "outputs": [
    {
     "data": {
      "text/plain": [
       "['chinmay', 'mangesh', 'bhalerao', 'Maths']"
      ]
     },
     "execution_count": 17,
     "metadata": {},
     "output_type": "execute_result"
    }
   ],
   "source": [
    "# adding things at end or quote un-quote appending \n",
    "l1.append(\"Maths\")\n",
    "l1"
   ]
  },
  {
   "cell_type": "code",
   "execution_count": 19,
   "id": "0d517390-ab8e-4aa3-8fa3-f00d12fd99e7",
   "metadata": {},
   "outputs": [],
   "source": [
    "# inserting at particular position\n",
    "l1.insert(3,\"model\")"
   ]
  },
  {
   "cell_type": "code",
   "execution_count": 32,
   "id": "544abedc-f0b1-4f75-a513-6902de01512c",
   "metadata": {},
   "outputs": [
    {
     "data": {
      "text/plain": [
       "['chinmay', 'Pushkar', 'bhalerao', 'Maths']"
      ]
     },
     "execution_count": 32,
     "metadata": {},
     "output_type": "execute_result"
    }
   ],
   "source": [
    "l1"
   ]
  },
  {
   "cell_type": "code",
   "execution_count": 21,
   "id": "4794a5d6-08ba-4617-b843-43d053543b1e",
   "metadata": {},
   "outputs": [
    {
     "data": {
      "text/plain": [
       "['chinmay', 'mangesh', 'bhalerao', 'Maths']"
      ]
     },
     "execution_count": 21,
     "metadata": {},
     "output_type": "execute_result"
    }
   ],
   "source": [
    "# deleting certain index\n",
    "l1.pop(3)\n",
    "l1"
   ]
  },
  {
   "cell_type": "code",
   "execution_count": 31,
   "id": "d2a4cc09-e3ac-4a56-be65-922e3fc447a8",
   "metadata": {},
   "outputs": [],
   "source": [
    "l1[1] = \"Pushkar\""
   ]
  },
  {
   "cell_type": "code",
   "execution_count": 22,
   "id": "aa0c93f3-7d69-430f-b951-a1a96a6078fc",
   "metadata": {},
   "outputs": [
    {
     "data": {
      "text/plain": [
       "'mangesh'"
      ]
     },
     "execution_count": 22,
     "metadata": {},
     "output_type": "execute_result"
    }
   ],
   "source": [
    "# accessing the item \n",
    "l1[1]"
   ]
  },
  {
   "cell_type": "code",
   "execution_count": 23,
   "id": "ea774bfa-2152-4b7b-8061-7214ec9f3549",
   "metadata": {},
   "outputs": [
    {
     "data": {
      "text/plain": [
       "'Maths'"
      ]
     },
     "execution_count": 23,
     "metadata": {},
     "output_type": "execute_result"
    }
   ],
   "source": [
    "l1[-1]"
   ]
  },
  {
   "cell_type": "code",
   "execution_count": 24,
   "id": "fa54dd72-6456-406d-ae00-a18d86d3cf43",
   "metadata": {},
   "outputs": [
    {
     "data": {
      "text/plain": [
       "'bhalerao'"
      ]
     },
     "execution_count": 24,
     "metadata": {},
     "output_type": "execute_result"
    }
   ],
   "source": [
    "l1[-2]"
   ]
  },
  {
   "cell_type": "code",
   "execution_count": 28,
   "id": "28e2164f-3812-4c81-8e85-c6edc98279d6",
   "metadata": {},
   "outputs": [
    {
     "data": {
      "text/plain": [
       "['mangesh', 'bhalerao', 'Maths']"
      ]
     },
     "execution_count": 28,
     "metadata": {},
     "output_type": "execute_result"
    }
   ],
   "source": [
    "# indexing particular values\n",
    "l1[1:4]"
   ]
  },
  {
   "cell_type": "code",
   "execution_count": 29,
   "id": "0f35db15-0563-4ae9-82f9-d8a5fa28a915",
   "metadata": {},
   "outputs": [
    {
     "data": {
      "text/plain": [
       "['bhalerao', 'Maths']"
      ]
     },
     "execution_count": 29,
     "metadata": {},
     "output_type": "execute_result"
    }
   ],
   "source": [
    "l1[2:]"
   ]
  },
  {
   "cell_type": "code",
   "execution_count": 30,
   "id": "f01621e6-f2fa-4168-8876-0828fa0cb194",
   "metadata": {},
   "outputs": [
    {
     "data": {
      "text/plain": [
       "['chinmay', 'mangesh']"
      ]
     },
     "execution_count": 30,
     "metadata": {},
     "output_type": "execute_result"
    }
   ],
   "source": [
    "l1[:2]"
   ]
  },
  {
   "cell_type": "code",
   "execution_count": 33,
   "id": "1c3d7144-7cbd-4124-86de-bc64bab6881e",
   "metadata": {},
   "outputs": [
    {
     "data": {
      "text/plain": [
       "['apple', 'banana', 'cherry', 'mango', 'pineapple', 'papaya']"
      ]
     },
     "execution_count": 33,
     "metadata": {},
     "output_type": "execute_result"
    }
   ],
   "source": [
    "thislist = [\"apple\", \"banana\", \"cherry\"]\n",
    "tropical = [\"mango\", \"pineapple\", \"papaya\"]\n",
    "\n",
    "thislist.extend(tropical)\n",
    "thislist"
   ]
  },
  {
   "cell_type": "code",
   "execution_count": 37,
   "id": "efc612a4-a7d9-4608-959d-fd3cf00aaf81",
   "metadata": {},
   "outputs": [
    {
     "data": {
      "text/plain": [
       "['apple', 'banana', 'cherry', 'kiwi', 'orange']"
      ]
     },
     "execution_count": 37,
     "metadata": {},
     "output_type": "execute_result"
    }
   ],
   "source": [
    "thislist = [\"apple\", \"banana\", \"cherry\"]\n",
    "thistuple = (\"kiwi\", \"orange\")\n",
    "thislist.extend(thistuple)\n",
    "thislist"
   ]
  },
  {
   "cell_type": "code",
   "execution_count": 35,
   "id": "70e468b6-0b8e-494f-b48c-5c6cb25d9b32",
   "metadata": {},
   "outputs": [
    {
     "name": "stdout",
     "output_type": "stream",
     "text": [
      "['banana', 'cherry', 'kiwi', 'orange']\n"
     ]
    }
   ],
   "source": [
    "# deleting item from list\n",
    "del thislist[0]\n",
    "print(thislist)"
   ]
  },
  {
   "cell_type": "code",
   "execution_count": 36,
   "id": "7b730694-c12b-47e0-b14e-59d288503056",
   "metadata": {},
   "outputs": [
    {
     "data": {
      "text/plain": [
       "[]"
      ]
     },
     "execution_count": 36,
     "metadata": {},
     "output_type": "execute_result"
    }
   ],
   "source": [
    "thislist.clear()\n",
    "thislist"
   ]
  },
  {
   "cell_type": "code",
   "execution_count": 42,
   "id": "a65dd684-d533-468d-b9aa-8daa6b8e6d1c",
   "metadata": {},
   "outputs": [
    {
     "data": {
      "text/plain": [
       "['orange', 'kiwi', 'cherry', 'banana', 'apple']"
      ]
     },
     "execution_count": 42,
     "metadata": {},
     "output_type": "execute_result"
    }
   ],
   "source": [
    "# Sorting the list\n",
    "thislist.sort(reverse = True)\n",
    "thislist"
   ]
  },
  {
   "cell_type": "code",
   "execution_count": 43,
   "id": "0190a3d1-6ec2-49bc-a0a1-5e6b55c85665",
   "metadata": {},
   "outputs": [
    {
     "data": {
      "text/plain": [
       "['orange', 'kiwi', 'cherry', 'banana', 'apple']"
      ]
     },
     "execution_count": 43,
     "metadata": {},
     "output_type": "execute_result"
    }
   ],
   "source": [
    "# Copying list\n",
    "new_list = thislist.copy()\n",
    "new_list"
   ]
  },
  {
   "cell_type": "code",
   "execution_count": null,
   "id": "5bed5395-2b81-48a2-9485-bf392bc2f544",
   "metadata": {},
   "outputs": [],
   "source": [
    "######################################################################################"
   ]
  },
  {
   "cell_type": "code",
   "execution_count": null,
   "id": "e34f888d-8d64-4a05-a492-8fc4ee7d23a1",
   "metadata": {},
   "outputs": [],
   "source": [
    "# Sets"
   ]
  },
  {
   "cell_type": "code",
   "execution_count": 44,
   "id": "8b485cae-72b5-49bd-ab79-d98449c150b2",
   "metadata": {},
   "outputs": [
    {
     "data": {
      "text/plain": [
       "{'apple', 'banana', 'cherry', 'dddd'}"
      ]
     },
     "execution_count": 44,
     "metadata": {},
     "output_type": "execute_result"
    }
   ],
   "source": [
    "# adding element in set\n",
    "thisset = {\"apple\", \"banana\", \"cherry\"}\n",
    "\n",
    "thisset.add(\"dddd\")\n",
    "thisset"
   ]
  },
  {
   "cell_type": "code",
   "execution_count": 45,
   "id": "a2ea9fe8-39bd-4050-9e57-03763eae7ba8",
   "metadata": {},
   "outputs": [
    {
     "data": {
      "text/plain": [
       "{'apple', 'banana', 'cherry', 'kiwi', 'orange'}"
      ]
     },
     "execution_count": 45,
     "metadata": {},
     "output_type": "execute_result"
    }
   ],
   "source": [
    "thisset = {\"apple\", \"banana\", \"cherry\"}\n",
    "mylist = [\"kiwi\", \"orange\"]\n",
    "thisset.update(mylist)\n",
    "thisset"
   ]
  },
  {
   "cell_type": "code",
   "execution_count": 46,
   "id": "5367f0f4-8a63-4561-84e9-61b4b7f7b5d1",
   "metadata": {},
   "outputs": [
    {
     "data": {
      "text/plain": [
       "{'banana', 'cherry', 'kiwi', 'orange'}"
      ]
     },
     "execution_count": 46,
     "metadata": {},
     "output_type": "execute_result"
    }
   ],
   "source": [
    "# remove element from set\n",
    "thisset.remove(\"apple\")\n",
    "thisset"
   ]
  },
  {
   "cell_type": "code",
   "execution_count": 47,
   "id": "9631c01f-d605-4dc0-88d5-d425a1cdfd10",
   "metadata": {},
   "outputs": [
    {
     "data": {
      "text/plain": [
       "{'cherry', 'kiwi', 'orange'}"
      ]
     },
     "execution_count": 47,
     "metadata": {},
     "output_type": "execute_result"
    }
   ],
   "source": [
    "thisset.discard(\"banana\")\n",
    "thisset"
   ]
  },
  {
   "cell_type": "code",
   "execution_count": 48,
   "id": "2bcb2056-d449-47e8-8655-541ef27d876f",
   "metadata": {},
   "outputs": [
    {
     "data": {
      "text/plain": [
       "'orange'"
      ]
     },
     "execution_count": 48,
     "metadata": {},
     "output_type": "execute_result"
    }
   ],
   "source": [
    "x = thisset.pop()\n",
    "x"
   ]
  },
  {
   "cell_type": "code",
   "execution_count": 49,
   "id": "57cbd6cb-5693-40b9-b234-41ead713d4ba",
   "metadata": {},
   "outputs": [],
   "source": [
    "# to empty the set\n",
    "thisset.clear()\n",
    "del thisset"
   ]
  },
  {
   "cell_type": "code",
   "execution_count": 51,
   "id": "eee1495b-edb2-4228-9e10-4a2e306a4798",
   "metadata": {},
   "outputs": [
    {
     "data": {
      "text/plain": [
       "{1, 2, 3, 'a', 'b', 'c'}"
      ]
     },
     "execution_count": 51,
     "metadata": {},
     "output_type": "execute_result"
    }
   ],
   "source": [
    "# join 2 sets\n",
    "set1 = {\"a\", \"b\", \"c\"}\n",
    "set2 = {1, 2, 3}\n",
    "\n",
    "e = set1.union(set2)\n",
    "e"
   ]
  },
  {
   "cell_type": "code",
   "execution_count": 53,
   "id": "b7c722dd-c487-4f02-bb5b-6c4cbad2eb19",
   "metadata": {},
   "outputs": [
    {
     "data": {
      "text/plain": [
       "{1, 2, 3, 'a', 'b', 'c'}"
      ]
     },
     "execution_count": 53,
     "metadata": {},
     "output_type": "execute_result"
    }
   ],
   "source": [
    "# join 2 sets\n",
    "set1 = {\"a\", \"b\", \"c\"}\n",
    "set2 = {1, 2, 3}\n",
    "f = set1 | set2\n",
    "f"
   ]
  },
  {
   "cell_type": "code",
   "execution_count": 55,
   "id": "8f0817e3-360d-44d6-9702-e3ce7981e37c",
   "metadata": {},
   "outputs": [
    {
     "data": {
      "text/plain": [
       "{1, 2, 3, 'Elena', 'John', 'a', 'b', 'c'}"
      ]
     },
     "execution_count": 55,
     "metadata": {},
     "output_type": "execute_result"
    }
   ],
   "source": [
    "set1 = {\"a\", \"b\", \"c\"}\n",
    "set2 = {1, 2, 3}\n",
    "set3 = {\"John\", \"Elena\"}\n",
    "set4 = {\"apple\", \"bananas\", \"cherry\"}\n",
    "\n",
    "g = set1.union(set2, set3, set3)\n",
    "g"
   ]
  },
  {
   "cell_type": "code",
   "execution_count": null,
   "id": "6192a86f-2bfe-487f-921a-d3744f2d200b",
   "metadata": {},
   "outputs": [],
   "source": [
    "#######################################################################################################################"
   ]
  },
  {
   "cell_type": "code",
   "execution_count": null,
   "id": "44b02d50-dfca-486a-b00c-02c20d471c3e",
   "metadata": {},
   "outputs": [],
   "source": [
    "# Dicts"
   ]
  },
  {
   "cell_type": "code",
   "execution_count": 56,
   "id": "8cc15d4e-de2d-49ae-8847-b42d55319c6b",
   "metadata": {},
   "outputs": [
    {
     "name": "stdout",
     "output_type": "stream",
     "text": [
      "{'name': 'Chinmay', 'age': 8, 'Working': 'yes'}\n"
     ]
    }
   ],
   "source": [
    "# Access dict items\n",
    "\n",
    "user_details = {\"name\":\"Chinmay\",\n",
    "                \"age\":8,\n",
    "                \"Working\":\"yes\"}\n",
    "print(user_details)"
   ]
  },
  {
   "cell_type": "code",
   "execution_count": 57,
   "id": "5fb6d358-2691-4d32-988d-918149cff339",
   "metadata": {},
   "outputs": [
    {
     "name": "stdout",
     "output_type": "stream",
     "text": [
      "8\n"
     ]
    }
   ],
   "source": [
    "print(user_details[\"age\"])"
   ]
  },
  {
   "cell_type": "code",
   "execution_count": 62,
   "id": "c76bf41c-573f-460e-a2f8-10acd132ca45",
   "metadata": {},
   "outputs": [
    {
     "data": {
      "text/plain": [
       "3"
      ]
     },
     "execution_count": 62,
     "metadata": {},
     "output_type": "execute_result"
    }
   ],
   "source": [
    "len(user_details)"
   ]
  },
  {
   "cell_type": "code",
   "execution_count": 63,
   "id": "cac87700-fd13-416b-9f77-03a87a8fa28f",
   "metadata": {},
   "outputs": [],
   "source": [
    "user_details = {\"name\":\"Chinmay\",\n",
    "                \"age\":8,\n",
    "                \"Working\":\"yes\",\n",
    "               \"degree\":[\"HSC\",\"Graduate\",\"post graduate\"]}"
   ]
  },
  {
   "cell_type": "code",
   "execution_count": 64,
   "id": "e30f785b-253c-4f89-8545-0af2bb50267e",
   "metadata": {},
   "outputs": [
    {
     "name": "stdout",
     "output_type": "stream",
     "text": [
      "{'name': 'Chinmay', 'age': 8, 'Working': 'yes', 'degree': ['HSC', 'Graduate', 'post graduate']}\n"
     ]
    }
   ],
   "source": [
    "print(user_details)"
   ]
  },
  {
   "cell_type": "code",
   "execution_count": 65,
   "id": "5c476649-ca7f-497b-9c12-f4ccaa741730",
   "metadata": {},
   "outputs": [
    {
     "data": {
      "text/plain": [
       "'Chinmay'"
      ]
     },
     "execution_count": 65,
     "metadata": {},
     "output_type": "execute_result"
    }
   ],
   "source": [
    "name = user_details[\"name\"]\n",
    "name"
   ]
  },
  {
   "cell_type": "code",
   "execution_count": 66,
   "id": "1ef27afd-3136-4508-bc0a-fd488e151b12",
   "metadata": {},
   "outputs": [
    {
     "data": {
      "text/plain": [
       "'Chinmay'"
      ]
     },
     "execution_count": 66,
     "metadata": {},
     "output_type": "execute_result"
    }
   ],
   "source": [
    "name = user_details.get(\"name\")\n",
    "name"
   ]
  },
  {
   "cell_type": "code",
   "execution_count": 67,
   "id": "17381eed-5c2e-4bb2-9e7c-85c3b82e1528",
   "metadata": {},
   "outputs": [
    {
     "data": {
      "text/plain": [
       "dict_keys(['name', 'age', 'Working', 'degree'])"
      ]
     },
     "execution_count": 67,
     "metadata": {},
     "output_type": "execute_result"
    }
   ],
   "source": [
    "user_details.keys()"
   ]
  },
  {
   "cell_type": "code",
   "execution_count": 68,
   "id": "28abf13e-9eb9-44db-8038-54bfea200a8b",
   "metadata": {},
   "outputs": [
    {
     "data": {
      "text/plain": [
       "dict_values(['Chinmay', 8, 'yes', ['HSC', 'Graduate', 'post graduate']])"
      ]
     },
     "execution_count": 68,
     "metadata": {},
     "output_type": "execute_result"
    }
   ],
   "source": [
    "user_details.values()"
   ]
  },
  {
   "cell_type": "code",
   "execution_count": 69,
   "id": "e0067ce4-9562-40a8-a867-85d62f2f8881",
   "metadata": {},
   "outputs": [],
   "source": [
    "user_details[\"married\"] = None"
   ]
  },
  {
   "cell_type": "code",
   "execution_count": 70,
   "id": "b1cee58a-e580-4a04-b230-ad3f83ba8f1c",
   "metadata": {},
   "outputs": [
    {
     "data": {
      "text/plain": [
       "{'name': 'Chinmay',\n",
       " 'age': 8,\n",
       " 'Working': 'yes',\n",
       " 'degree': ['HSC', 'Graduate', 'post graduate'],\n",
       " 'married': None}"
      ]
     },
     "execution_count": 70,
     "metadata": {},
     "output_type": "execute_result"
    }
   ],
   "source": [
    "user_details"
   ]
  },
  {
   "cell_type": "code",
   "execution_count": 72,
   "id": "0ef153a3-28fd-4742-b27c-6757abb0a52a",
   "metadata": {},
   "outputs": [
    {
     "data": {
      "text/plain": [
       "{'name': 'Chinmay',\n",
       " 'age': 25,\n",
       " 'Working': 'yes',\n",
       " 'degree': ['HSC', 'Graduate', 'post graduate'],\n",
       " 'married': None}"
      ]
     },
     "execution_count": 72,
     "metadata": {},
     "output_type": "execute_result"
    }
   ],
   "source": [
    "user_details[\"age\"] = 25\n",
    "user_details"
   ]
  },
  {
   "cell_type": "code",
   "execution_count": 74,
   "id": "3b9797a3-4673-431d-a94e-04bf3eae378f",
   "metadata": {},
   "outputs": [
    {
     "data": {
      "text/plain": [
       "dict_items([('name', 'Chinmay'), ('age', 25), ('Working', 'yes'), ('degree', ['HSC', 'Graduate', 'post graduate']), ('married', None)])"
      ]
     },
     "execution_count": 74,
     "metadata": {},
     "output_type": "execute_result"
    }
   ],
   "source": [
    "user_details.items()"
   ]
  },
  {
   "cell_type": "code",
   "execution_count": 75,
   "id": "031c7539-1e0f-4d8e-be95-9504bd150775",
   "metadata": {},
   "outputs": [
    {
     "data": {
      "text/plain": [
       "{'name': 'Chinmay',\n",
       " 'age': 25,\n",
       " 'Working': 'yes',\n",
       " 'degree': ['HSC', 'Graduate', 'post graduate'],\n",
       " 'married': 'No'}"
      ]
     },
     "execution_count": 75,
     "metadata": {},
     "output_type": "execute_result"
    }
   ],
   "source": [
    "user_details.update({\"married\":\"No\"})\n",
    "user_details"
   ]
  },
  {
   "cell_type": "code",
   "execution_count": null,
   "id": "14fdeea6-4c22-43d3-b7d2-a71464be018c",
   "metadata": {},
   "outputs": [],
   "source": [
    "user_details.pop(\"married\")\n"
   ]
  },
  {
   "cell_type": "code",
   "execution_count": 79,
   "id": "bfc22364-aac6-4cbe-b4ec-6bb0ea16956b",
   "metadata": {},
   "outputs": [
    {
     "name": "stdout",
     "output_type": "stream",
     "text": [
      "name\n",
      "age\n",
      "Working\n",
      "degree\n"
     ]
    }
   ],
   "source": [
    "# Loop through dict\n",
    "for i in user_details:\n",
    "    print(i)"
   ]
  },
  {
   "cell_type": "code",
   "execution_count": 80,
   "id": "450864a1-18ce-4f90-91e2-462bf1cc306b",
   "metadata": {},
   "outputs": [
    {
     "name": "stdout",
     "output_type": "stream",
     "text": [
      "Chinmay\n",
      "25\n",
      "yes\n",
      "['HSC', 'Graduate', 'post graduate']\n"
     ]
    }
   ],
   "source": [
    "for i in user_details:\n",
    "    print(user_details[i])"
   ]
  },
  {
   "cell_type": "code",
   "execution_count": 82,
   "id": "e757559c-1127-4762-9aae-079df6310c21",
   "metadata": {},
   "outputs": [
    {
     "name": "stdout",
     "output_type": "stream",
     "text": [
      "name : Chinmay\n",
      "age : 25\n",
      "Working : yes\n",
      "degree : ['HSC', 'Graduate', 'post graduate']\n"
     ]
    }
   ],
   "source": [
    "for x,y in user_details.items():\n",
    "    print(x,\":\",y)"
   ]
  },
  {
   "cell_type": "code",
   "execution_count": 83,
   "id": "1e45d0f0-e2aa-4e72-a677-139acbd1baf4",
   "metadata": {},
   "outputs": [],
   "source": [
    "myfamily = {\n",
    "  \"child1\" : {\n",
    "    \"name\" : \"Emil\",\n",
    "    \"year\" : 2004\n",
    "  },\n",
    "  \"child2\" : {\n",
    "    \"name\" : \"Tobias\",\n",
    "    \"year\" : 2007\n",
    "  },\n",
    "  \"child3\" : {\n",
    "    \"name\" : \"Linus\",\n",
    "    \"year\" : 2011\n",
    "  }\n",
    "}"
   ]
  },
  {
   "cell_type": "code",
   "execution_count": 86,
   "id": "201a7799-0cb6-41a6-b4c6-9eead8bda9ac",
   "metadata": {},
   "outputs": [
    {
     "name": "stdout",
     "output_type": "stream",
     "text": [
      "Emil\n"
     ]
    }
   ],
   "source": [
    "print(myfamily[\"child1\"][\"name\"])"
   ]
  },
  {
   "cell_type": "code",
   "execution_count": null,
   "id": "41c3015a-887d-44cb-b0fb-7a201454805e",
   "metadata": {},
   "outputs": [],
   "source": []
  },
  {
   "cell_type": "code",
   "execution_count": null,
   "id": "81092870-6aea-4f39-abc2-31a3b942c8aa",
   "metadata": {},
   "outputs": [],
   "source": []
  }
 ],
 "metadata": {
  "kernelspec": {
   "display_name": "Python 3 (ipykernel)",
   "language": "python",
   "name": "python3"
  },
  "language_info": {
   "codemirror_mode": {
    "name": "ipython",
    "version": 3
   },
   "file_extension": ".py",
   "mimetype": "text/x-python",
   "name": "python",
   "nbconvert_exporter": "python",
   "pygments_lexer": "ipython3",
   "version": "3.11.9"
  }
 },
 "nbformat": 4,
 "nbformat_minor": 5
}
