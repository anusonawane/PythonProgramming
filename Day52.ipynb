{
 "cells": [
  {
   "cell_type": "code",
   "execution_count": 1,
   "id": "e3869c9e-3a0e-48d0-a612-9709fbc4ba32",
   "metadata": {},
   "outputs": [],
   "source": [
    "import pandas as pd\n",
    "\n",
    "data = {\n",
    "    \"Employee\": [\"John\", \"Alice\", \"Bob\", \"Eve\", \"Charlie\", \"Diana\"],\n",
    "    \"Department\": [\"IT\", \"HR\", \"IT\", \"Finance\", \"Finance\", \"HR\"],\n",
    "    \"Salary\": [60000, 50000, 70000, 55000, 45000, 52000],\n",
    "    \"Years of Experience\": [6, 4, 8, 5, 3, 7]\n",
    "}\n",
    "df = pd.DataFrame(data)\n"
   ]
  },
  {
   "cell_type": "code",
   "execution_count": 2,
   "id": "2f669668-faa8-4eee-bc24-a59112b6f189",
   "metadata": {},
   "outputs": [
    {
     "data": {
      "text/plain": [
       "Department\n",
       "Finance    50000.0\n",
       "HR         51000.0\n",
       "IT         65000.0\n",
       "Name: Salary, dtype: float64"
      ]
     },
     "execution_count": 2,
     "metadata": {},
     "output_type": "execute_result"
    }
   ],
   "source": [
    "# Calculate average salary by department\n",
    "avg_salary_by_dept = df.groupby(\"Department\")[\"Salary\"].mean()\n",
    "avg_salary_by_dept"
   ]
  },
  {
   "cell_type": "code",
   "execution_count": 3,
   "id": "64cea58b-9bf8-4e31-8ca0-b7a9213d353d",
   "metadata": {},
   "outputs": [
    {
     "data": {
      "text/plain": [
       "Employee                 Bob\n",
       "Department                IT\n",
       "Salary                 70000\n",
       "Years of Experience        8\n",
       "Name: 2, dtype: object"
      ]
     },
     "execution_count": 3,
     "metadata": {},
     "output_type": "execute_result"
    }
   ],
   "source": [
    "# Find the highest-paid employee\n",
    "highest_paid = df.loc[df[\"Salary\"].idxmax()]\n",
    "highest_paid"
   ]
  },
  {
   "cell_type": "code",
   "execution_count": 4,
   "id": "eb8d0441-47d7-49f9-9e64-724f8587c56d",
   "metadata": {},
   "outputs": [
    {
     "data": {
      "text/html": [
       "<div>\n",
       "<style scoped>\n",
       "    .dataframe tbody tr th:only-of-type {\n",
       "        vertical-align: middle;\n",
       "    }\n",
       "\n",
       "    .dataframe tbody tr th {\n",
       "        vertical-align: top;\n",
       "    }\n",
       "\n",
       "    .dataframe thead th {\n",
       "        text-align: right;\n",
       "    }\n",
       "</style>\n",
       "<table border=\"1\" class=\"dataframe\">\n",
       "  <thead>\n",
       "    <tr style=\"text-align: right;\">\n",
       "      <th></th>\n",
       "      <th>Employee</th>\n",
       "      <th>Department</th>\n",
       "      <th>Salary</th>\n",
       "      <th>Years of Experience</th>\n",
       "    </tr>\n",
       "  </thead>\n",
       "  <tbody>\n",
       "    <tr>\n",
       "      <th>0</th>\n",
       "      <td>John</td>\n",
       "      <td>IT</td>\n",
       "      <td>60000</td>\n",
       "      <td>6</td>\n",
       "    </tr>\n",
       "    <tr>\n",
       "      <th>2</th>\n",
       "      <td>Bob</td>\n",
       "      <td>IT</td>\n",
       "      <td>70000</td>\n",
       "      <td>8</td>\n",
       "    </tr>\n",
       "    <tr>\n",
       "      <th>5</th>\n",
       "      <td>Diana</td>\n",
       "      <td>HR</td>\n",
       "      <td>52000</td>\n",
       "      <td>7</td>\n",
       "    </tr>\n",
       "  </tbody>\n",
       "</table>\n",
       "</div>"
      ],
      "text/plain": [
       "  Employee Department  Salary  Years of Experience\n",
       "0     John         IT   60000                    6\n",
       "2      Bob         IT   70000                    8\n",
       "5    Diana         HR   52000                    7"
      ]
     },
     "execution_count": 4,
     "metadata": {},
     "output_type": "execute_result"
    }
   ],
   "source": [
    "# Filter employees with > 5 years experience and salary > 50,000\n",
    "experienced_high_salary = df[(df[\"Years of Experience\"] > 5) & (df[\"Salary\"] > 50000)]\n",
    "experienced_high_salary"
   ]
  },
  {
   "cell_type": "code",
   "execution_count": null,
   "id": "f7740452-1290-4928-ad88-2998d17f651f",
   "metadata": {},
   "outputs": [],
   "source": []
  }
 ],
 "metadata": {
  "kernelspec": {
   "display_name": "Python 3 (ipykernel)",
   "language": "python",
   "name": "python3"
  },
  "language_info": {
   "codemirror_mode": {
    "name": "ipython",
    "version": 3
   },
   "file_extension": ".py",
   "mimetype": "text/x-python",
   "name": "python",
   "nbconvert_exporter": "python",
   "pygments_lexer": "ipython3",
   "version": "3.11.9"
  }
 },
 "nbformat": 4,
 "nbformat_minor": 5
}
