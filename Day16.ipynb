{
 "cells": [
  {
   "cell_type": "code",
   "execution_count": 1,
   "id": "02d83bc7-db07-43df-ae2d-6ca0e2a9ef4b",
   "metadata": {},
   "outputs": [],
   "source": [
    "#Find the index of largest no "
   ]
  },
  {
   "cell_type": "code",
   "execution_count": 2,
   "id": "4295ea8c-e38c-4213-8e5b-287543a28a49",
   "metadata": {},
   "outputs": [
    {
     "data": {
      "text/plain": [
       "3"
      ]
     },
     "execution_count": 2,
     "metadata": {},
     "output_type": "execute_result"
    }
   ],
   "source": [
    "l1 = [23, 45,66,88,5]\n",
    "large=0\n",
    "for i in l1:\n",
    "    if i> large:\n",
    "        large =i\n",
    "        \n",
    "l1.index(large)"
   ]
  },
  {
   "cell_type": "code",
   "execution_count": 3,
   "id": "09a726a0-02a0-46f1-99eb-f4e33df2b4e7",
   "metadata": {},
   "outputs": [],
   "source": [
    "# Fibonaci Series"
   ]
  },
  {
   "cell_type": "code",
   "execution_count": 4,
   "id": "66c82747-c956-4151-bdd9-0da2094dd397",
   "metadata": {},
   "outputs": [
    {
     "data": {
      "text/plain": [
       "[1, 1, 2, 3, 5, 8, 13, 21]"
      ]
     },
     "execution_count": 4,
     "metadata": {},
     "output_type": "execute_result"
    }
   ],
   "source": [
    "a=0\n",
    "b=1\n",
    "l=[]\n",
    "for i in range(2, 10):\n",
    "    a, b = b, a+b\n",
    "    \n",
    "    l.append(a)\n",
    "\n",
    "l"
   ]
  },
  {
   "cell_type": "code",
   "execution_count": 5,
   "id": "99152dee-1349-458d-a62f-d6838badeffb",
   "metadata": {},
   "outputs": [],
   "source": [
    "#Find the index of two no whos sum is 93"
   ]
  },
  {
   "cell_type": "code",
   "execution_count": 6,
   "id": "15c3fed8-4291-48cb-a42f-3d6586b75761",
   "metadata": {
    "jp-MarkdownHeadingCollapsed": true
   },
   "outputs": [
    {
     "name": "stdout",
     "output_type": "stream",
     "text": [
      "3 \n",
      "\n",
      "4\n"
     ]
    }
   ],
   "source": [
    "l1 = [23, 45,66,88,5]\n",
    "j=l1[0]\n",
    "\n",
    "for i in range(1, len(l1)):\n",
    "\n",
    "    add= j+ l1[i]\n",
    "  \n",
    "    j=l1[i]\n",
    "    if add==93:\n",
    "        print(l1.index(l1[i-1]),\"\\n\")\n",
    "        \n",
    "        print(l1.index(l1[i]))\n",
    "       \n",
    "        \n",
    "        "
   ]
  },
  {
   "cell_type": "code",
   "execution_count": null,
   "id": "389b5748-12b3-46ea-9a6e-0c7bb6f56817",
   "metadata": {},
   "outputs": [],
   "source": []
  }
 ],
 "metadata": {
  "kernelspec": {
   "display_name": "Python 3 (ipykernel)",
   "language": "python",
   "name": "python3"
  },
  "language_info": {
   "codemirror_mode": {
    "name": "ipython",
    "version": 3
   },
   "file_extension": ".py",
   "mimetype": "text/x-python",
   "name": "python",
   "nbconvert_exporter": "python",
   "pygments_lexer": "ipython3",
   "version": "3.11.9"
  }
 },
 "nbformat": 4,
 "nbformat_minor": 5
}
