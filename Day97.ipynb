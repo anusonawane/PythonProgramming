{
 "cells": [
  {
   "cell_type": "raw",
   "id": "bd281e52-e779-47d9-8ef9-cd3eb8b19b1d",
   "metadata": {},
   "source": [
    "QUESTION 1: Alice has some cards with numbers written on them. She arranges the cards in decreasing order, and lays them out face down in a sequence on a table. She challenges Bob to pick out the card containing a given number by turning over as few cards as possible. Write a function to help Bob locate the card."
   ]
  },
  {
   "cell_type": "raw",
   "id": "115099e5-2166-4f95-9f2a-9cb3edc693bb",
   "metadata": {},
   "source": [
    "Here's a systematic strategy we'll apply for solving problems:\n",
    "\n",
    "1. State the problem clearly. Identify the input & output formats.\n",
    "2. Come up with some example inputs & outputs. Try to cover all edge cases.\n",
    "3. Come up with a correct solution for the problem. State it in plain English.\n",
    "4. Implement the solution and test it using example inputs. Fix bugs, if any.\n",
    "5. Analyze the algorithm's complexity and identify inefficiencies, if any.\n",
    "6. Apply the right technique to overcome the inefficiency. Repeat steps 3 to 6."
   ]
  },
  {
   "cell_type": "markdown",
   "id": "276dec4d-0d72-4e63-91d3-bd390f4b137b",
   "metadata": {},
   "source": [
    "# 1. State the problem clearly. Identify the input & output formats."
   ]
  },
  {
   "cell_type": "raw",
   "id": "a122bcfc-0b9e-421e-a322-b969e93aa2dc",
   "metadata": {},
   "source": [
    "Problem:\n",
    "\n",
    "we need to write a program to find the position of given no in list of numbers arranged in decreasing order. \n",
    "We also need to minimize the no of times we access elements from list."
   ]
  },
  {
   "cell_type": "raw",
   "id": "5ee9b8e5-e27e-4835-8630-f662f3fc0f63",
   "metadata": {},
   "source": [
    "Input:\n",
    "\n",
    "1) cards: list of numbers sorted in decreasing order, ex-  [13, 11, 10, 7, 4, 3, 1, 0]\n",
    "2) Query: a number, whose position in the array is to be determined. E.g. 7\n"
   ]
  },
  {
   "cell_type": "raw",
   "id": "bec19772-085e-4fa6-869b-6e0668159772",
   "metadata": {},
   "source": [
    "Output:\n",
    "\n",
    "Position: The position of query in the list cards. E.g. 3 in the above case (counting from 0)"
   ]
  },
  {
   "cell_type": "raw",
   "id": "557cef3c-3ec0-4e19-aabc-c09f2bf7481a",
   "metadata": {},
   "source": [
    "Based on the above, we can now create the signature of our function:"
   ]
  },
  {
   "cell_type": "code",
   "execution_count": 3,
   "id": "2fe9f790-20ff-4e53-a2e4-1faed282a62f",
   "metadata": {},
   "outputs": [],
   "source": [
    "def locate_card(cards, query):\n",
    "    pass"
   ]
  },
  {
   "cell_type": "markdown",
   "id": "3ac85f83-ca22-46c9-9d97-f5ec040edef6",
   "metadata": {},
   "source": [
    "# 2. Come up with some example inputs & outputs. Try to cover all edge cases.\n"
   ]
  },
  {
   "cell_type": "code",
   "execution_count": 7,
   "id": "df0905e4-6cc2-420b-b75e-c84141687cb8",
   "metadata": {},
   "outputs": [],
   "source": [
    "cards = [13, 11, 10, 7, 4, 3, 1, 0]\n",
    "query = 7\n",
    "output = 3"
   ]
  },
  {
   "cell_type": "code",
   "execution_count": 10,
   "id": "b31d0c5e-8250-41ec-8b1e-5c3cd136abe1",
   "metadata": {},
   "outputs": [
    {
     "name": "stdout",
     "output_type": "stream",
     "text": [
      "None\n"
     ]
    },
    {
     "data": {
      "text/plain": [
       "False"
      ]
     },
     "execution_count": 10,
     "metadata": {},
     "output_type": "execute_result"
    }
   ],
   "source": [
    "# We can test our function by passing the inputs into function and comparing the result with the expected output.\n",
    "\n",
    "result = locate_card(cards, query)\n",
    "print(result)\n",
    "result == output"
   ]
  },
  {
   "cell_type": "raw",
   "id": "192eadb1-667b-487b-a78b-1238c12aaf04",
   "metadata": {},
   "source": [
    "Obviously, the two result does not match the output as we have not yet implemented the function."
   ]
  },
  {
   "cell_type": "raw",
   "id": "01cab7ac-144c-49d4-a02a-8e2536bea864",
   "metadata": {},
   "source": [
    "We'll represent our test cases as dictionaries to make it easier to test them once we write implement our function. "
   ]
  },
  {
   "cell_type": "code",
   "execution_count": 12,
   "id": "7418e81e-3925-447a-8313-63fb34ead570",
   "metadata": {},
   "outputs": [],
   "source": [
    "test ={\n",
    "    \"input\": {\n",
    "        \"cards\":[13, 11, 10, 7, 4, 3, 1, 0],\n",
    "        \"query\":7\n",
    "    },\n",
    "    \"output\":3\n",
    "}"
   ]
  },
  {
   "cell_type": "code",
   "execution_count": null,
   "id": "f73c6edf-da35-436a-a06f-63b6b99af1b3",
   "metadata": {},
   "outputs": [],
   "source": []
  }
 ],
 "metadata": {
  "kernelspec": {
   "display_name": "Python 3 (ipykernel)",
   "language": "python",
   "name": "python3"
  },
  "language_info": {
   "codemirror_mode": {
    "name": "ipython",
    "version": 3
   },
   "file_extension": ".py",
   "mimetype": "text/x-python",
   "name": "python",
   "nbconvert_exporter": "python",
   "pygments_lexer": "ipython3",
   "version": "3.11.11"
  }
 },
 "nbformat": 4,
 "nbformat_minor": 5
}
