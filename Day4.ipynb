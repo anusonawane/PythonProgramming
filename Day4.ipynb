{
 "cells": [
  {
   "cell_type": "markdown",
   "id": "17d12345-f5b1-4701-961c-2cb0ce796c80",
   "metadata": {},
   "source": [
    "# class   "
   ]
  },
  {
   "cell_type": "code",
   "execution_count": 1,
   "id": "42dec6d1-8245-49a4-b9ac-efe95bee7ebc",
   "metadata": {},
   "outputs": [
    {
     "name": "stdout",
     "output_type": "stream",
     "text": [
      "Anushka 101 80\n"
     ]
    }
   ],
   "source": [
    "class Student:\n",
    "    #constructor\n",
    "    def __init__(self, name, rollno, marks):\n",
    "        self.name = name\n",
    "        self.rollno = rollno\n",
    "        self.marks = marks\n",
    "        \n",
    "s1=Student(\"Anushka\", 101, 80)\n",
    "print(s1.name, s1.rollno, s1.marks)"
   ]
  },
  {
   "cell_type": "code",
   "execution_count": 2,
   "id": "7296c782-ad4f-4167-a3ac-fbe532634965",
   "metadata": {},
   "outputs": [],
   "source": [
    "a=10 #global variable\n",
    "class Student:\n",
    "    cname=\"ABC\" # class-level variable / static variable\n",
    "    def __init__(self, name):\n",
    "        self.name=name #instance variable\n",
    "    def m1(self):\n",
    "        x=10 #local variable"
   ]
  },
  {
   "cell_type": "raw",
   "id": "383e22b9-ae62-46ab-9b71-235c453f8372",
   "metadata": {},
   "source": [
    "Structure of class"
   ]
  },
  {
   "cell_type": "raw",
   "id": "78c439e0-8d3c-4164-ab7b-aa16a6dea403",
   "metadata": {},
   "source": [
    "class Student:\n",
    "    \"\"\"documenation string\"\n",
    "    variables: 1)instance variable 2) static variable 3) local variables.\n",
    "    mathods: 1)instance method 2)class method 3)static method"
   ]
  }
 ],
 "metadata": {
  "kernelspec": {
   "display_name": "Python 3 (ipykernel)",
   "language": "python",
   "name": "python3"
  },
  "language_info": {
   "codemirror_mode": {
    "name": "ipython",
    "version": 3
   },
   "file_extension": ".py",
   "mimetype": "text/x-python",
   "name": "python",
   "nbconvert_exporter": "python",
   "pygments_lexer": "ipython3",
   "version": "3.11.9"
  }
 },
 "nbformat": 4,
 "nbformat_minor": 5
}
