{
 "cells": [
  {
   "cell_type": "raw",
   "id": "6df574a9-3829-4e33-aac8-b2e5e649c36b",
   "metadata": {},
   "source": [
    "A lambda function is a small anonymous function.\n",
    "\n",
    "A lambda function can take any number of arguments, but can only have one expression.\n",
    "\n"
   ]
  },
  {
   "cell_type": "code",
   "execution_count": 2,
   "id": "3a6e5e47-b775-4fa8-a466-90b1b12a6040",
   "metadata": {},
   "outputs": [
    {
     "data": {
      "text/plain": [
       "200"
      ]
     },
     "execution_count": 2,
     "metadata": {},
     "output_type": "execute_result"
    }
   ],
   "source": [
    "x = lambda a: a*10\n",
    "x(20)"
   ]
  },
  {
   "cell_type": "code",
   "execution_count": 3,
   "id": "a6fb87cf-b18b-4c59-a605-2a49f2fbf475",
   "metadata": {},
   "outputs": [
    {
     "data": {
      "text/plain": [
       "30"
      ]
     },
     "execution_count": 3,
     "metadata": {},
     "output_type": "execute_result"
    }
   ],
   "source": [
    "add = lambda x,y: x+y\n",
    "add(10, 20)"
   ]
  },
  {
   "cell_type": "code",
   "execution_count": 16,
   "id": "1bd40abf-874b-4991-9095-a879207107c1",
   "metadata": {},
   "outputs": [],
   "source": [
    "# filete, map"
   ]
  },
  {
   "cell_type": "code",
   "execution_count": 14,
   "id": "d780cbfa-c192-4239-9426-31311fdbfc25",
   "metadata": {},
   "outputs": [
    {
     "data": {
      "text/plain": [
       "[2, 4, 6, 8, 10]"
      ]
     },
     "execution_count": 14,
     "metadata": {},
     "output_type": "execute_result"
    }
   ],
   "source": [
    "def is_even(number):\n",
    "    return number % 2 == 0\n",
    "\n",
    "numbers = [1, 2, 3, 4, 5, 6, 7, 8, 9, 10]\n",
    "even_numbers = filter(is_even, numbers)\n",
    "list(even_numbers)"
   ]
  },
  {
   "cell_type": "code",
   "execution_count": 15,
   "id": "d126c064-ee5b-46ec-ae56-6d2127e05bbb",
   "metadata": {},
   "outputs": [
    {
     "data": {
      "text/plain": [
       "[2, 4, 6, 8, 10]"
      ]
     },
     "execution_count": 15,
     "metadata": {},
     "output_type": "execute_result"
    }
   ],
   "source": [
    "numbers = [1, 2, 3, 4, 5, 6, 7, 8, 9, 10]\n",
    "\n",
    "even_numbers = filter(lambda x:x%2==0, numbers)\n",
    "list(even_numbers)"
   ]
  },
  {
   "cell_type": "code",
   "execution_count": null,
   "id": "be6eeb12-072e-4e91-b995-244f0c0f26f0",
   "metadata": {},
   "outputs": [],
   "source": [
    "Map: to apply operation on each and every element( filter skips element which)"
   ]
  },
  {
   "cell_type": "code",
   "execution_count": 18,
   "id": "37c4d511-f156-43f3-9e36-406566213ce6",
   "metadata": {},
   "outputs": [
    {
     "data": {
      "text/plain": [
       "[2, 4, 6, 8, 10, 12, 14, 16, 18, 20]"
      ]
     },
     "execution_count": 18,
     "metadata": {},
     "output_type": "execute_result"
    }
   ],
   "source": [
    "numbers = [1, 2, 3, 4, 5, 6, 7, 8, 9, 10]\n",
    "list(map(lambda x:x*2, numbers))\n"
   ]
  },
  {
   "cell_type": "code",
   "execution_count": null,
   "id": "f48ed93a-9608-464f-b4d3-d391043890ab",
   "metadata": {},
   "outputs": [],
   "source": []
  },
  {
   "cell_type": "code",
   "execution_count": 4,
   "id": "1cbe104b-faa5-4b74-8046-0f5adbc1a3b8",
   "metadata": {},
   "outputs": [
    {
     "name": "stdout",
     "output_type": "stream",
     "text": [
      "33\n"
     ]
    }
   ],
   "source": [
    "def myfunc(n):\n",
    "  return lambda a : a * n\n",
    "\n",
    "mytripler = myfunc(3)\n",
    "\n",
    "print(mytripler(11))"
   ]
  },
  {
   "cell_type": "code",
   "execution_count": 22,
   "id": "615e4be5-df02-4a8f-9214-d778df3c2c8d",
   "metadata": {},
   "outputs": [
    {
     "name": "stdout",
     "output_type": "stream",
     "text": [
      "Hello! sneha's you look like a heroine.\n"
     ]
    }
   ],
   "source": [
    "# Define a simple decorator\n",
    "def my_decorator(func):\n",
    "    def parlor(name):\n",
    "        if name==\"sneha\":\n",
    "            print(\"Hello! sneha's you look like a heroine.\")\n",
    "        else:\n",
    "            func(name)  # Call the original function\n",
    "        \n",
    "    return parlor\n",
    "\n",
    "# Use the decorator\n",
    "@my_decorator\n",
    "def lady(name):\n",
    "    print(\"Hello,\", name)\n",
    "\n",
    "# Call the decorated function\n",
    "lady(\"sneha\")\n"
   ]
  },
  {
   "cell_type": "code",
   "execution_count": 23,
   "id": "78ce87ae-e438-4f39-8b0c-64bf875e4b5e",
   "metadata": {},
   "outputs": [
    {
     "name": "stdout",
     "output_type": "stream",
     "text": [
      "Hello, Abhishek\n"
     ]
    }
   ],
   "source": [
    "lady(\"Abhishek\")"
   ]
  },
  {
   "cell_type": "code",
   "execution_count": null,
   "id": "303b2b28-dc70-432f-afda-4eb12c97a6c4",
   "metadata": {},
   "outputs": [],
   "source": []
  },
  {
   "cell_type": "raw",
   "id": "ed21438d-ec33-443b-a467-6331c39c7cdc",
   "metadata": {},
   "source": [
    "Python is an object oriented programming language.\n",
    "\n",
    "Almost everything in Python is an object, with its properties and methods.\n",
    "\n",
    "A Class is like an object constructor, or a \"blueprint\" for creating objects."
   ]
  },
  {
   "cell_type": "code",
   "execution_count": 5,
   "id": "765777e1-71e4-451c-b18e-fbb91aaca487",
   "metadata": {},
   "outputs": [],
   "source": [
    "class MyClass:\n",
    "    name = \"anushka\""
   ]
  },
  {
   "cell_type": "code",
   "execution_count": 7,
   "id": "58f321c9-7cf2-4bf5-bb70-87551d41e3e5",
   "metadata": {},
   "outputs": [
    {
     "data": {
      "text/plain": [
       "'anushka'"
      ]
     },
     "execution_count": 7,
     "metadata": {},
     "output_type": "execute_result"
    }
   ],
   "source": [
    "MyClass().name"
   ]
  },
  {
   "cell_type": "raw",
   "id": "833ba5df-e202-433f-8234-98a8c98e998c",
   "metadata": {},
   "source": [
    "# init is used to initialize a attribute, which can be accessible through out class(as one method cant acess othe method attribute with init we can do it)"
   ]
  },
  {
   "cell_type": "code",
   "execution_count": 9,
   "id": "57a14d1c-a474-4d94-8a2f-0602d1450058",
   "metadata": {},
   "outputs": [
    {
     "name": "stdout",
     "output_type": "stream",
     "text": [
      "John\n",
      "36\n"
     ]
    }
   ],
   "source": [
    "class Person:\n",
    "  def __init__(self, name, age):\n",
    "    self.name = name\n",
    "    self.age = age\n",
    "\n",
    "p1 = Person(\"John\", 36)\n",
    "\n",
    "print(p1.name)\n",
    "print(p1.age)"
   ]
  },
  {
   "cell_type": "raw",
   "id": "e6ff2c9d-c8e1-413c-b279-46af8be762c4",
   "metadata": {},
   "source": [
    "__str__() is a special method that returns a string representation of an object. It’s used to provide a readable, user-friendly string output when print() or str() is called on an object."
   ]
  },
  {
   "cell_type": "code",
   "execution_count": null,
   "id": "35d47cbc-ed7a-4cbd-b72c-b7fcf89f2b48",
   "metadata": {},
   "outputs": [],
   "source": []
  },
  {
   "cell_type": "code",
   "execution_count": 10,
   "id": "5886e3ca-5db1-4e0b-81c1-7f849201bd75",
   "metadata": {},
   "outputs": [
    {
     "name": "stdout",
     "output_type": "stream",
     "text": [
      "Rex is a Golden Retriever\n"
     ]
    }
   ],
   "source": [
    "class Dog:\n",
    "    def __init__(self, name, breed):\n",
    "        self.name = name\n",
    "        self.breed = breed\n",
    "\n",
    "    def __str__(self):\n",
    "        return f\"{self.name} is a {self.breed}\"\n",
    "\n",
    "# Creating an instance\n",
    "my_dog = Dog(\"Rex\", \"Golden Retriever\")\n",
    "print(my_dog)  # Output: Rex is a Golden Retriever\n"
   ]
  },
  {
   "cell_type": "code",
   "execution_count": 11,
   "id": "01d1b77f-0a83-440b-8350-56a05864bfd8",
   "metadata": {},
   "outputs": [
    {
     "name": "stdout",
     "output_type": "stream",
     "text": [
      "Buddy barks!\n"
     ]
    }
   ],
   "source": [
    "# Base class\n",
    "class Animal:\n",
    "    def __init__(self, name):\n",
    "        self.name = name\n",
    "\n",
    "    def speak(self):\n",
    "        return f\"{self.name} makes a sound.\"\n",
    "\n",
    "# Subclass\n",
    "class Dog(Animal):\n",
    "    def speak(self):\n",
    "        return f\"{self.name} barks!\"\n",
    "\n",
    "# Creating an object of the subclass\n",
    "dog = Dog(\"Buddy\")\n",
    "\n",
    "# Using the methods\n",
    "print(dog.speak())  # Output: Buddy barks!\n"
   ]
  },
  {
   "cell_type": "code",
   "execution_count": null,
   "id": "1cdc4852-05a1-48cd-8b0b-5b09fbfdc731",
   "metadata": {},
   "outputs": [],
   "source": []
  }
 ],
 "metadata": {
  "kernelspec": {
   "display_name": "Python 3 (ipykernel)",
   "language": "python",
   "name": "python3"
  },
  "language_info": {
   "codemirror_mode": {
    "name": "ipython",
    "version": 3
   },
   "file_extension": ".py",
   "mimetype": "text/x-python",
   "name": "python",
   "nbconvert_exporter": "python",
   "pygments_lexer": "ipython3",
   "version": "3.11.9"
  }
 },
 "nbformat": 4,
 "nbformat_minor": 5
}
