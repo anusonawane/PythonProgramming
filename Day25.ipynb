{
 "cells": [
  {
   "cell_type": "code",
   "execution_count": null,
   "id": "2b2d39c0-58f2-46e1-9bfd-51d3f751fd63",
   "metadata": {},
   "outputs": [],
   "source": [
    "import pandas as pd\n",
    "df = pd.read_csv('file.csv')\n"
   ]
  },
  {
   "cell_type": "code",
   "execution_count": 1,
   "id": "2181f263-c37c-444e-98fd-ff252c51da65",
   "metadata": {},
   "outputs": [],
   "source": [
    "# How do you filter rows in a DataFrame based on a condition?"
   ]
  },
  {
   "cell_type": "code",
   "execution_count": null,
   "id": "62f82042-da1f-4ee2-925a-d2a05e3b5f56",
   "metadata": {},
   "outputs": [],
   "source": [
    "# Example: Filter rows where column 'A' is greater than 5\n",
    "filtered_df = df[df['A'] > 5]\n"
   ]
  },
  {
   "cell_type": "code",
   "execution_count": null,
   "id": "53159fca-3d97-4d64-8cc0-53e26e3811a5",
   "metadata": {},
   "outputs": [],
   "source": [
    "#  How do you handle missing data in pandas"
   ]
  },
  {
   "cell_type": "code",
   "execution_count": null,
   "id": "0debeec4-2cce-4397-bba7-bee74dad5ccb",
   "metadata": {},
   "outputs": [],
   "source": [
    "df.dropna()  # Drops rows with any NaN values"
   ]
  },
  {
   "cell_type": "code",
   "execution_count": null,
   "id": "8de5f4d6-c360-4416-8887-bd1c6f44a200",
   "metadata": {},
   "outputs": [],
   "source": [
    "df.fillna(0)  # Replaces NaN values with 0\n"
   ]
  },
  {
   "cell_type": "code",
   "execution_count": null,
   "id": "bf5b8a99-fd42-4e46-b2dc-fd0504a98a0a",
   "metadata": {},
   "outputs": [],
   "source": [
    "df.fillna(method='ffill')  # Fills NaN values with the last valid value (forward fill)\n",
    "df.fillna(method='bfill')  # Fills NaN values with the next valid value (backward fill)\n"
   ]
  },
  {
   "cell_type": "code",
   "execution_count": null,
   "id": "79a777e8-00c4-4a21-a7b0-1eb1d5a8b982",
   "metadata": {},
   "outputs": [],
   "source": [
    "# How do you merge two DataFrames in pandas"
   ]
  },
  {
   "cell_type": "code",
   "execution_count": null,
   "id": "9be2cc71-7172-4fd8-9804-13a53d2ecb02",
   "metadata": {},
   "outputs": [],
   "source": [
    "# Example: Merge df1 and df2 on column 'id'\n",
    "merged_df = pd.merge(df1, df2, on='id', how='inner')\n"
   ]
  },
  {
   "cell_type": "code",
   "execution_count": null,
   "id": "0eba4e96-8e37-4b27-a53b-2243156592ec",
   "metadata": {},
   "outputs": [],
   "source": [
    "# How do you add a new column to a DataFrame"
   ]
  },
  {
   "cell_type": "code",
   "execution_count": null,
   "id": "40378da6-b94d-4405-9cd0-bacfebd1cb14",
   "metadata": {},
   "outputs": [],
   "source": [
    "# Example: Add column 'C' as the sum of columns 'A' and 'B'\n",
    "df['C'] = df['A'] + df['B']"
   ]
  },
  {
   "cell_type": "code",
   "execution_count": null,
   "id": "b2ee89bc-6bf7-4199-800d-2aa898e7ccf5",
   "metadata": {},
   "outputs": [],
   "source": [
    "# How do you get the top N rows of a DataFrame sorted by a specific column"
   ]
  },
  {
   "cell_type": "code",
   "execution_count": null,
   "id": "ba0c1490-56ce-43f8-add1-bbc6fcb47a42",
   "metadata": {},
   "outputs": [],
   "source": [
    "# Example: Get top 5 rows sorted by column 'A'\n",
    "top_n = df.nlargest(5, 'A')\n",
    "\n",
    "# Alternatively:\n",
    "top_n = df.sort_values(by='A', ascending=False).head(5)\n"
   ]
  }
 ],
 "metadata": {
  "kernelspec": {
   "display_name": "Python 3 (ipykernel)",
   "language": "python",
   "name": "python3"
  },
  "language_info": {
   "codemirror_mode": {
    "name": "ipython",
    "version": 3
   },
   "file_extension": ".py",
   "mimetype": "text/x-python",
   "name": "python",
   "nbconvert_exporter": "python",
   "pygments_lexer": "ipython3",
   "version": "3.11.9"
  }
 },
 "nbformat": 4,
 "nbformat_minor": 5
}
