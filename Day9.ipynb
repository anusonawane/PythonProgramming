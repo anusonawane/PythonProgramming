{
 "cells": [
  {
   "cell_type": "code",
   "execution_count": null,
   "id": "8e00f459-99c9-4c4f-b2da-3f16b56f29c9",
   "metadata": {},
   "outputs": [],
   "source": []
  },
  {
   "cell_type": "code",
   "execution_count": null,
   "id": "e2e28155-35a5-465c-8f57-ac9ac553c482",
   "metadata": {},
   "outputs": [],
   "source": []
  },
  {
   "cell_type": "raw",
   "id": "dd0b4be5-32ae-4e67-89d6-cef8370d37d2",
   "metadata": {},
   "source": [
    "Using Pandas, perform the following tasks:\n",
    "\n",
    "Read the dataset from a CSV file into a DataFrame.\n",
    "Find the total number of employees in each department.\n",
    "Calculate the average salary for each department.\n",
    "Sort the DataFrame by Salary in descending order and display the top 5 highest-paid employees."
   ]
  },
  {
   "cell_type": "code",
   "execution_count": 2,
   "id": "4f2cc2a4-d3be-47b4-8f9b-12c866a36886",
   "metadata": {},
   "outputs": [],
   "source": [
    "data = {\n",
    "    'Employee_ID': [101, 102, 103, 104, 105],\n",
    "    'Department': ['Engineering', 'Marketing', 'HR', 'Engineering', 'Sales'],\n",
    "    'Salary': [75000, 55000, 50000, 80000, 70000],\n",
    "    'Date_of_Joining': ['2018-05-20', '2020-06-15', '2019-03-10', '2021-07-01', '2020-09-05']\n",
    "}\n"
   ]
  },
  {
   "cell_type": "code",
   "execution_count": 3,
   "id": "b0552374-149d-42c1-81c2-bafc570e6fc0",
   "metadata": {},
   "outputs": [],
   "source": [
    "import pandas as pd\n",
    "\n",
    "df = pd.DataFrame(data)"
   ]
  },
  {
   "cell_type": "raw",
   "id": "26b5dbf0-e452-40fc-98fb-178068a679fe",
   "metadata": {},
   "source": [
    "Find the total number of employees in each department."
   ]
  },
  {
   "cell_type": "code",
   "execution_count": 6,
   "id": "349a4647-0f7a-4d8e-9ded-ae9191f44db6",
   "metadata": {},
   "outputs": [
    {
     "data": {
      "text/plain": [
       "Department\n",
       "Engineering    2\n",
       "HR             1\n",
       "Marketing      1\n",
       "Sales          1\n",
       "Name: Employee_ID, dtype: int64"
      ]
     },
     "execution_count": 6,
     "metadata": {},
     "output_type": "execute_result"
    }
   ],
   "source": [
    "df.groupby('Department')['Employee_ID'].count()"
   ]
  },
  {
   "cell_type": "raw",
   "id": "d4c5d54d-92e7-4d8e-867c-35b1a66c4b98",
   "metadata": {},
   "source": [
    "Calculate the average salary for each department."
   ]
  },
  {
   "cell_type": "code",
   "execution_count": 9,
   "id": "4757fe22-e75a-4272-876f-6bf9597128dc",
   "metadata": {},
   "outputs": [
    {
     "data": {
      "text/plain": [
       "Department\n",
       "Engineering    77500.0\n",
       "HR             50000.0\n",
       "Marketing      55000.0\n",
       "Sales          70000.0\n",
       "Name: Salary, dtype: float64"
      ]
     },
     "execution_count": 9,
     "metadata": {},
     "output_type": "execute_result"
    }
   ],
   "source": [
    "sums = df.groupby('Department')['Salary'].mean()\n",
    "sums"
   ]
  },
  {
   "cell_type": "raw",
   "id": "58f07861-bf32-4517-81aa-249d438a8f71",
   "metadata": {},
   "source": [
    "Sort the DataFrame by Salary in descending order and display the top 5 highest-paid employees."
   ]
  },
  {
   "cell_type": "code",
   "execution_count": 14,
   "id": "fa9f0c23-a81e-4d16-9b22-ea6615739b84",
   "metadata": {},
   "outputs": [
    {
     "data": {
      "text/html": [
       "<div>\n",
       "<style scoped>\n",
       "    .dataframe tbody tr th:only-of-type {\n",
       "        vertical-align: middle;\n",
       "    }\n",
       "\n",
       "    .dataframe tbody tr th {\n",
       "        vertical-align: top;\n",
       "    }\n",
       "\n",
       "    .dataframe thead th {\n",
       "        text-align: right;\n",
       "    }\n",
       "</style>\n",
       "<table border=\"1\" class=\"dataframe\">\n",
       "  <thead>\n",
       "    <tr style=\"text-align: right;\">\n",
       "      <th></th>\n",
       "      <th>Employee_ID</th>\n",
       "      <th>Department</th>\n",
       "      <th>Salary</th>\n",
       "      <th>Date_of_Joining</th>\n",
       "    </tr>\n",
       "  </thead>\n",
       "  <tbody>\n",
       "    <tr>\n",
       "      <th>3</th>\n",
       "      <td>104</td>\n",
       "      <td>Engineering</td>\n",
       "      <td>80000</td>\n",
       "      <td>2021-07-01</td>\n",
       "    </tr>\n",
       "    <tr>\n",
       "      <th>0</th>\n",
       "      <td>101</td>\n",
       "      <td>Engineering</td>\n",
       "      <td>75000</td>\n",
       "      <td>2018-05-20</td>\n",
       "    </tr>\n",
       "    <tr>\n",
       "      <th>4</th>\n",
       "      <td>105</td>\n",
       "      <td>Sales</td>\n",
       "      <td>70000</td>\n",
       "      <td>2020-09-05</td>\n",
       "    </tr>\n",
       "    <tr>\n",
       "      <th>1</th>\n",
       "      <td>102</td>\n",
       "      <td>Marketing</td>\n",
       "      <td>55000</td>\n",
       "      <td>2020-06-15</td>\n",
       "    </tr>\n",
       "    <tr>\n",
       "      <th>2</th>\n",
       "      <td>103</td>\n",
       "      <td>HR</td>\n",
       "      <td>50000</td>\n",
       "      <td>2019-03-10</td>\n",
       "    </tr>\n",
       "  </tbody>\n",
       "</table>\n",
       "</div>"
      ],
      "text/plain": [
       "   Employee_ID   Department  Salary Date_of_Joining\n",
       "3          104  Engineering   80000      2021-07-01\n",
       "0          101  Engineering   75000      2018-05-20\n",
       "4          105        Sales   70000      2020-09-05\n",
       "1          102    Marketing   55000      2020-06-15\n",
       "2          103           HR   50000      2019-03-10"
      ]
     },
     "execution_count": 14,
     "metadata": {},
     "output_type": "execute_result"
    }
   ],
   "source": [
    "df.sort_values(by='Salary', ascending=False).head(5)"
   ]
  },
  {
   "cell_type": "code",
   "execution_count": 1,
   "id": "f36313d0-8191-4f79-bf7a-9d70871906fa",
   "metadata": {},
   "outputs": [],
   "source": [
    "#################################"
   ]
  },
  {
   "cell_type": "markdown",
   "id": "bcb58153-7ecc-4625-916f-15027206b2c8",
   "metadata": {},
   "source": [
    "Find the average age of employees"
   ]
  },
  {
   "cell_type": "code",
   "execution_count": 3,
   "id": "b1ba8579-f4d4-4c2a-8070-0ad1076bcfcd",
   "metadata": {},
   "outputs": [],
   "source": [
    "employees = [\n",
    "    {\"name\": \"Alice\", \"age\": 30, \"department\": \"HR\"},\n",
    "    {\"name\": \"Bob\", \"age\": 25, \"department\": \"Engineering\"},\n",
    "    {\"name\": \"Charlie\", \"age\": 35, \"department\": \"Marketing\"},\n",
    "    {\"name\": \"Diana\", \"age\": 28, \"department\": \"Engineering\"},\n",
    "    {\"name\": \"Eve\", \"age\": 40, \"department\": \"HR\"}\n",
    "]\n"
   ]
  },
  {
   "cell_type": "code",
   "execution_count": 6,
   "id": "6108ff82-9f52-472d-b24d-3c4574ef5a88",
   "metadata": {},
   "outputs": [
    {
     "name": "stdout",
     "output_type": "stream",
     "text": [
      "158\n",
      "5\n"
     ]
    },
    {
     "data": {
      "text/plain": [
       "31.6"
      ]
     },
     "execution_count": 6,
     "metadata": {},
     "output_type": "execute_result"
    }
   ],
   "source": [
    "sums = 0\n",
    "length = 0\n",
    "for i in employees:\n",
    "    sums +=i['age']\n",
    "    length +=1\n",
    "\n",
    "avg = sums/length\n",
    "avg"
   ]
  },
  {
   "cell_type": "code",
   "execution_count": null,
   "id": "61447e2d-a3e0-46ad-8ff4-4ed9719c185e",
   "metadata": {},
   "outputs": [],
   "source": []
  }
 ],
 "metadata": {
  "kernelspec": {
   "display_name": "Python 3 (ipykernel)",
   "language": "python",
   "name": "python3"
  },
  "language_info": {
   "codemirror_mode": {
    "name": "ipython",
    "version": 3
   },
   "file_extension": ".py",
   "mimetype": "text/x-python",
   "name": "python",
   "nbconvert_exporter": "python",
   "pygments_lexer": "ipython3",
   "version": "3.11.9"
  }
 },
 "nbformat": 4,
 "nbformat_minor": 5
}
