{
 "cells": [
  {
   "cell_type": "raw",
   "id": "bcc7acc8-315d-4ee0-b00a-5e11dc5050d8",
   "metadata": {},
   "source": [
    "Python program that checks if a sequence is a Palindrome.\n"
   ]
  },
  {
   "cell_type": "code",
   "execution_count": 1,
   "id": "a05edb54-ad89-4ad0-b6ed-59f8f136816c",
   "metadata": {},
   "outputs": [],
   "source": [
    "\n",
    "def check_Palindrome(input1):\n",
    "    temp = input1[::-1]\n",
    "    \n",
    "    if input1==temp:\n",
    "        print(\"Palindrome\")\n",
    "    else:\n",
    "        print(\"Not Palindrome\")"
   ]
  },
  {
   "cell_type": "code",
   "execution_count": 2,
   "id": "bec1c527-0f5c-4e26-8dbb-503080cafd2b",
   "metadata": {},
   "outputs": [
    {
     "name": "stdout",
     "output_type": "stream",
     "text": [
      "Palindrome\n"
     ]
    }
   ],
   "source": [
    "input1=\"madam\"\n",
    "check_Palindrome(input1)"
   ]
  },
  {
   "cell_type": "code",
   "execution_count": 3,
   "id": "697bb48a-e10b-42b7-ab73-a7bbd8a09229",
   "metadata": {},
   "outputs": [
    {
     "name": "stdout",
     "output_type": "stream",
     "text": [
      "Not Palindrome\n"
     ]
    }
   ],
   "source": [
    "input1=\"Palindrome\"\n",
    "check_Palindrome(input1)"
   ]
  }
 ],
 "metadata": {
  "kernelspec": {
   "display_name": "Python 3 (ipykernel)",
   "language": "python",
   "name": "python3"
  },
  "language_info": {
   "codemirror_mode": {
    "name": "ipython",
    "version": 3
   },
   "file_extension": ".py",
   "mimetype": "text/x-python",
   "name": "python",
   "nbconvert_exporter": "python",
   "pygments_lexer": "ipython3",
   "version": "3.11.9"
  }
 },
 "nbformat": 4,
 "nbformat_minor": 5
}
