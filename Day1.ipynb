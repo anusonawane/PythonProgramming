{
 "cells": [
  {
   "cell_type": "code",
   "execution_count": 1,
   "id": "09b957c3-f433-408a-b415-f97d7f8f112a",
   "metadata": {},
   "outputs": [
    {
     "name": "stdout",
     "output_type": "stream",
     "text": [
      "Hello\n"
     ]
    }
   ],
   "source": [
    "print(\"Hello\")"
   ]
  },
  {
   "cell_type": "code",
   "execution_count": 2,
   "id": "6c410109-c8a1-4bb2-86bd-35ea2e10ddac",
   "metadata": {},
   "outputs": [
    {
     "name": "stdout",
     "output_type": "stream",
     "text": [
      "my name is anushka\n"
     ]
    }
   ],
   "source": [
    "name =\"anushka\"\n",
    "\n",
    "print(f\"my name is {name}\")"
   ]
  },
  {
   "cell_type": "code",
   "execution_count": 4,
   "id": "8c5e4d1e-bb35-48fa-beba-fbe8a46a3411",
   "metadata": {},
   "outputs": [
    {
     "name": "stdout",
     "output_type": "stream",
     "text": [
      "my  name is anushka\n"
     ]
    }
   ],
   "source": [
    "print(\"my  name is {}\".format(name))"
   ]
  },
  {
   "cell_type": "code",
   "execution_count": 6,
   "id": "1a03d488-bcac-4281-b4f5-17979fd09564",
   "metadata": {},
   "outputs": [
    {
     "name": "stdout",
     "output_type": "stream",
     "text": [
      "my name is anu and my age is 23\n"
     ]
    }
   ],
   "source": [
    "print(\"my name is {name} and my age is {age}\".format(name = \"anu\", age=23))"
   ]
  },
  {
   "cell_type": "raw",
   "id": "87316e0c-e26e-4646-8ca5-c60b81820056",
   "metadata": {},
   "source": [
    "The sep argument is helpful when you want to control how multiple arguments are printed together, especially when you want something other than the default space as the separator."
   ]
  },
  {
   "cell_type": "code",
   "execution_count": 13,
   "id": "2d74a5d5-c5b7-4e27-a453-4b5db75591be",
   "metadata": {},
   "outputs": [
    {
     "name": "stdout",
     "output_type": "stream",
     "text": [
      "Hello+ Anushka\n"
     ]
    }
   ],
   "source": [
    "print(\"Hello\", \"Anushka\", sep=\"+ \")"
   ]
  },
  {
   "cell_type": "code",
   "execution_count": 18,
   "id": "1c16f586-51a4-42a7-8fda-94a4b3e6beca",
   "metadata": {},
   "outputs": [
    {
     "name": "stdin",
     "output_type": "stream",
     "text": [
      "Enter the first name:  Anushka\n"
     ]
    }
   ],
   "source": [
    "str1 = input(\"Enter the first name: \")"
   ]
  },
  {
   "cell_type": "code",
   "execution_count": 19,
   "id": "fe523f58-9a0c-42cf-a62f-c23e24a52b6a",
   "metadata": {},
   "outputs": [
    {
     "name": "stdout",
     "output_type": "stream",
     "text": [
      "Hello Anushka\n"
     ]
    }
   ],
   "source": [
    "print(\"Hello {}\".format(str1))"
   ]
  },
  {
   "cell_type": "code",
   "execution_count": 21,
   "id": "d884b22f-225d-4e17-8cdd-a3e249cd8750",
   "metadata": {},
   "outputs": [
    {
     "data": {
      "text/plain": [
       "7"
      ]
     },
     "execution_count": 21,
     "metadata": {},
     "output_type": "execute_result"
    }
   ],
   "source": [
    "len(str1)"
   ]
  },
  {
   "cell_type": "raw",
   "id": "50c27c3a-97e6-408f-9bba-08812a2f5113",
   "metadata": {},
   "source": [
    "[start:end-1]"
   ]
  },
  {
   "cell_type": "code",
   "execution_count": 23,
   "id": "5b73692d-2122-4ce4-adf3-9375141677f0",
   "metadata": {},
   "outputs": [
    {
     "data": {
      "text/plain": [
       "'n'"
      ]
     },
     "execution_count": 23,
     "metadata": {},
     "output_type": "execute_result"
    }
   ],
   "source": [
    "str1[1:2]"
   ]
  },
  {
   "cell_type": "code",
   "execution_count": 24,
   "id": "63969568-5ccd-4543-bc7b-f0391e23076e",
   "metadata": {},
   "outputs": [
    {
     "name": "stdout",
     "output_type": "stream",
     "text": [
      "True\n"
     ]
    }
   ],
   "source": [
    "print(5 > 2)"
   ]
  },
  {
   "cell_type": "code",
   "execution_count": 25,
   "id": "8fc33eb6-738d-4e08-8ffc-bae9e2448552",
   "metadata": {},
   "outputs": [
    {
     "name": "stdout",
     "output_type": "stream",
     "text": [
      "greater\n"
     ]
    }
   ],
   "source": [
    "if 5>2:\n",
    "    print(\"greater\")\n",
    "else:\n",
    "    print(\"smaller\")"
   ]
  },
  {
   "cell_type": "code",
   "execution_count": 26,
   "id": "fe1d1c1f-7c67-4f88-abc7-e400c58878ab",
   "metadata": {},
   "outputs": [],
   "source": [
    "mylist = [\"apple\", \"banana\", \"cherry\"]"
   ]
  },
  {
   "cell_type": "code",
   "execution_count": 27,
   "id": "fbc68894-bdd2-4857-89ce-9a0de2426a69",
   "metadata": {},
   "outputs": [
    {
     "data": {
      "text/plain": [
       "3"
      ]
     },
     "execution_count": 27,
     "metadata": {},
     "output_type": "execute_result"
    }
   ],
   "source": [
    "len(mylist)"
   ]
  },
  {
   "cell_type": "code",
   "execution_count": 28,
   "id": "0e25b8bc-329b-4b92-af5f-c3f168e142f1",
   "metadata": {},
   "outputs": [
    {
     "data": {
      "text/plain": [
       "'apple'"
      ]
     },
     "execution_count": 28,
     "metadata": {},
     "output_type": "execute_result"
    }
   ],
   "source": [
    "mylist[0]"
   ]
  },
  {
   "cell_type": "code",
   "execution_count": 29,
   "id": "51fe2d34-653f-46e6-9d84-76afd25ffbec",
   "metadata": {},
   "outputs": [
    {
     "data": {
      "text/plain": [
       "'cherry'"
      ]
     },
     "execution_count": 29,
     "metadata": {},
     "output_type": "execute_result"
    }
   ],
   "source": [
    "mylist[-1]"
   ]
  },
  {
   "cell_type": "code",
   "execution_count": 31,
   "id": "713f7384-ffde-4579-8155-84ee19fccdcd",
   "metadata": {},
   "outputs": [
    {
     "data": {
      "text/plain": [
       "['banana', 'cherry']"
      ]
     },
     "execution_count": 31,
     "metadata": {},
     "output_type": "execute_result"
    }
   ],
   "source": [
    "mylist[1:3]"
   ]
  },
  {
   "cell_type": "code",
   "execution_count": 32,
   "id": "cf7721db-241e-43f7-8a88-fcf92eb6ac07",
   "metadata": {},
   "outputs": [],
   "source": [
    "thislist = [\"apple\", \"banana\", \"cherry\", \"orange\", \"kiwi\", \"melon\", \"mango\"]"
   ]
  },
  {
   "cell_type": "code",
   "execution_count": 33,
   "id": "c3f6303c-5dc4-4895-a38c-b980e423ce5a",
   "metadata": {},
   "outputs": [
    {
     "data": {
      "text/plain": [
       "['apple', 'banana', 'cherry']"
      ]
     },
     "execution_count": 33,
     "metadata": {},
     "output_type": "execute_result"
    }
   ],
   "source": [
    "thislist[:3]"
   ]
  },
  {
   "cell_type": "code",
   "execution_count": 34,
   "id": "c98d1af9-4f19-480a-a4bf-bd42ea3277fd",
   "metadata": {},
   "outputs": [
    {
     "data": {
      "text/plain": [
       "['cherry', 'orange', 'kiwi', 'melon', 'mango']"
      ]
     },
     "execution_count": 34,
     "metadata": {},
     "output_type": "execute_result"
    }
   ],
   "source": [
    "thislist[2:]"
   ]
  },
  {
   "cell_type": "code",
   "execution_count": 35,
   "id": "41d9b70b-6892-48a7-8099-6807cda8b804",
   "metadata": {},
   "outputs": [
    {
     "data": {
      "text/plain": [
       "[]"
      ]
     },
     "execution_count": 35,
     "metadata": {},
     "output_type": "execute_result"
    }
   ],
   "source": [
    "thislist[-1:-4]"
   ]
  },
  {
   "cell_type": "code",
   "execution_count": 37,
   "id": "2697af6a-1781-4cdf-9029-b4c89d578eba",
   "metadata": {},
   "outputs": [
    {
     "data": {
      "text/plain": [
       "'mango'"
      ]
     },
     "execution_count": 37,
     "metadata": {},
     "output_type": "execute_result"
    }
   ],
   "source": [
    "thislist[-1]"
   ]
  },
  {
   "cell_type": "code",
   "execution_count": 38,
   "id": "55cffbab-4c00-40dc-ae7b-76eda375ed1c",
   "metadata": {},
   "outputs": [
    {
     "data": {
      "text/plain": [
       "['orange', 'kiwi', 'melon']"
      ]
     },
     "execution_count": 38,
     "metadata": {},
     "output_type": "execute_result"
    }
   ],
   "source": [
    "thislist[-4:-1]"
   ]
  },
  {
   "cell_type": "code",
   "execution_count": 43,
   "id": "81b6312c-4945-4d97-aa35-cbbb8624a610",
   "metadata": {},
   "outputs": [
    {
     "data": {
      "text/plain": [
       "['orange', 'kiwi', 'melon', 'mango']"
      ]
     },
     "execution_count": 43,
     "metadata": {},
     "output_type": "execute_result"
    }
   ],
   "source": [
    "thislist[-4:]"
   ]
  },
  {
   "cell_type": "code",
   "execution_count": 44,
   "id": "cae76f70-ba0e-4975-b2c9-920a9e643960",
   "metadata": {},
   "outputs": [
    {
     "name": "stdout",
     "output_type": "stream",
     "text": [
      "yes\n"
     ]
    }
   ],
   "source": [
    "if \"orange\" in thislist:\n",
    "    print(\"yes\")"
   ]
  },
  {
   "cell_type": "code",
   "execution_count": 45,
   "id": "12e14bd2-a123-49a4-8906-fd60241cad94",
   "metadata": {},
   "outputs": [
    {
     "data": {
      "text/plain": [
       "['watermelon', 'banana', 'cherry', 'orange', 'kiwi', 'melon', 'mango']"
      ]
     },
     "execution_count": 45,
     "metadata": {},
     "output_type": "execute_result"
    }
   ],
   "source": [
    "thislist[0]=\"watermelon\"\n",
    "thislist"
   ]
  },
  {
   "cell_type": "code",
   "execution_count": 46,
   "id": "ef2c1a78-1fdf-4e33-9104-d4c6dbe95f89",
   "metadata": {},
   "outputs": [
    {
     "data": {
      "text/plain": [
       "['watermelon', 'apple', 'gauva', 'orange', 'kiwi', 'melon', 'mango']"
      ]
     },
     "execution_count": 46,
     "metadata": {},
     "output_type": "execute_result"
    }
   ],
   "source": [
    "thislist[1:3]=[\"apple\", \"gauva\"]\n",
    "thislist"
   ]
  },
  {
   "cell_type": "code",
   "execution_count": 47,
   "id": "fd024f77-34b6-4fd5-b6ae-d4a3b9af5eb0",
   "metadata": {},
   "outputs": [
    {
     "name": "stdout",
     "output_type": "stream",
     "text": [
      "['apple', 'banana', 'watermelon', 'cherry']\n"
     ]
    }
   ],
   "source": [
    "thislist = [\"apple\", \"banana\", \"cherry\"]\n",
    "thislist.insert(2, \"watermelon\")\n",
    "print(thislist)"
   ]
  },
  {
   "cell_type": "code",
   "execution_count": 48,
   "id": "7f2ea1a5-371e-46e5-846f-eb693e850113",
   "metadata": {},
   "outputs": [
    {
     "name": "stdout",
     "output_type": "stream",
     "text": [
      "['apple', 'banana', 'cherry', 'orange']\n"
     ]
    }
   ],
   "source": [
    "thislist = [\"apple\", \"banana\", \"cherry\"]\n",
    "thislist.append(\"orange\")\n",
    "print(thislist)"
   ]
  },
  {
   "cell_type": "raw",
   "id": "029459d3-f71f-4f99-8e04-398becdef764",
   "metadata": {},
   "source": [
    "To append elements from another list to the current list, use the extend() method.\n",
    "\n"
   ]
  },
  {
   "cell_type": "code",
   "execution_count": 65,
   "id": "c69d69e2-693d-44f6-af35-d823b7cd1b1d",
   "metadata": {},
   "outputs": [
    {
     "name": "stdout",
     "output_type": "stream",
     "text": [
      "['apple', 'banana', 'cherry', 'mango', 'pineapple', 'papaya']\n"
     ]
    }
   ],
   "source": [
    "thislist = [\"apple\", \"banana\", \"cherry\"]\n",
    "thislist1 = [\"mango\", \"pineapple\", \"papaya\"]\n",
    "thislist.extend(thislist1)\n",
    "print(thislist)"
   ]
  },
  {
   "cell_type": "code",
   "execution_count": 66,
   "id": "5c155ada-38e4-43c7-97cb-6ba99328b963",
   "metadata": {},
   "outputs": [
    {
     "data": {
      "text/plain": [
       "['apple', 'banana', 'mango', 'pineapple', 'papaya']"
      ]
     },
     "execution_count": 66,
     "metadata": {},
     "output_type": "execute_result"
    }
   ],
   "source": [
    "thislist.remove(\"cherry\")\n",
    "thislist"
   ]
  },
  {
   "cell_type": "code",
   "execution_count": 67,
   "id": "a509b721-f8eb-42e5-b1dc-392b7312b4a3",
   "metadata": {},
   "outputs": [
    {
     "data": {
      "text/plain": [
       "['apple', 'banana', 'mango', 'banana', 'pineapple', 'papaya']"
      ]
     },
     "execution_count": 67,
     "metadata": {},
     "output_type": "execute_result"
    }
   ],
   "source": [
    "thislist.insert(3, \"banana\")\n",
    "thislist"
   ]
  },
  {
   "cell_type": "code",
   "execution_count": 68,
   "id": "66427c7b-209d-4d5f-bd98-56a6aa2af12d",
   "metadata": {},
   "outputs": [
    {
     "data": {
      "text/plain": [
       "['apple', 'mango', 'banana', 'pineapple', 'papaya']"
      ]
     },
     "execution_count": 68,
     "metadata": {},
     "output_type": "execute_result"
    }
   ],
   "source": [
    "thislist.remove(\"banana\")\n",
    "thislist"
   ]
  },
  {
   "cell_type": "code",
   "execution_count": 69,
   "id": "d83e7a5b-1e02-4773-b8ab-c49714959fe8",
   "metadata": {},
   "outputs": [
    {
     "data": {
      "text/plain": [
       "'banana'"
      ]
     },
     "execution_count": 69,
     "metadata": {},
     "output_type": "execute_result"
    }
   ],
   "source": [
    "thislist.pop(2)"
   ]
  },
  {
   "cell_type": "code",
   "execution_count": 70,
   "id": "9a870cfa-3532-4582-aed9-be7bf4b2af6e",
   "metadata": {},
   "outputs": [
    {
     "data": {
      "text/plain": [
       "['apple', 'mango', 'pineapple', 'papaya']"
      ]
     },
     "execution_count": 70,
     "metadata": {},
     "output_type": "execute_result"
    }
   ],
   "source": [
    "thislist"
   ]
  },
  {
   "cell_type": "code",
   "execution_count": 71,
   "id": "d338ed67-5a43-4d4b-b62b-00500e263904",
   "metadata": {},
   "outputs": [
    {
     "name": "stdout",
     "output_type": "stream",
     "text": [
      "apple\n",
      "mango\n",
      "pineapple\n",
      "papaya\n"
     ]
    }
   ],
   "source": [
    "for i in thislist:\n",
    "    print(i)"
   ]
  },
  {
   "cell_type": "code",
   "execution_count": 73,
   "id": "279a230c-a9c2-4a52-b053-8e4d098bde19",
   "metadata": {},
   "outputs": [
    {
     "name": "stdout",
     "output_type": "stream",
     "text": [
      "apple\n",
      "mango\n",
      "pineapple\n",
      "papaya\n"
     ]
    }
   ],
   "source": [
    "for i in range(len(thislist)):\n",
    "    print(thislist[i])"
   ]
  },
  {
   "cell_type": "code",
   "execution_count": 78,
   "id": "a0576cf5-55ea-4b92-a1ad-678ef590e966",
   "metadata": {},
   "outputs": [
    {
     "name": "stdout",
     "output_type": "stream",
     "text": [
      "apple\n",
      "0\n",
      "banana\n",
      "1\n",
      "cherry\n",
      "2\n"
     ]
    }
   ],
   "source": [
    "thislist = [\"apple\", \"banana\", \"cherry\"]\n",
    "i = 0\n",
    "while i < len(thislist):\n",
    "  print(thislist[i])\n",
    "  print(i)\n",
    "  i = i + 1"
   ]
  },
  {
   "cell_type": "code",
   "execution_count": 80,
   "id": "148b1d47-332f-4adc-9f8a-d15c25e20c10",
   "metadata": {},
   "outputs": [
    {
     "name": "stdout",
     "output_type": "stream",
     "text": [
      "['apple', 'banana', 'cherry']\n"
     ]
    }
   ],
   "source": [
    "print([x for x in thislist])"
   ]
  },
  {
   "cell_type": "code",
   "execution_count": 81,
   "id": "44e82430-a345-484f-973d-559ef8ddf2bd",
   "metadata": {},
   "outputs": [
    {
     "data": {
      "text/plain": [
       "['banana', 'cherry']"
      ]
     },
     "execution_count": 81,
     "metadata": {},
     "output_type": "execute_result"
    }
   ],
   "source": [
    "[x for x in thislist if x != \"apple\"]"
   ]
  },
  {
   "cell_type": "code",
   "execution_count": 83,
   "id": "c6c1a4aa-0aeb-4529-9f18-0ff561fb612f",
   "metadata": {},
   "outputs": [
    {
     "data": {
      "text/plain": [
       "[0, 1, 2, 3, 4, 5, 6, 7, 8, 9]"
      ]
     },
     "execution_count": 83,
     "metadata": {},
     "output_type": "execute_result"
    }
   ],
   "source": [
    "[x for x in range(10)]"
   ]
  },
  {
   "cell_type": "code",
   "execution_count": 84,
   "id": "a97645c8-4619-4207-94b1-f6630d48697e",
   "metadata": {},
   "outputs": [
    {
     "data": {
      "text/plain": [
       "[0, 1, 2, 3, 4]"
      ]
     },
     "execution_count": 84,
     "metadata": {},
     "output_type": "execute_result"
    }
   ],
   "source": [
    "[x for x in range(10) if x < 5]"
   ]
  },
  {
   "cell_type": "code",
   "execution_count": 85,
   "id": "319e943e-00b8-4874-9d55-8e734d625ac3",
   "metadata": {},
   "outputs": [
    {
     "data": {
      "text/plain": [
       "[23, 50, 65, 82, 100]"
      ]
     },
     "execution_count": 85,
     "metadata": {},
     "output_type": "execute_result"
    }
   ],
   "source": [
    "thislist = [100, 50, 65, 82, 23]\n",
    "thislist.sort()\n",
    "thislist"
   ]
  },
  {
   "cell_type": "code",
   "execution_count": 87,
   "id": "29136c60-f3c9-48ad-90c4-2ce763cf4863",
   "metadata": {},
   "outputs": [
    {
     "data": {
      "text/plain": [
       "[100, 82, 65, 50, 23]"
      ]
     },
     "execution_count": 87,
     "metadata": {},
     "output_type": "execute_result"
    }
   ],
   "source": [
    "thislist.sort(reverse = True)\n",
    "thislist"
   ]
  },
  {
   "cell_type": "code",
   "execution_count": null,
   "id": "8cda3b44-9a93-403e-b348-2d3e2692ac80",
   "metadata": {},
   "outputs": [],
   "source": []
  }
 ],
 "metadata": {
  "kernelspec": {
   "display_name": "Python 3 (ipykernel)",
   "language": "python",
   "name": "python3"
  },
  "language_info": {
   "codemirror_mode": {
    "name": "ipython",
    "version": 3
   },
   "file_extension": ".py",
   "mimetype": "text/x-python",
   "name": "python",
   "nbconvert_exporter": "python",
   "pygments_lexer": "ipython3",
   "version": "3.11.9"
  }
 },
 "nbformat": 4,
 "nbformat_minor": 5
}
