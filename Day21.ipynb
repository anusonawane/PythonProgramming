{
 "cells": [
  {
   "cell_type": "raw",
   "id": "bd374c90-bb36-46c9-bc4e-7b040c1d63df",
   "metadata": {},
   "source": [
    "| user_id | transaction_id | product_id | quantity | price | transaction_date     |\n",
    "|---------|----------------|------------|----------|-------|----------------------|\n",
    "| 1       | 101            | A          | 2        | 20.0  | 2023-01-15 10:05:00  |\n",
    "| 2       | 102            | B          | 1        | 15.0  | 2023-01-16 11:15:00  |\n",
    "| 1       | 103            | A          | 1        | 20.0  | 2023-01-17 12:10:00  |\n",
    "| 3       | 104            | C          | 4        | 5.0   | 2023-01-18 14:30:00  |\n",
    "| 2       | 105            | B          | 2        | 15.0  | 2023-01-19 15:45:00  |\n"
   ]
  },
  {
   "cell_type": "code",
   "execution_count": 1,
   "id": "e76d2db2-8903-4cc1-b9e5-a564261f0097",
   "metadata": {},
   "outputs": [
    {
     "name": "stdout",
     "output_type": "stream",
     "text": [
      "   user_id  transaction_id product_id  quantity  price    transaction_date\n",
      "0        1             101          A         2   20.0 2023-01-15 10:05:00\n",
      "1        2             102          B         1   15.0 2023-01-16 11:15:00\n",
      "2        1             103          A         1   20.0 2023-01-17 12:10:00\n",
      "3        3             104          C         4    5.0 2023-01-18 14:30:00\n",
      "4        2             105          B         2   15.0 2023-01-19 15:45:00\n"
     ]
    }
   ],
   "source": [
    "import pandas as pd\n",
    "\n",
    "# Sample data\n",
    "data = {\n",
    "    'user_id': [1, 2, 1, 3, 2],\n",
    "    'transaction_id': [101, 102, 103, 104, 105],\n",
    "    'product_id': ['A', 'B', 'A', 'C', 'B'],\n",
    "    'quantity': [2, 1, 1, 4, 2],\n",
    "    'price': [20.0, 15.0, 20.0, 5.0, 15.0],\n",
    "    'transaction_date': [\n",
    "        '2023-01-15 10:05:00',\n",
    "        '2023-01-16 11:15:00',\n",
    "        '2023-01-17 12:10:00',\n",
    "        '2023-01-18 14:30:00',\n",
    "        '2023-01-19 15:45:00'\n",
    "    ]\n",
    "}\n",
    "\n",
    "# Convert the dictionary to a DataFrame\n",
    "df = pd.DataFrame(data)\n",
    "\n",
    "# Convert 'transaction_date' to datetime format\n",
    "df['transaction_date'] = pd.to_datetime(df['transaction_date'])\n",
    "\n",
    "print(df)\n"
   ]
  },
  {
   "cell_type": "raw",
   "id": "c5ce745b-1343-4d74-b437-8055493643dc",
   "metadata": {},
   "source": [
    "Total Spend per User: Create a new column called total_spend representing the total amount spent per transaction. Then calculate the total spend per user, returning a DataFrame with two columns: user_id and total_spent."
   ]
  },
  {
   "cell_type": "code",
   "execution_count": 2,
   "id": "3d0c54c0-67b9-4d50-8650-9a448473ed9a",
   "metadata": {},
   "outputs": [],
   "source": [
    "df['total_spend'] =df['quantity'] * df['price']"
   ]
  },
  {
   "cell_type": "code",
   "execution_count": 6,
   "id": "8b2d0076-0f32-4919-811b-8fda04323c9e",
   "metadata": {},
   "outputs": [
    {
     "data": {
      "text/html": [
       "<div>\n",
       "<style scoped>\n",
       "    .dataframe tbody tr th:only-of-type {\n",
       "        vertical-align: middle;\n",
       "    }\n",
       "\n",
       "    .dataframe tbody tr th {\n",
       "        vertical-align: top;\n",
       "    }\n",
       "\n",
       "    .dataframe thead th {\n",
       "        text-align: right;\n",
       "    }\n",
       "</style>\n",
       "<table border=\"1\" class=\"dataframe\">\n",
       "  <thead>\n",
       "    <tr style=\"text-align: right;\">\n",
       "      <th></th>\n",
       "      <th>user_id</th>\n",
       "      <th>total_spend</th>\n",
       "    </tr>\n",
       "  </thead>\n",
       "  <tbody>\n",
       "    <tr>\n",
       "      <th>0</th>\n",
       "      <td>1</td>\n",
       "      <td>60.0</td>\n",
       "    </tr>\n",
       "    <tr>\n",
       "      <th>1</th>\n",
       "      <td>2</td>\n",
       "      <td>45.0</td>\n",
       "    </tr>\n",
       "    <tr>\n",
       "      <th>2</th>\n",
       "      <td>3</td>\n",
       "      <td>20.0</td>\n",
       "    </tr>\n",
       "  </tbody>\n",
       "</table>\n",
       "</div>"
      ],
      "text/plain": [
       "   user_id  total_spend\n",
       "0        1         60.0\n",
       "1        2         45.0\n",
       "2        3         20.0"
      ]
     },
     "execution_count": 6,
     "metadata": {},
     "output_type": "execute_result"
    }
   ],
   "source": [
    "df.groupby('user_id')['total_spend'].sum().reset_index()"
   ]
  },
  {
   "cell_type": "code",
   "execution_count": 7,
   "id": "ebc2d59c-b508-4ca2-8411-7ad0d65aca8a",
   "metadata": {},
   "outputs": [],
   "source": [
    "###################################################"
   ]
  },
  {
   "cell_type": "code",
   "execution_count": 8,
   "id": "2651e6fc-1a22-4ec5-980e-69f2ff5f0e6a",
   "metadata": {},
   "outputs": [
    {
     "name": "stdout",
     "output_type": "stream",
     "text": [
      "  department employee  salary  bonus\n",
      "0      Sales    Alice   70000   5000\n",
      "1      Sales      Bob   60000   3000\n",
      "2         IT  Charlie   90000   8000\n",
      "3         HR    David   50000   2000\n",
      "4         HR      Eva   55000   2500\n",
      "5         IT    Frank   85000   7000\n",
      "6      Sales    Grace   75000   4000\n"
     ]
    }
   ],
   "source": [
    "import pandas as pd\n",
    "\n",
    "data = {\n",
    "    'department': ['Sales', 'Sales', 'IT', 'HR', 'HR', 'IT', 'Sales'],\n",
    "    'employee': ['Alice', 'Bob', 'Charlie', 'David', 'Eva', 'Frank', 'Grace'],\n",
    "    'salary': [70000, 60000, 90000, 50000, 55000, 85000, 75000],\n",
    "    'bonus': [5000, 3000, 8000, 2000, 2500, 7000, 4000]\n",
    "}\n",
    "\n",
    "df = pd.DataFrame(data)\n",
    "print(df)\n"
   ]
  },
  {
   "cell_type": "raw",
   "id": "e739a87b-7a7a-4fd0-baca-74f0bbed7509",
   "metadata": {},
   "source": [
    "The basic syntax of groupby involves specifying one or more columns to group by:"
   ]
  },
  {
   "cell_type": "code",
   "execution_count": 9,
   "id": "88e7ad4b-547d-4507-aafd-62fba96126a1",
   "metadata": {},
   "outputs": [
    {
     "data": {
      "text/plain": [
       "<pandas.core.groupby.generic.DataFrameGroupBy object at 0x7f3a9a2eb450>"
      ]
     },
     "execution_count": 9,
     "metadata": {},
     "output_type": "execute_result"
    }
   ],
   "source": [
    "grouped = df.groupby('department')\n",
    "grouped"
   ]
  },
  {
   "cell_type": "raw",
   "id": "bc33ea2b-c498-458a-a3f8-0db1c8f459a7",
   "metadata": {},
   "source": [
    "Applying Aggregation Functions"
   ]
  },
  {
   "cell_type": "code",
   "execution_count": 10,
   "id": "c9267c3a-c214-4778-bea8-060fa07cfb66",
   "metadata": {},
   "outputs": [
    {
     "data": {
      "text/plain": [
       "department\n",
       "HR       105000\n",
       "IT       175000\n",
       "Sales    205000\n",
       "Name: salary, dtype: int64"
      ]
     },
     "execution_count": 10,
     "metadata": {},
     "output_type": "execute_result"
    }
   ],
   "source": [
    "grouped['salary'].sum()"
   ]
  },
  {
   "cell_type": "code",
   "execution_count": 12,
   "id": "f69612ff-916b-4cce-b039-0322c7ef796a",
   "metadata": {},
   "outputs": [
    {
     "data": {
      "text/plain": [
       "department\n",
       "HR       105000\n",
       "IT       175000\n",
       "Sales    205000\n",
       "Name: salary, dtype: int64"
      ]
     },
     "execution_count": 12,
     "metadata": {},
     "output_type": "execute_result"
    }
   ],
   "source": [
    "grouped['salary'].sum()"
   ]
  },
  {
   "cell_type": "code",
   "execution_count": 13,
   "id": "9d9bc1bc-accf-4e8b-8400-e75792053b24",
   "metadata": {},
   "outputs": [
    {
     "name": "stdout",
     "output_type": "stream",
     "text": [
      "                  salary  bonus\n",
      "department                     \n",
      "HR          52500.000000   4500\n",
      "IT          87500.000000  15000\n",
      "Sales       68333.333333  12000\n"
     ]
    }
   ],
   "source": [
    "stats = grouped.agg({\n",
    "    'salary': 'mean',\n",
    "    'bonus': 'sum'\n",
    "})\n",
    "print(stats)"
   ]
  },
  {
   "cell_type": "code",
   "execution_count": null,
   "id": "50115e44-ae60-4313-b115-d3c233032d23",
   "metadata": {},
   "outputs": [],
   "source": []
  }
 ],
 "metadata": {
  "kernelspec": {
   "display_name": "Python 3 (ipykernel)",
   "language": "python",
   "name": "python3"
  },
  "language_info": {
   "codemirror_mode": {
    "name": "ipython",
    "version": 3
   },
   "file_extension": ".py",
   "mimetype": "text/x-python",
   "name": "python",
   "nbconvert_exporter": "python",
   "pygments_lexer": "ipython3",
   "version": "3.11.9"
  }
 },
 "nbformat": 4,
 "nbformat_minor": 5
}
