{
 "cells": [
  {
   "cell_type": "raw",
   "id": "36156d51-640f-4b1b-aba2-e431b212b415",
   "metadata": {},
   "source": [
    "Count the Number of Even Numbers in an Array"
   ]
  },
  {
   "cell_type": "code",
   "execution_count": 1,
   "id": "ba18fb22-3467-4ab0-9176-1510bd2f45ce",
   "metadata": {},
   "outputs": [],
   "source": [
    "def count_evens(arr):\n",
    "    count = 0 \n",
    "    for num in arr:  \n",
    "        if num % 2 == 0:  \n",
    "            count += 1  \n",
    "    return count\n",
    "\n"
   ]
  },
  {
   "cell_type": "code",
   "execution_count": 2,
   "id": "82bfa555-f388-4d25-8ae3-e5ed627c2733",
   "metadata": {},
   "outputs": [
    {
     "data": {
      "text/plain": [
       "3"
      ]
     },
     "execution_count": 2,
     "metadata": {},
     "output_type": "execute_result"
    }
   ],
   "source": [
    "arr = [1, 2, 3, 4, 5, 6]\n",
    "count_evens(arr)"
   ]
  },
  {
   "cell_type": "code",
   "execution_count": null,
   "id": "95e3e0f3-75e5-4b92-b8b3-b2936517c18d",
   "metadata": {},
   "outputs": [],
   "source": []
  }
 ],
 "metadata": {
  "kernelspec": {
   "display_name": "Python 3 (ipykernel)",
   "language": "python",
   "name": "python3"
  },
  "language_info": {
   "codemirror_mode": {
    "name": "ipython",
    "version": 3
   },
   "file_extension": ".py",
   "mimetype": "text/x-python",
   "name": "python",
   "nbconvert_exporter": "python",
   "pygments_lexer": "ipython3",
   "version": "3.11.9"
  }
 },
 "nbformat": 4,
 "nbformat_minor": 5
}
