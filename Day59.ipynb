{
 "cells": [
  {
   "cell_type": "code",
   "execution_count": 1,
   "id": "ae7e0718-c4a3-4c30-9eac-4d066466ae4d",
   "metadata": {},
   "outputs": [],
   "source": [
    "# Sort a List of Dictionaries by Key age"
   ]
  },
  {
   "cell_type": "code",
   "execution_count": 2,
   "id": "d3ed7e92-5e65-48dc-84e3-7fc734d23a80",
   "metadata": {},
   "outputs": [
    {
     "name": "stdout",
     "output_type": "stream",
     "text": [
      "Sorted by age: [{'name': 'Mike', 'age': 21}, {'name': 'Anna', 'age': 22}, {'name': 'John', 'age': 25}]\n"
     ]
    }
   ],
   "source": [
    "students = [\n",
    "    {\"name\": \"John\", \"age\": 25},\n",
    "    {\"name\": \"Anna\", \"age\": 22},\n",
    "    {\"name\": \"Mike\", \"age\": 21},\n",
    "]\n",
    "\n",
    "sorted_students = sorted(students, key=lambda x: x['age'])\n",
    "print(\"Sorted by age:\", sorted_students)\n"
   ]
  },
  {
   "cell_type": "code",
   "execution_count": null,
   "id": "149fc95a-aaa4-4fa1-86e2-be8b8b60c34c",
   "metadata": {},
   "outputs": [],
   "source": []
  }
 ],
 "metadata": {
  "kernelspec": {
   "display_name": "Python 3 (ipykernel)",
   "language": "python",
   "name": "python3"
  },
  "language_info": {
   "codemirror_mode": {
    "name": "ipython",
    "version": 3
   },
   "file_extension": ".py",
   "mimetype": "text/x-python",
   "name": "python",
   "nbconvert_exporter": "python",
   "pygments_lexer": "ipython3",
   "version": "3.11.9"
  }
 },
 "nbformat": 4,
 "nbformat_minor": 5
}
