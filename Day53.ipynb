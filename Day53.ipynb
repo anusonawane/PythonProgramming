{
 "cells": [
  {
   "cell_type": "code",
   "execution_count": 1,
   "id": "b2fd93d1-885d-43ed-b12a-f1cbbe474721",
   "metadata": {},
   "outputs": [
    {
     "name": "stdout",
     "output_type": "stream",
     "text": [
      "\n",
      "To-Do List:\n",
      "No tasks in the list!\n",
      "\n",
      "Options:\n",
      "1. Add Task\n",
      "2. Remove Task\n",
      "3. Exit\n"
     ]
    },
    {
     "name": "stdin",
     "output_type": "stream",
     "text": [
      "Choose an option:  1\n",
      "Enter a new task:  Write a python program \n"
     ]
    },
    {
     "name": "stdout",
     "output_type": "stream",
     "text": [
      "Task added!\n",
      "\n",
      "To-Do List:\n",
      "1. Write a python program \n",
      "\n",
      "Options:\n",
      "1. Add Task\n",
      "2. Remove Task\n",
      "3. Exit\n"
     ]
    },
    {
     "name": "stdin",
     "output_type": "stream",
     "text": [
      "Choose an option:  3\n"
     ]
    },
    {
     "name": "stdout",
     "output_type": "stream",
     "text": [
      "Goodbye!\n"
     ]
    }
   ],
   "source": [
    "to_do_list = []\n",
    "\n",
    "def display_tasks():\n",
    "    if not to_do_list:\n",
    "        print(\"No tasks in the list!\")\n",
    "    else:\n",
    "        for i, task in enumerate(to_do_list, 1):\n",
    "            print(f\"{i}. {task}\")\n",
    "\n",
    "def add_task():\n",
    "    task = input(\"Enter a new task: \")\n",
    "    to_do_list.append(task)\n",
    "    print(\"Task added!\")1\n",
    "\n",
    "def remove_task():\n",
    "    display_tasks()\n",
    "    task_num = int(input(\"Enter the task number to remove: \"))\n",
    "    if 0 < task_num <= len(to_do_list):\n",
    "        removed = to_do_list.pop(task_num - 1)\n",
    "        print(f\"Task '{removed}' removed!\")\n",
    "    else:\n",
    "        print(\"Invalid task number!\")\n",
    "\n",
    "while True:\n",
    "    print(\"\\nTo-Do List:\")\n",
    "    display_tasks()\n",
    "    print(\"\\nOptions:\")\n",
    "    print(\"1. Add Task\")\n",
    "    print(\"2. Remove Task\")\n",
    "    print(\"3. Exit\")\n",
    "\n",
    "    choice = input(\"Choose an option: \")\n",
    "    if choice == \"1\":\n",
    "        add_task()\n",
    "    elif choice == \"2\":\n",
    "        remove_task()\n",
    "    elif choice == \"3\":\n",
    "        print(\"Goodbye!\")\n",
    "        break\n",
    "    else:\n",
    "        print(\"Invalid choice!\")\n"
   ]
  },
  {
   "cell_type": "code",
   "execution_count": null,
   "id": "e03803d6-9c4e-46ae-8d4a-43f8a79ab7e8",
   "metadata": {},
   "outputs": [],
   "source": []
  }
 ],
 "metadata": {
  "kernelspec": {
   "display_name": "Python 3 (ipykernel)",
   "language": "python",
   "name": "python3"
  },
  "language_info": {
   "codemirror_mode": {
    "name": "ipython",
    "version": 3
   },
   "file_extension": ".py",
   "mimetype": "text/x-python",
   "name": "python",
   "nbconvert_exporter": "python",
   "pygments_lexer": "ipython3",
   "version": "3.11.9"
  }
 },
 "nbformat": 4,
 "nbformat_minor": 5
}
