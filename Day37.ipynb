{
 "cells": [
  {
   "cell_type": "raw",
   "id": "21bedca9-f01d-45d4-9f0a-440f74968f36",
   "metadata": {},
   "source": [
    "generate_combinations that generates all possible combinations of a given list of integers nums of length k. The combinations should be returned as a list of lists, and each combination should be in sorted order."
   ]
  },
  {
   "cell_type": "code",
   "execution_count": null,
   "id": "3c24a74d-78be-4c4c-b14d-71be44fcc953",
   "metadata": {},
   "outputs": [],
   "source": [
    "def generate_combinations(nums, k):\n",
    "    \"\"\"\n",
    "    Generates all possible combinations of `k` elements from `nums`.\n",
    "\n",
    "    Args:\n",
    "    nums (list): A list of integers.\n",
    "    k (int): Length of each combination.\n",
    "\n",
    "    Returns:\n",
    "    list: A list of lists, where each inner list is a combination.\n",
    "    \"\"\"\n",
    "    def backtrack(start, combination):\n",
    "        # If the combination is of the desired length, add it to the result\n",
    "        if len(combination) == k:\n",
    "            result.append(combination[:])\n",
    "            return\n",
    "        \n",
    "        # Explore further combinations\n",
    "        for i in range(start, len(nums)):\n",
    "            combination.append(nums[i])  # Include nums[i] in the combination\n",
    "            backtrack(i + 1, combination)  # Move to the next index\n",
    "            combination.pop()  # Backtrack by removing the last element\n",
    "\n",
    "    result = []\n",
    "    backtrack(0, [])\n",
    "    return result\n",
    "\n",
    "# Example usage\n",
    "nums = [1, 2, 3, 4]\n",
    "k = 2\n",
    "print(generate_combinations(nums, k))\n",
    "# Output: [[1, 2], [1, 3], [1, 4], [2, 3], [2, 4], [3, 4]]\n"
   ]
  },
  {
   "cell_type": "code",
   "execution_count": null,
   "id": "69912269-c3ea-4979-a912-c3b0a098c6f6",
   "metadata": {},
   "outputs": [],
   "source": [
    "nums = [1, 2, 3, 4]\n",
    "k = 2\n",
    "generate_combinations(nums, k)\n"
   ]
  }
 ],
 "metadata": {
  "kernelspec": {
   "display_name": "Python 3 (ipykernel)",
   "language": "python",
   "name": "python3"
  },
  "language_info": {
   "codemirror_mode": {
    "name": "ipython",
    "version": 3
   },
   "file_extension": ".py",
   "mimetype": "text/x-python",
   "name": "python",
   "nbconvert_exporter": "python",
   "pygments_lexer": "ipython3",
   "version": "3.11.9"
  }
 },
 "nbformat": 4,
 "nbformat_minor": 5
}
