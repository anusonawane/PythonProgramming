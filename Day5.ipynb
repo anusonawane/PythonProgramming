{
 "cells": [
  {
   "cell_type": "code",
   "execution_count": 5,
   "id": "c6ebf411-63bc-4a10-8da2-d59861fcf8c8",
   "metadata": {},
   "outputs": [],
   "source": [
    "class Outer:\n",
    "    def m1(self):\n",
    "        print(\"I am outer class\")\n",
    "    class Inner:\n",
    "        def m2(self):\n",
    "            print(\"I am Inner Class\")\n",
    "            "
   ]
  },
  {
   "cell_type": "code",
   "execution_count": 6,
   "id": "d1da827a-0b23-4b9c-b690-e83c9b769b77",
   "metadata": {},
   "outputs": [
    {
     "name": "stdout",
     "output_type": "stream",
     "text": [
      "I am outer class\n"
     ]
    }
   ],
   "source": [
    "o1 = Outer().m1()"
   ]
  },
  {
   "cell_type": "code",
   "execution_count": 7,
   "id": "f6fbfced-71c2-4ad7-b6ce-e3b4e0c4bd5a",
   "metadata": {},
   "outputs": [
    {
     "name": "stdout",
     "output_type": "stream",
     "text": [
      "I am Inner Class\n"
     ]
    }
   ],
   "source": [
    "i1 = Outer().Inner().m2()"
   ]
  },
  {
   "cell_type": "code",
   "execution_count": null,
   "id": "8c117963-7ba4-4eec-bf98-149e1ffc190a",
   "metadata": {},
   "outputs": [],
   "source": []
  }
 ],
 "metadata": {
  "kernelspec": {
   "display_name": "Python 3 (ipykernel)",
   "language": "python",
   "name": "python3"
  },
  "language_info": {
   "codemirror_mode": {
    "name": "ipython",
    "version": 3
   },
   "file_extension": ".py",
   "mimetype": "text/x-python",
   "name": "python",
   "nbconvert_exporter": "python",
   "pygments_lexer": "ipython3",
   "version": "3.11.9"
  }
 },
 "nbformat": 4,
 "nbformat_minor": 5
}
