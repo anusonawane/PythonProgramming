{
 "cells": [
  {
   "cell_type": "markdown",
   "id": "51311a5a-f5ca-4aa7-af23-bc53b4c675af",
   "metadata": {},
   "source": [
    "## Python challenging programming exercises for all levels "
   ]
  },
  {
   "cell_type": "code",
   "execution_count": null,
   "id": "4dfd8555-ab53-4407-862c-5bad57b1f834",
   "metadata": {},
   "outputs": [],
   "source": [
    "\"\"\"\n",
    "Write a program which will find all such numbers which are divisible by 7 but are not a multiple of 5,\n",
    "between 2000 and 3200 (both included).\n",
    "The numbers obtained should be printed in a comma-separated sequence on a single line.\n",
    "\"\"\""
   ]
  },
  {
   "cell_type": "code",
   "execution_count": 9,
   "id": "1daa79e0-c86f-47af-9567-aa090eddc4e0",
   "metadata": {},
   "outputs": [
    {
     "name": "stdout",
     "output_type": "stream",
     "text": [
      "['2002', '2009', '2016', '2023', '2037', '2044', '2051', '2058', '2072', '2079', '2086', '2093', '2107', '2114', '2121', '2128', '2142', '2149', '2156', '2163', '2177', '2184', '2191', '2198', '2212', '2219', '2226', '2233', '2247', '2254', '2261', '2268', '2282', '2289', '2296', '2303', '2317', '2324', '2331', '2338', '2352', '2359', '2366', '2373', '2387', '2394', '2401', '2408', '2422', '2429', '2436', '2443', '2457', '2464', '2471', '2478', '2492', '2499', '2506', '2513', '2527', '2534', '2541', '2548', '2562', '2569', '2576', '2583', '2597', '2604', '2611', '2618', '2632', '2639', '2646', '2653', '2667', '2674', '2681', '2688', '2702', '2709', '2716', '2723', '2737', '2744', '2751', '2758', '2772', '2779', '2786', '2793', '2807', '2814', '2821', '2828', '2842', '2849', '2856', '2863', '2877', '2884', '2891', '2898', '2912', '2919', '2926', '2933', '2947', '2954', '2961', '2968', '2982', '2989', '2996', '3003', '3017', '3024', '3031', '3038', '3052', '3059', '3066', '3073', '3087', '3094', '3101', '3108', '3122', '3129', '3136', '3143', '3157', '3164', '3171', '3178', '3192', '3199']\n",
      "2002,2009,2016,2023,2037,2044,2051,2058,2072,2079,2086,2093,2107,2114,2121,2128,2142,2149,2156,2163,2177,2184,2191,2198,2212,2219,2226,2233,2247,2254,2261,2268,2282,2289,2296,2303,2317,2324,2331,2338,2352,2359,2366,2373,2387,2394,2401,2408,2422,2429,2436,2443,2457,2464,2471,2478,2492,2499,2506,2513,2527,2534,2541,2548,2562,2569,2576,2583,2597,2604,2611,2618,2632,2639,2646,2653,2667,2674,2681,2688,2702,2709,2716,2723,2737,2744,2751,2758,2772,2779,2786,2793,2807,2814,2821,2828,2842,2849,2856,2863,2877,2884,2891,2898,2912,2919,2926,2933,2947,2954,2961,2968,2982,2989,2996,3003,3017,3024,3031,3038,3052,3059,3066,3073,3087,3094,3101,3108,3122,3129,3136,3143,3157,3164,3171,3178,3192,3199\n"
     ]
    }
   ],
   "source": [
    "num = []\n",
    "for i in range(2000, 3201):\n",
    "    if i % 7 == 0 and i % 5 != 0:\n",
    "        num.append(str(i))\n",
    "print(num)\n",
    "print(\",\".join(num))"
   ]
  },
  {
   "cell_type": "code",
   "execution_count": null,
   "id": "bb152b4b-72a8-4296-8db4-b55f75bbed90",
   "metadata": {},
   "outputs": [],
   "source": [
    "\"\"\"\n",
    "Write a program which can compute the factorial of a given numbers.\n",
    "The results should be printed in a comma-separated sequence on a single line.\n",
    "Suppose the following input is supplied to the program:\n",
    "8\n",
    "Then, the output should be:\n",
    "40320\n",
    "\"\"\""
   ]
  },
  {
   "cell_type": "code",
   "execution_count": 19,
   "id": "142c880e-9830-48d1-97da-42388f44611d",
   "metadata": {},
   "outputs": [
    {
     "name": "stdout",
     "output_type": "stream",
     "text": [
      "1\n",
      "2\n",
      "3\n",
      "4\n",
      "120\n"
     ]
    }
   ],
   "source": [
    "Fact = 1\n",
    "num = 4\n",
    "for i in range(1,num+1):\n",
    "    print(i)\n",
    "    Fact+=Fact * i\n",
    "print(Fact)"
   ]
  },
  {
   "cell_type": "code",
   "execution_count": null,
   "id": "24515947-5954-48a5-82a9-e3fca843dd7c",
   "metadata": {},
   "outputs": [],
   "source": [
    "\"\"\"\n",
    "With a given integral number n, write a program to generate a dictionary that contains (i, i*i) such that is an integral number between 1 and n (both included). and then the program should print the dictionary.\n",
    "Suppose the following input is supplied to the program:\n",
    "\"\"\""
   ]
  },
  {
   "cell_type": "code",
   "execution_count": 10,
   "id": "73085bfd-7250-47ed-9c48-c98c58f64d6a",
   "metadata": {},
   "outputs": [],
   "source": [
    "num = 5\n",
    "og_num = []\n",
    "sq_num = []\n",
    "final_dict = dict()\n",
    "for i in range(1,num+1):\n",
    "    og_num.append(i)\n",
    "    sq_num.append(i*i)\n",
    "    "
   ]
  },
  {
   "cell_type": "code",
   "execution_count": 19,
   "id": "7cedbb04-4ad0-4511-8f2f-69dcdaf4b1b7",
   "metadata": {},
   "outputs": [],
   "source": [
    "for j in og_num:\n",
    "    final_dict[j] = j*j"
   ]
  },
  {
   "cell_type": "code",
   "execution_count": 20,
   "id": "c4686c5b-81d5-4320-a599-4a37b025ce82",
   "metadata": {},
   "outputs": [
    {
     "data": {
      "text/plain": [
       "{1: 1, 2: 4, 3: 9, 4: 16, 5: 25}"
      ]
     },
     "execution_count": 20,
     "metadata": {},
     "output_type": "execute_result"
    }
   ],
   "source": [
    "final_dict"
   ]
  },
  {
   "cell_type": "code",
   "execution_count": 22,
   "id": "b2a1f980-bd1c-4e81-8a26-6a810012d965",
   "metadata": {},
   "outputs": [
    {
     "data": {
      "text/plain": [
       "'\\nWrite a program which accepts a sequence of comma-separated numbers from console and generate a list and a tuple which contains every number.\\nSuppose the following input is supplied to the program:\\n'"
      ]
     },
     "execution_count": 22,
     "metadata": {},
     "output_type": "execute_result"
    }
   ],
   "source": [
    "\"\"\"\n",
    "Write a program which accepts a sequence of comma-separated numbers from console and generate a list and a tuple which contains every number.\n",
    "Suppose the following input is supplied to the program:\n",
    "\"\"\""
   ]
  },
  {
   "cell_type": "code",
   "execution_count": 33,
   "id": "1709f11d-f54b-4651-b00e-294a7717ba1b",
   "metadata": {},
   "outputs": [
    {
     "name": "stdin",
     "output_type": "stream",
     "text": [
      " 8,99,8\n"
     ]
    },
    {
     "name": "stdout",
     "output_type": "stream",
     "text": [
      "['8', ',', '9', '9', ',', '8']\n"
     ]
    }
   ],
   "source": [
    "lst_inp = (input())\n",
    "lst_inp.split(\",\")\n",
    "l1 = list(lst_inp)\n",
    "print(l1)\n"
   ]
  },
  {
   "cell_type": "code",
   "execution_count": 34,
   "id": "3462ffbd-ebe4-4351-a47f-2dbc2bad51a7",
   "metadata": {},
   "outputs": [
    {
     "ename": "SyntaxError",
     "evalue": "incomplete input (969763094.py, line 1)",
     "output_type": "error",
     "traceback": [
      "\u001b[1;36m  Cell \u001b[1;32mIn[34], line 1\u001b[1;36m\u001b[0m\n\u001b[1;33m    \"\"\"\u001b[0m\n\u001b[1;37m    ^\u001b[0m\n\u001b[1;31mSyntaxError\u001b[0m\u001b[1;31m:\u001b[0m incomplete input\n"
     ]
    }
   ],
   "source": [
    "\"\"\"\n",
    "Define a class which has at least two methods:\n",
    "getString: to get a string from console input\n",
    "printString: to print the string in upper case.\n",
    "Also please include simple test function to test the class methods\n",
    "\"\"\""
   ]
  },
  {
   "cell_type": "code",
   "execution_count": 55,
   "id": "89ea4c48-de5c-42e0-8614-1a9bea08470b",
   "metadata": {},
   "outputs": [],
   "source": [
    "class string():\n",
    "    def __init__(self):\n",
    "        self.s = \"\"\n",
    "        \n",
    "    def get_string(self):\n",
    "        self.s = input()\n",
    "\n",
    "    def print_string(self):\n",
    "        print(self.s.upper())"
   ]
  },
  {
   "cell_type": "code",
   "execution_count": 56,
   "id": "163cc854-3756-41d5-8b48-516e17211c8f",
   "metadata": {},
   "outputs": [],
   "source": [
    "w = string()"
   ]
  },
  {
   "cell_type": "code",
   "execution_count": 58,
   "id": "1c4866f0-de4e-458f-be1d-abcceeead2eb",
   "metadata": {},
   "outputs": [
    {
     "name": "stdin",
     "output_type": "stream",
     "text": [
      " okoko\n"
     ]
    }
   ],
   "source": [
    "w.get_string()"
   ]
  },
  {
   "cell_type": "code",
   "execution_count": 59,
   "id": "c3120ce4-4cbb-469e-8973-f2cec037c54a",
   "metadata": {},
   "outputs": [
    {
     "name": "stdout",
     "output_type": "stream",
     "text": [
      "OKOKO\n"
     ]
    }
   ],
   "source": [
    "w.print_string()"
   ]
  },
  {
   "cell_type": "code",
   "execution_count": null,
   "id": "47774885-957a-4438-8e1c-9efbb5ae137e",
   "metadata": {},
   "outputs": [],
   "source": [
    "\"\"\"\n",
    "Write a program that calculates and prints the value according to the given formula:\n",
    "Q = Square root of [(2 * C * D)/H]\n",
    "Following are the fixed values of C and H:\n",
    "C is 50. H is 30.\n",
    "D is the variable whose values should be input to your program in a comma-separated sequence.\n",
    "Example\n",
    "Let us assume the following comma separated input sequence is given to the program:\n",
    "100,150,180\n",
    "The output of the program should be:\n",
    "18,22,24\n",
    "\"\"\""
   ]
  },
  {
   "cell_type": "code",
   "execution_count": 75,
   "id": "cd0c842e-c275-49c8-9e4c-b9170836b50b",
   "metadata": {},
   "outputs": [
    {
     "name": "stdin",
     "output_type": "stream",
     "text": [
      " 7,8,9\n"
     ]
    },
    {
     "name": "stdout",
     "output_type": "stream",
     "text": [
      "['7', '8', '9']\n",
      "[4.83, 5.16, 5.48]\n"
     ]
    }
   ],
   "source": [
    "c = 50\n",
    "h = 30\n",
    "#Q = ((2 * c * d)/h)**0.5\n",
    "imp = input()\n",
    "sep_inp = (imp.split(\",\"))\n",
    "print(sep_inp)\n",
    "#sep_inp = int(sep_inp)\n",
    "#print(\"###\",sep_inp)\n",
    "total = []\n",
    "for i in (sep_inp):\n",
    "    Q = ((2 * c * int(i))/h)**0.5\n",
    "    total.append(round(Q,2))\n",
    "print(total)\n",
    "    \n",
    "\n",
    "    "
   ]
  },
  {
   "cell_type": "code",
   "execution_count": 76,
   "id": "5f999995-8bd8-4675-b35a-f2db856efc3e",
   "metadata": {},
   "outputs": [
    {
     "ename": "SyntaxError",
     "evalue": "incomplete input (969763094.py, line 1)",
     "output_type": "error",
     "traceback": [
      "\u001b[1;36m  Cell \u001b[1;32mIn[76], line 1\u001b[1;36m\u001b[0m\n\u001b[1;33m    \"\"\"\u001b[0m\n\u001b[1;37m    ^\u001b[0m\n\u001b[1;31mSyntaxError\u001b[0m\u001b[1;31m:\u001b[0m incomplete input\n"
     ]
    }
   ],
   "source": [
    "\"\"\"\n",
    "Write a program which takes 2 digits, X,Y as input and generates a 2-dimensional array. The element value in the i-th row and j-th column of the array should be i*j.\n",
    "Note: i=0,1.., X-1; j=0,1,¡­Y-1.\n",
    "\"\"\""
   ]
  },
  {
   "cell_type": "code",
   "execution_count": 79,
   "id": "21168458-2ae4-4902-8683-6b9bbe3161dc",
   "metadata": {},
   "outputs": [
    {
     "name": "stdout",
     "output_type": "stream",
     "text": [
      "0 \n",
      "0 1 \n",
      "0 1 2 \n"
     ]
    }
   ],
   "source": [
    "x = 3\n",
    "y = 5\n",
    "for i in range(1,x+1):\n",
    "    for j in range(i):\n",
    "        print(j,end =\" \")\n",
    "    print()"
   ]
  },
  {
   "cell_type": "code",
   "execution_count": 80,
   "id": "0d2eceae-a79f-4bd8-ab39-9e9462563f82",
   "metadata": {},
   "outputs": [
    {
     "ename": "SyntaxError",
     "evalue": "incomplete input (969763094.py, line 1)",
     "output_type": "error",
     "traceback": [
      "\u001b[1;36m  Cell \u001b[1;32mIn[80], line 1\u001b[1;36m\u001b[0m\n\u001b[1;33m    \"\"\"\u001b[0m\n\u001b[1;37m    ^\u001b[0m\n\u001b[1;31mSyntaxError\u001b[0m\u001b[1;31m:\u001b[0m incomplete input\n"
     ]
    }
   ],
   "source": [
    "\"\"\"\n",
    "Write a program that accepts a comma separated sequence of words as input and prints the words in a comma-separated sequence after sorting them alphabetically.\n",
    "Suppose the following input is supplied to the program:\n",
    "without,hello,bag,world\n",
    "Then, the output should be:\n",
    "bag,hello,without,world\n",
    "\"\"\""
   ]
  },
  {
   "cell_type": "code",
   "execution_count": 90,
   "id": "50559661-9780-4fac-b2fa-fa2aa84c1cc4",
   "metadata": {},
   "outputs": [
    {
     "name": "stdin",
     "output_type": "stream",
     "text": [
      " stablity , bug fixing , activity \n"
     ]
    },
    {
     "name": "stdout",
     "output_type": "stream",
     "text": [
      "[' activity ', ' bug fixing ', 'stablity ']\n"
     ]
    }
   ],
   "source": [
    "words = input()\n",
    "sep_words = words.split(\",\")\n",
    "sep_words.sort()\n",
    "print(sep_words)"
   ]
  },
  {
   "cell_type": "code",
   "execution_count": 88,
   "id": "42cdd211-3ea3-409c-b923-f32d4bb02e85",
   "metadata": {},
   "outputs": [
    {
     "name": "stdout",
     "output_type": "stream",
     "text": [
      "<class 'str'>\n"
     ]
    }
   ],
   "source": [
    "print(type(sep_words))"
   ]
  },
  {
   "cell_type": "code",
   "execution_count": null,
   "id": "102bf444-acad-44b9-ae7b-84e3278ff620",
   "metadata": {},
   "outputs": [],
   "source": [
    "\"\"\"\n",
    "Write a program that accepts sequence of lines as input and prints the lines after making all characters in the sentence capitalized.\n",
    "Suppose the following input is supplied to the program:\n",
    "Hello world\n",
    "Practice makes perfect\n",
    "Then, the output should be:\n",
    "HELLO WORLD\n",
    "PRACTICE MAKES PERFECT\n",
    "\"\"\""
   ]
  },
  {
   "cell_type": "code",
   "execution_count": 93,
   "id": "42902d8f-5c72-491f-b31f-08aafcd0b822",
   "metadata": {},
   "outputs": [
    {
     "name": "stdin",
     "output_type": "stream",
     "text": [
      " prorirty is track everything, representation understandable UI  workflow tracking \n"
     ]
    },
    {
     "name": "stdout",
     "output_type": "stream",
     "text": [
      "['prorirty is track everything, representation understandable UI  workflow tracking ']\n",
      "PRORIRTY IS TRACK EVERYTHING, REPRESENTATION UNDERSTANDABLE UI  WORKFLOW TRACKING \n"
     ]
    }
   ],
   "source": [
    "seq_lines = input()\n",
    "new_list = seq_lines.split('\\n')\n",
    "print(new_list)\n",
    "for i in new_list:\n",
    "    print(i.upper())"
   ]
  },
  {
   "cell_type": "code",
   "execution_count": null,
   "id": "11ef5ad1-310a-488e-8e78-467fa4e24548",
   "metadata": {},
   "outputs": [],
   "source": [
    "\"\"\"\n",
    "Write a program that accepts a sequence of whitespace separated words as input and prints the words after removing all duplicate words and sorting them alphanumerically.\n",
    "Suppose the following input is supplied to the program:\n",
    "hello world and practice makes perfect and hello world again\n",
    "Then, the output should be:\n",
    "again and hello makes perfect practice world\n",
    "\"\"\""
   ]
  },
  {
   "cell_type": "code",
   "execution_count": 102,
   "id": "113dd35c-599d-40d6-a886-8088ecc42b61",
   "metadata": {},
   "outputs": [
    {
     "name": "stdin",
     "output_type": "stream",
     "text": [
      " Chinmay Mangesh Bhalerao\n"
     ]
    },
    {
     "name": "stdout",
     "output_type": "stream",
     "text": [
      "Bhalerao Chinmay Mangesh\n"
     ]
    }
   ],
   "source": [
    "s = input()\n",
    "words = [word for word in s.split(\" \")]\n",
    "print( \" \".join(sorted(list(set(words)))))"
   ]
  },
  {
   "cell_type": "code",
   "execution_count": null,
   "id": "087ead4d-8f36-4de5-884a-8ca518aca9a6",
   "metadata": {},
   "outputs": [],
   "source": []
  }
 ],
 "metadata": {
  "kernelspec": {
   "display_name": "Python 3 (ipykernel)",
   "language": "python",
   "name": "python3"
  },
  "language_info": {
   "codemirror_mode": {
    "name": "ipython",
    "version": 3
   },
   "file_extension": ".py",
   "mimetype": "text/x-python",
   "name": "python",
   "nbconvert_exporter": "python",
   "pygments_lexer": "ipython3",
   "version": "3.11.9"
  }
 },
 "nbformat": 4,
 "nbformat_minor": 5
}
