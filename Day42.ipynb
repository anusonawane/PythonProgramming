{
 "cells": [
  {
   "cell_type": "code",
   "execution_count": 1,
   "id": "97710572-be91-4683-9cd0-c22f3fcd9804",
   "metadata": {},
   "outputs": [],
   "source": [
    "def max_subarray_sum(arr):\n",
    "    max_sum = float('-inf')  # Start with the smallest possible number\n",
    "    current_sum = 0  # Start with nothing in our smaller basket\n",
    "\n",
    "    for num in arr:\n",
    "        current_sum += num  # Add the current block's number to the smaller basket\n",
    "        max_sum = max(max_sum, current_sum)  # Update the biggest basket if needed\n",
    "        if current_sum < 0:  # If the smaller basket gets too heavy, empty it\n",
    "            current_sum = 0\n",
    "\n",
    "    return max_sum\n"
   ]
  },
  {
   "cell_type": "code",
   "execution_count": 2,
   "id": "ffa92b11-c76e-49eb-a5c6-5809f5cef9a5",
   "metadata": {},
   "outputs": [
    {
     "data": {
      "text/plain": [
       "6"
      ]
     },
     "execution_count": 2,
     "metadata": {},
     "output_type": "execute_result"
    }
   ],
   "source": [
    "arr = [-2, 1, -3, 4, -1, 2, 1, -5, 4]\n",
    "max_subarray_sum(arr)"
   ]
  },
  {
   "cell_type": "code",
   "execution_count": null,
   "id": "947636fe-3fc7-4ecf-b794-0d0c72c2c4c1",
   "metadata": {},
   "outputs": [],
   "source": []
  }
 ],
 "metadata": {
  "kernelspec": {
   "display_name": "Python 3 (ipykernel)",
   "language": "python",
   "name": "python3"
  },
  "language_info": {
   "codemirror_mode": {
    "name": "ipython",
    "version": 3
   },
   "file_extension": ".py",
   "mimetype": "text/x-python",
   "name": "python",
   "nbconvert_exporter": "python",
   "pygments_lexer": "ipython3",
   "version": "3.11.9"
  }
 },
 "nbformat": 4,
 "nbformat_minor": 5
}
