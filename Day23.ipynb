{
 "cells": [
  {
   "cell_type": "raw",
   "id": "3f1d07e4-fa11-45a7-bd3b-650384eb4a8b",
   "metadata": {},
   "source": [
    "A pivot table is quite similar to groupby()—both are used to summarize data "
   ]
  },
  {
   "cell_type": "code",
   "execution_count": 2,
   "id": "641a71c4-9765-431b-a808-07c040c48d99",
   "metadata": {},
   "outputs": [],
   "source": [
    "import pandas as pd\n",
    "\n",
    "data = {\n",
    "    'Department': ['Sales', 'Sales', 'Engineering', 'Engineering', 'HR'],\n",
    "    'Employee': ['Alice', 'Bob', 'Charlie', 'David', 'Eve'],\n",
    "    'Salary': [50000, 60000, 70000, 80000, 40000],\n",
    "    'YearsAtCompany': [2, 3, 4, 5, 1]\n",
    "}\n",
    "df = pd.DataFrame(data)\n",
    "\n",
    "\n"
   ]
  },
  {
   "cell_type": "code",
   "execution_count": 3,
   "id": "c7c3279a-f4fc-4a82-9974-a26823be3246",
   "metadata": {},
   "outputs": [
    {
     "name": "stdout",
     "output_type": "stream",
     "text": [
      "              Salary\n",
      "Department          \n",
      "Engineering  75000.0\n",
      "HR           40000.0\n",
      "Sales        55000.0\n"
     ]
    }
   ],
   "source": [
    "# Creating a pivot table to get average Salary by Department\n",
    "pivot = df.pivot_table(values='Salary', index='Department', aggfunc='mean')\n",
    "print(pivot)"
   ]
  },
  {
   "cell_type": "code",
   "execution_count": null,
   "id": "13c3833d-ac24-476b-ac1b-f1be5cfa7056",
   "metadata": {},
   "outputs": [],
   "source": []
  }
 ],
 "metadata": {
  "kernelspec": {
   "display_name": "Python 3 (ipykernel)",
   "language": "python",
   "name": "python3"
  },
  "language_info": {
   "codemirror_mode": {
    "name": "ipython",
    "version": 3
   },
   "file_extension": ".py",
   "mimetype": "text/x-python",
   "name": "python",
   "nbconvert_exporter": "python",
   "pygments_lexer": "ipython3",
   "version": "3.11.9"
  }
 },
 "nbformat": 4,
 "nbformat_minor": 5
}
