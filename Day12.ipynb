{
 "cells": [
  {
   "cell_type": "code",
   "execution_count": 1,
   "id": "47b0058c-c8b2-4c5e-8682-feaee22f1aaa",
   "metadata": {},
   "outputs": [],
   "source": [
    "thisdict = {\n",
    "  \"brand\": \"Ford\",\n",
    "  \"model\": \"Mustang\",\n",
    "  \"year\": 1964\n",
    "}"
   ]
  },
  {
   "cell_type": "code",
   "execution_count": 3,
   "id": "26e3377a-8e6c-4078-9d7b-e9ada4bc1b85",
   "metadata": {},
   "outputs": [
    {
     "data": {
      "text/plain": [
       "dict_items([('brand', 'Ford'), ('model', 'Mustang'), ('year', 1964)])"
      ]
     },
     "execution_count": 3,
     "metadata": {},
     "output_type": "execute_result"
    }
   ],
   "source": [
    "thisdict.items()"
   ]
  },
  {
   "cell_type": "code",
   "execution_count": 4,
   "id": "03f71c72-cbe4-4d12-87f5-5d258e0c8f40",
   "metadata": {},
   "outputs": [],
   "source": [
    "thisdict = {\n",
    "  \"brand\": \"Ford\",\n",
    "  \"electric\": False,\n",
    "  \"year\": 1964,\n",
    "  \"colors\": [\"red\", \"white\", \"blue\"]\n",
    "}"
   ]
  },
  {
   "cell_type": "code",
   "execution_count": 5,
   "id": "358fd04e-1176-439e-8eac-296471b498b1",
   "metadata": {},
   "outputs": [
    {
     "data": {
      "text/plain": [
       "['red', 'white', 'blue']"
      ]
     },
     "execution_count": 5,
     "metadata": {},
     "output_type": "execute_result"
    }
   ],
   "source": [
    "thisdict['colors']"
   ]
  },
  {
   "cell_type": "code",
   "execution_count": 8,
   "id": "09351f5a-e641-45d9-b4df-e955f472935c",
   "metadata": {},
   "outputs": [
    {
     "data": {
      "text/plain": [
       "'Ford'"
      ]
     },
     "execution_count": 8,
     "metadata": {},
     "output_type": "execute_result"
    }
   ],
   "source": [
    "thisdict.get('brand')"
   ]
  },
  {
   "cell_type": "code",
   "execution_count": 9,
   "id": "3c2c84b8-7cf3-4bf7-9f9e-d684e0eee5bb",
   "metadata": {},
   "outputs": [
    {
     "data": {
      "text/plain": [
       "dict_keys(['brand', 'electric', 'year', 'colors'])"
      ]
     },
     "execution_count": 9,
     "metadata": {},
     "output_type": "execute_result"
    }
   ],
   "source": [
    "thisdict.keys()"
   ]
  },
  {
   "cell_type": "code",
   "execution_count": 10,
   "id": "d661ebd1-4305-4deb-99ae-730e25aa86cd",
   "metadata": {},
   "outputs": [
    {
     "data": {
      "text/plain": [
       "dict_values(['Ford', False, 1964, ['red', 'white', 'blue']])"
      ]
     },
     "execution_count": 10,
     "metadata": {},
     "output_type": "execute_result"
    }
   ],
   "source": [
    "thisdict.values()"
   ]
  },
  {
   "cell_type": "code",
   "execution_count": null,
   "id": "053af5dc-9536-40de-9c45-6afb08acb9e8",
   "metadata": {},
   "outputs": [],
   "source": []
  },
  {
   "cell_type": "raw",
   "id": "67da9d61-d2c7-4edf-99a7-71d0dc379c81",
   "metadata": {},
   "source": [
    "calculate the average marks for each student"
   ]
  },
  {
   "cell_type": "code",
   "execution_count": 11,
   "id": "d3aaaccb-e5f0-4d65-9b39-8bd0e9e2bdd8",
   "metadata": {},
   "outputs": [],
   "source": [
    "students = [\n",
    "    {'name': 'Alice', 'marks': {'maths': 30, 'science': 40, 'english': 50}},\n",
    "    {'name': 'Bob', 'marks': {'maths': 35, 'science': 45, 'english': 55}},\n",
    "    {'name': 'Charlie', 'marks': {'maths': 40, 'science': 50, 'english': 60}},\n",
    "]"
   ]
  },
  {
   "cell_type": "code",
   "execution_count": 16,
   "id": "eda9a126-7347-4b96-a414-78342467025d",
   "metadata": {},
   "outputs": [
    {
     "name": "stdout",
     "output_type": "stream",
     "text": [
      "Alice :  40.0\n",
      "Bob :  45.0\n",
      "Charlie :  50.0\n"
     ]
    }
   ],
   "source": [
    "for stu in students:\n",
    "    sum_marks= sum(stu['marks'].values())\n",
    "    len_marks= len(stu['marks'].values())\n",
    "    print(stu['name'],\": \",sum_marks/len_marks)"
   ]
  },
  {
   "cell_type": "raw",
   "id": "51b1f45f-b94e-4918-b40b-ed3b332b2028",
   "metadata": {},
   "source": [
    "Find the Topper Among Students"
   ]
  },
  {
   "cell_type": "code",
   "execution_count": 17,
   "id": "fe10b0be-7eab-4391-a789-7137f0a4f010",
   "metadata": {},
   "outputs": [],
   "source": [
    "students = [\n",
    "    {'name': 'Alice', 'marks': {'maths': 30, 'science': 40, 'english': 50}},\n",
    "    {'name': 'Bob', 'marks': {'maths': 35, 'science': 45, 'english': 55}},\n",
    "    {'name': 'Charlie', 'marks': {'maths': 40, 'science': 50, 'english': 60}},\n",
    "]"
   ]
  },
  {
   "cell_type": "code",
   "execution_count": 18,
   "id": "fbe7f08e-6143-4dd5-8d96-2027640369e1",
   "metadata": {},
   "outputs": [
    {
     "name": "stdout",
     "output_type": "stream",
     "text": [
      "Topper:  Charlie  Marks:  150\n"
     ]
    }
   ],
   "source": [
    "topper=None\n",
    "high_marks=0\n",
    "for stu in students:\n",
    "    total_marks=sum(stu['marks'].values())\n",
    "    if total_marks > high_marks:\n",
    "        high_marks = total_marks\n",
    "        topper= stu['name']\n",
    "print(\"Topper: \", topper,\" Marks: \",high_marks)"
   ]
  },
  {
   "cell_type": "code",
   "execution_count": null,
   "id": "7b761ac2-f881-446f-9cfe-58447a9681cb",
   "metadata": {},
   "outputs": [],
   "source": []
  }
 ],
 "metadata": {
  "kernelspec": {
   "display_name": "Python 3 (ipykernel)",
   "language": "python",
   "name": "python3"
  },
  "language_info": {
   "codemirror_mode": {
    "name": "ipython",
    "version": 3
   },
   "file_extension": ".py",
   "mimetype": "text/x-python",
   "name": "python",
   "nbconvert_exporter": "python",
   "pygments_lexer": "ipython3",
   "version": "3.11.9"
  }
 },
 "nbformat": 4,
 "nbformat_minor": 5
}
