{
 "cells": [
  {
   "cell_type": "markdown",
   "id": "16e9b2e4-3e5f-4b6b-9628-412c3d40ed04",
   "metadata": {},
   "source": [
    "# Binary Search"
   ]
  },
  {
   "cell_type": "raw",
   "id": "4ea88086-b4d9-4f91-b7a4-49b4bca1d994",
   "metadata": {},
   "source": [
    "Suppose we have a sorted list of numbers from 1 to 100, and we want to check if a specific number (like 73) is in that list."
   ]
  },
  {
   "cell_type": "raw",
   "id": "c8c2a84f-bb2c-408b-a329-8ee9b0089bcb",
   "metadata": {},
   "source": [
    " [1, 3, 5, 7, 9, 11, 13, 15, 17, 19]\n",
    "Let's say we want to find the number 13 in this list."
   ]
  },
  {
   "cell_type": "code",
   "execution_count": 1,
   "id": "295834b1-2bf8-400c-9ece-c0af97cedcdc",
   "metadata": {},
   "outputs": [],
   "source": [
    "def binary_search(arr, target):\n",
    "    left, right = 0, len(arr)-1\n",
    "    while left<= right:\n",
    "        mid = (left + right) // 2\n",
    "\n",
    "        if arr[mid] == target:\n",
    "            return mid\n",
    "            \n",
    "        elif arr[mid] < target:\n",
    "            left = mid + 1\n",
    "        else:\n",
    "            right = mid - 1\n",
    "\n",
    "    return -1"
   ]
  },
  {
   "cell_type": "code",
   "execution_count": 2,
   "id": "7a939336-e502-4900-ad2f-bf8f7bb8f05f",
   "metadata": {},
   "outputs": [],
   "source": [
    "arr =  [1, 3, 5, 7, 9, 11, 13, 15, 17, 19]"
   ]
  },
  {
   "cell_type": "code",
   "execution_count": 5,
   "id": "8b788e8e-a29a-4cc1-bd36-8d8ffd346485",
   "metadata": {},
   "outputs": [
    {
     "data": {
      "text/plain": [
       "6"
      ]
     },
     "execution_count": 5,
     "metadata": {},
     "output_type": "execute_result"
    }
   ],
   "source": [
    "idx = binary_search(arr,13)\n",
    "idx"
   ]
  },
  {
   "cell_type": "code",
   "execution_count": 6,
   "id": "7588fa32-1550-48b2-8bbd-35b3d4f37f40",
   "metadata": {},
   "outputs": [
    {
     "data": {
      "text/plain": [
       "13"
      ]
     },
     "execution_count": 6,
     "metadata": {},
     "output_type": "execute_result"
    }
   ],
   "source": [
    "arr[idx]"
   ]
  },
  {
   "cell_type": "code",
   "execution_count": null,
   "id": "02bb9d63-dbea-49db-93b8-fb38201292b7",
   "metadata": {},
   "outputs": [],
   "source": []
  }
 ],
 "metadata": {
  "kernelspec": {
   "display_name": "Python 3 (ipykernel)",
   "language": "python",
   "name": "python3"
  },
  "language_info": {
   "codemirror_mode": {
    "name": "ipython",
    "version": 3
   },
   "file_extension": ".py",
   "mimetype": "text/x-python",
   "name": "python",
   "nbconvert_exporter": "python",
   "pygments_lexer": "ipython3",
   "version": "3.11.9"
  }
 },
 "nbformat": 4,
 "nbformat_minor": 5
}
