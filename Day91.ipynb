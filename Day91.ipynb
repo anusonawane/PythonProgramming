{
 "cells": [
  {
   "cell_type": "code",
   "execution_count": 1,
   "id": "b82f4393-7d64-4e4f-bdec-c77caafe5a12",
   "metadata": {},
   "outputs": [],
   "source": [
    "import pandas as pd\n",
    "\n",
    "data = {\n",
    "    \"Product\": [\"Laptop\", \"Headphones\", \"Shoes\", \"T-Shirt\", \"Refrigerator\"],\n",
    "    \"Category\": [\"Electronics\", \"Electronics\", \"Apparel\", \"Apparel\", \"Electronics\"],\n",
    "    \"Price\": [1000, 50, 80, 20, 500],\n",
    "    \"Quantity Sold\": [5, 20, 10, 30, 2]\n",
    "}\n",
    "df = pd.DataFrame(data)"
   ]
  },
  {
   "cell_type": "code",
   "execution_count": 3,
   "id": "abf1b132-6b3d-4434-ab60-29d6704d37e4",
   "metadata": {},
   "outputs": [
    {
     "data": {
      "text/plain": [
       "0    5000\n",
       "1    1000\n",
       "2     800\n",
       "3     600\n",
       "4    1000\n",
       "Name: Total Sales, dtype: int64"
      ]
     },
     "execution_count": 3,
     "metadata": {},
     "output_type": "execute_result"
    }
   ],
   "source": [
    "# Calculate total sales for each product\n",
    "df[\"Total Sales\"] = df[\"Price\"] * df[\"Quantity Sold\"]\n",
    "df[\"Total Sales\"]"
   ]
  },
  {
   "cell_type": "code",
   "execution_count": 4,
   "id": "84c45e5a-a6ed-4d2a-a863-0cc74577778b",
   "metadata": {},
   "outputs": [
    {
     "data": {
      "text/plain": [
       "Category\n",
       "Apparel        1400\n",
       "Electronics    7000\n",
       "Name: Total Sales, dtype: int64"
      ]
     },
     "execution_count": 4,
     "metadata": {},
     "output_type": "execute_result"
    }
   ],
   "source": [
    "# Calculate total sales for each category\n",
    "category_sales = df.groupby(\"Category\")[\"Total Sales\"].sum()\n",
    "category_sales"
   ]
  },
  {
   "cell_type": "code",
   "execution_count": null,
   "id": "10098071-4635-487e-90f4-19efbb2367bd",
   "metadata": {},
   "outputs": [],
   "source": []
  }
 ],
 "metadata": {
  "kernelspec": {
   "display_name": "Python 3 (ipykernel)",
   "language": "python",
   "name": "python3"
  },
  "language_info": {
   "codemirror_mode": {
    "name": "ipython",
    "version": 3
   },
   "file_extension": ".py",
   "mimetype": "text/x-python",
   "name": "python",
   "nbconvert_exporter": "python",
   "pygments_lexer": "ipython3",
   "version": "3.11.9"
  }
 },
 "nbformat": 4,
 "nbformat_minor": 5
}
