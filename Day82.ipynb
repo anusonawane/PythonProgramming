{
 "cells": [
  {
   "cell_type": "code",
   "execution_count": null,
   "id": "3f8ab682-ac2d-4a26-8e12-cca17c7f8a2a",
   "metadata": {},
   "outputs": [
    {
     "name": "stdout",
     "output_type": "stream",
     "text": [
      "Waiting for 5 seconds...\n"
     ]
    }
   ],
   "source": [
    "import time\n",
    "\n",
    "print(\"Waiting for 5 seconds...\")\n",
    "time.sleep(5)\n",
    "print(\"Done!\")\n"
   ]
  },
  {
   "cell_type": "code",
   "execution_count": null,
   "id": "9f9317b4-b9fb-4406-ae80-dabe8fa9788c",
   "metadata": {},
   "outputs": [],
   "source": []
  }
 ],
 "metadata": {
  "kernelspec": {
   "display_name": "Python 3 (ipykernel)",
   "language": "python",
   "name": "python3"
  },
  "language_info": {
   "codemirror_mode": {
    "name": "ipython",
    "version": 3
   },
   "file_extension": ".py",
   "mimetype": "text/x-python",
   "name": "python",
   "nbconvert_exporter": "python",
   "pygments_lexer": "ipython3",
   "version": "3.11.11"
  }
 },
 "nbformat": 4,
 "nbformat_minor": 5
}
