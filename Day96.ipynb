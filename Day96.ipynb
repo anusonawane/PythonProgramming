{
 "cells": [
  {
   "cell_type": "code",
   "execution_count": 1,
   "id": "a44eba2d-0e47-480e-8c2e-eddbc0655779",
   "metadata": {},
   "outputs": [],
   "source": [
    "# static Variables"
   ]
  },
  {
   "cell_type": "raw",
   "id": "fd6795ba-b8ca-454b-b16c-b6f6ce59e6cb",
   "metadata": {},
   "source": [
    "When the value of variable is always same. Ex. collegename\n",
    "Those variables can be decaled at class level\n",
    "\n",
    "You can save memory here, as its not a object level variable. only one copy will get created in memory,\n",
    "no matter with whatever no of objects access it.\n",
    "\n",
    "\n",
    "\n",
    "\n",
    "Places to declare static variable:\n",
    "1)inside class\n",
    "2)inside constructor using class name\n",
    "3)Iinside instance method by using class name\n",
    "4)inside class method using class variable\n",
    "5)Inside static method  using class name"
   ]
  },
  {
   "cell_type": "code",
   "execution_count": 3,
   "id": "3752eed2-5643-492d-adb7-b40fb8cb47e8",
   "metadata": {},
   "outputs": [
    {
     "name": "stdout",
     "output_type": "stream",
     "text": [
      "10\n",
      "20\n"
     ]
    }
   ],
   "source": [
    "class Example:\n",
    "    a=10\n",
    "    def __init__(self):\n",
    "        self.b=20\n",
    "\n",
    "t=Example()\n",
    "print(t.a)\n",
    "print(t.b)"
   ]
  },
  {
   "cell_type": "code",
   "execution_count": 4,
   "id": "2386ee33-bb92-4f2f-ae19-f1a6a4d4cc22",
   "metadata": {},
   "outputs": [],
   "source": [
    "#######################"
   ]
  },
  {
   "cell_type": "code",
   "execution_count": 5,
   "id": "ae068fa0-58fc-4b99-bcde-5f6c480b8ed1",
   "metadata": {},
   "outputs": [
    {
     "name": "stdout",
     "output_type": "stream",
     "text": [
      "10 ---- 20\n"
     ]
    }
   ],
   "source": [
    "class Example:\n",
    "    a=10\n",
    "    def __init__(self):\n",
    "        self.b=20\n",
    "\n",
    "t=Example()\n",
    "print(t.a, \"----\", t.b)"
   ]
  },
  {
   "cell_type": "code",
   "execution_count": 6,
   "id": "8a8c139a-5c2f-4011-96ab-c121f4284f2a",
   "metadata": {},
   "outputs": [
    {
     "name": "stdout",
     "output_type": "stream",
     "text": [
      "30 ---- 40\n"
     ]
    }
   ],
   "source": [
    "t.a=30\n",
    "t.b=40\n",
    "\n",
    "print(t.a, \"----\", t.b)"
   ]
  },
  {
   "cell_type": "code",
   "execution_count": null,
   "id": "849d988f-5bf0-442a-8d2c-ca8c6a8c58a6",
   "metadata": {},
   "outputs": [],
   "source": [
    "# changing value of one object will not affect other"
   ]
  },
  {
   "cell_type": "code",
   "execution_count": 7,
   "id": "291264bc-1e44-4a08-a2d9-f1f06d619c3d",
   "metadata": {},
   "outputs": [
    {
     "name": "stdout",
     "output_type": "stream",
     "text": [
      "10 ---- 20\n"
     ]
    }
   ],
   "source": [
    "s = Example()\n",
    "print(s.a, \"----\", s.b)"
   ]
  },
  {
   "cell_type": "code",
   "execution_count": null,
   "id": "94f8f8c0-a447-443d-a072-d1fde214f9ba",
   "metadata": {},
   "outputs": [],
   "source": []
  },
  {
   "cell_type": "code",
   "execution_count": 8,
   "id": "c124c4b9-eab8-4a76-a05b-bbe0cd3a7824",
   "metadata": {},
   "outputs": [
    {
     "name": "stdout",
     "output_type": "stream",
     "text": [
      "10 ---- 20 ---- 30\n"
     ]
    }
   ],
   "source": [
    "class Example:\n",
    "    a=10\n",
    "    def __init__(self):\n",
    "        self.b=20\n",
    "        Example.c=30 #s tatic variable\n",
    "\n",
    "t=Example()\n",
    "print(t.a, \"----\", t.b, \"----\", t.c)"
   ]
  },
  {
   "cell_type": "code",
   "execution_count": null,
   "id": "0a12fff7-e14b-4136-ba07-e58775e71d3f",
   "metadata": {},
   "outputs": [],
   "source": []
  },
  {
   "cell_type": "code",
   "execution_count": 15,
   "id": "479b1a94-8b98-426b-a7e5-c66471c4907e",
   "metadata": {},
   "outputs": [
    {
     "name": "stdout",
     "output_type": "stream",
     "text": [
      "10 ---- 20 ---- 30 ----\n",
      "40\n"
     ]
    }
   ],
   "source": [
    "class Example:\n",
    "    a=10\n",
    "    def __init__(self):\n",
    "        self.b=20\n",
    "        Example.c=30 #s tatic variable\n",
    "\n",
    "    def m1(self):\n",
    "        Example.d = 40\n",
    "        return Example.d\n",
    "\n",
    "t=Example()\n",
    "print(t.a, \"----\", t.b, \"----\", t.c, \"----\")\n",
    "v = t.m1()\n",
    "print(v)"
   ]
  },
  {
   "cell_type": "code",
   "execution_count": null,
   "id": "badc17da-e5cb-4fa4-a872-3d885ef4c46c",
   "metadata": {},
   "outputs": [],
   "source": []
  },
  {
   "cell_type": "code",
   "execution_count": 19,
   "id": "c41ee3e3-1528-414a-8d81-6d21e09c842e",
   "metadata": {},
   "outputs": [
    {
     "name": "stdout",
     "output_type": "stream",
     "text": [
      "10 ---- 20 ---- 30 ----\n",
      "40\n",
      "50\n",
      "60\n",
      "70\n"
     ]
    }
   ],
   "source": [
    "class Example:\n",
    "    a=10\n",
    "    def __init__(self):\n",
    "        self.b=20\n",
    "        Example.c=30 #s tatic variable\n",
    "\n",
    "    def m1(self):\n",
    "        Example.d = 40\n",
    "        return Example.d\n",
    "\n",
    "    def m2(cls): # this is instance method itself because instead of self we can use any variable\n",
    "        cls.e = 50\n",
    "        return cls.e\n",
    "\n",
    "    @classmethod # can be only accessd by cls vaiable or class name\n",
    "    def m3(cls): \n",
    "        cls.f = 60\n",
    "        return cls.f\n",
    "\n",
    "\n",
    "    @staticmethod #Can only be accessd by class name, cls and self not available\n",
    "    def m4(): \n",
    "        Example.g = 70\n",
    "        return Example.g\n",
    "\n",
    "t=Example()\n",
    "print(t.a, \"----\", t.b, \"----\", t.c, \"----\")\n",
    "v = t.m1()\n",
    "print(v)\n",
    "\n",
    "v = t.m2()\n",
    "print(v)\n",
    "\n",
    "v = t.m3()\n",
    "print(v)\n",
    "\n",
    "v = t.m4()\n",
    "print(v)"
   ]
  },
  {
   "cell_type": "code",
   "execution_count": null,
   "id": "eb0e0796-ffb6-496e-986e-92ca0e25af74",
   "metadata": {},
   "outputs": [],
   "source": []
  }
 ],
 "metadata": {
  "kernelspec": {
   "display_name": "Python 3 (ipykernel)",
   "language": "python",
   "name": "python3"
  },
  "language_info": {
   "codemirror_mode": {
    "name": "ipython",
    "version": 3
   },
   "file_extension": ".py",
   "mimetype": "text/x-python",
   "name": "python",
   "nbconvert_exporter": "python",
   "pygments_lexer": "ipython3",
   "version": "3.11.11"
  }
 },
 "nbformat": 4,
 "nbformat_minor": 5
}
