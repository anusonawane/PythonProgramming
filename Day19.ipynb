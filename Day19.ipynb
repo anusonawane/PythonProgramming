{
 "cells": [
  {
   "cell_type": "raw",
   "id": "c7071750-8bd1-4dfc-be30-3dd7f4965b85",
   "metadata": {},
   "source": [
    "You are given a DataFrame df containing sales data for a retail store. The columns are:\n",
    "\n",
    "Date (format: YYYY-MM-DD) - The date of each sale.\n",
    "StoreID - The ID of the store where the sale occurred.\n",
    "ProductID - The ID of the product sold.\n",
    "Quantity - The quantity of the product sold.\n",
    "Price - The price per unit of the product sold.\n"
   ]
  },
  {
   "cell_type": "code",
   "execution_count": 1,
   "id": "0d07fb95-33a5-4ca4-9758-54f11bce16ad",
   "metadata": {},
   "outputs": [],
   "source": [
    "import pandas as pd\n",
    "\n",
    "data = {\n",
    "    'Date': ['2023-01-01', '2023-01-01', '2023-01-02', '2023-01-02', '2023-01-03'],\n",
    "    'StoreID': [1, 2, 1, 2, 1],\n",
    "    'ProductID': [101, 102, 101, 103, 101],\n",
    "    'Quantity': [5, 3, 2, 1, 4],\n",
    "    'Price': [10.0, 20.0, 10.0, 15.0, 10.0]\n",
    "}\n",
    "df = pd.DataFrame(data)\n"
   ]
  },
  {
   "cell_type": "raw",
   "id": "8c4259a1-58d7-4574-9c57-a1e0d8b580ae",
   "metadata": {},
   "source": [
    "Calculate the total revenue for each store on each date and return a DataFrame with the columns Date, StoreID, and TotalRevenue. Revenue is defined as Quantity * Price."
   ]
  },
  {
   "cell_type": "code",
   "execution_count": 2,
   "id": "93213a35-fd4f-4c84-9160-74ac1358fdf0",
   "metadata": {},
   "outputs": [],
   "source": [
    "df['Revenue'] = df['Quantity']*df['Price']"
   ]
  },
  {
   "cell_type": "code",
   "execution_count": null,
   "id": "bbe67e6d-9500-4afb-9385-9be56dc83a88",
   "metadata": {},
   "outputs": [],
   "source": []
  }
 ],
 "metadata": {
  "kernelspec": {
   "display_name": "Python 3 (ipykernel)",
   "language": "python",
   "name": "python3"
  },
  "language_info": {
   "codemirror_mode": {
    "name": "ipython",
    "version": 3
   },
   "file_extension": ".py",
   "mimetype": "text/x-python",
   "name": "python",
   "nbconvert_exporter": "python",
   "pygments_lexer": "ipython3",
   "version": "3.11.9"
  }
 },
 "nbformat": 4,
 "nbformat_minor": 5
}
