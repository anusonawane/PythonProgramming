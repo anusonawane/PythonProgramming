{
 "cells": [
  {
   "cell_type": "code",
   "execution_count": 1,
   "id": "231cb611-0130-4169-9ec9-d27b849205d9",
   "metadata": {},
   "outputs": [
    {
     "name": "stdout",
     "output_type": "stream",
     "text": [
      "      Name  Age           City  Salary        Date\n",
      "0    Alice   25       New York   70000  2023-01-01\n",
      "1      Bob   30  San Francisco   80000  2023-02-15\n",
      "2  Charlie   35    Los Angeles  120000  2023-03-10\n",
      "3    David   40        Chicago   90000  2023-04-20\n"
     ]
    }
   ],
   "source": [
    "import pandas as pd\n",
    "\n",
    "# Sample data\n",
    "data = {\n",
    "    'Name': ['Alice', 'Bob', 'Charlie', 'David'],\n",
    "    'Age': [25, 30, 35, 40],\n",
    "    'City': ['New York', 'San Francisco', 'Los Angeles', 'Chicago'],\n",
    "    'Salary': [70000, 80000, 120000, 90000],\n",
    "    'Date': ['2023-01-01', '2023-02-15', '2023-03-10', '2023-04-20']\n",
    "}\n",
    "\n",
    "# Create the DataFrame\n",
    "df = pd.DataFrame(data)\n",
    "\n",
    "# Display the DataFrame\n",
    "print(df)\n"
   ]
  },
  {
   "cell_type": "code",
   "execution_count": 2,
   "id": "77627039-0bbd-4ec0-b6d5-0db247addc87",
   "metadata": {},
   "outputs": [],
   "source": [
    "# Filter rows where Age > 30\n",
    "above_30 = df[df['Age'] > 30]\n",
    "\n",
    "# Calculate the average salary\n",
    "average_salary = above_30['Salary'].mean()"
   ]
  },
  {
   "cell_type": "code",
   "execution_count": null,
   "id": "bf0b9e36-9aaa-4519-8a3f-533fc1c77afe",
   "metadata": {},
   "outputs": [],
   "source": []
  }
 ],
 "metadata": {
  "kernelspec": {
   "display_name": "Python 3 (ipykernel)",
   "language": "python",
   "name": "python3"
  },
  "language_info": {
   "codemirror_mode": {
    "name": "ipython",
    "version": 3
   },
   "file_extension": ".py",
   "mimetype": "text/x-python",
   "name": "python",
   "nbconvert_exporter": "python",
   "pygments_lexer": "ipython3",
   "version": "3.11.11"
  }
 },
 "nbformat": 4,
 "nbformat_minor": 5
}
