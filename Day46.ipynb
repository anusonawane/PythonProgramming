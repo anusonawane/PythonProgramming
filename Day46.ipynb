{
 "cells": [
  {
   "cell_type": "code",
   "execution_count": 1,
   "id": "8123a481-31fc-4239-aeb5-ae134ba9a602",
   "metadata": {},
   "outputs": [
    {
     "name": "stdout",
     "output_type": "stream",
     "text": [
      "Basic Example\n",
      "Caught an error: division by zero\n"
     ]
    }
   ],
   "source": [
    "# Basic try...except\n",
    "try:\n",
    "    print(\"Basic Example\")\n",
    "    x = 10 / 0  # This will raise a ZeroDivisionError\n",
    "except ZeroDivisionError as e:\n",
    "    print(f\"Caught an error: {e}\")\n"
   ]
  },
  {
   "cell_type": "code",
   "execution_count": 2,
   "id": "b76713f4-9343-44fb-aa9c-a36b7a5dea7d",
   "metadata": {},
   "outputs": [
    {
     "name": "stdout",
     "output_type": "stream",
     "text": [
      "\n",
      "Handling multiple exceptions\n",
      "Caught an IndexError: list index out of range\n"
     ]
    }
   ],
   "source": [
    "# Handling multiple exceptions\n",
    "try:\n",
    "    print(\"\\nHandling multiple exceptions\")\n",
    "    items = [1, 2, 3]\n",
    "    print(items[5])  # This will raise an IndexError\n",
    "except IndexError as e:\n",
    "    print(f\"Caught an IndexError: {e}\")\n",
    "except KeyError as e:\n",
    "    print(f\"Caught a KeyError: {e}\")"
   ]
  },
  {
   "cell_type": "code",
   "execution_count": 3,
   "id": "92a8b419-8956-486f-a984-6c5543dd9357",
   "metadata": {},
   "outputs": [
    {
     "name": "stdout",
     "output_type": "stream",
     "text": [
      "\n",
      "Catching any exception\n",
      "Caught a general exception: ValueError - invalid literal for int() with base 10: 'abc'\n"
     ]
    }
   ],
   "source": [
    "# Catching any exception\n",
    "try:\n",
    "    print(\"\\nCatching any exception\")\n",
    "    result = int(\"abc\")  # This will raise a ValueError\n",
    "except Exception as e:\n",
    "    print(f\"Caught a general exception: {type(e).__name__} - {e}\")"
   ]
  },
  {
   "cell_type": "code",
   "execution_count": 4,
   "id": "6949b316-9745-4c8b-b889-62e2a31652dd",
   "metadata": {},
   "outputs": [
    {
     "name": "stdout",
     "output_type": "stream",
     "text": [
      "\n",
      "Using else block\n",
      "Number is: 42\n",
      "No errors occurred, executed else block.\n"
     ]
    }
   ],
   "source": [
    "# Using else block\n",
    "try:\n",
    "    print(\"\\nUsing else block\")\n",
    "    num = 42\n",
    "    print(f\"Number is: {num}\")  # No exception here\n",
    "except Exception as e:\n",
    "    print(f\"An error occurred: {e}\")\n",
    "else:\n",
    "    print(\"No errors occurred, executed else block.\")"
   ]
  },
  {
   "cell_type": "code",
   "execution_count": 5,
   "id": "77476e1c-4f9d-4963-8999-f7400da06b8b",
   "metadata": {},
   "outputs": [
    {
     "name": "stdout",
     "output_type": "stream",
     "text": [
      "\n",
      "Using finally block\n",
      "Result: 5.0\n",
      "This will always execute, regardless of an exception.\n"
     ]
    }
   ],
   "source": [
    "# Using finally block\n",
    "try:\n",
    "    print(\"\\nUsing finally block\")\n",
    "    x = 5 / 1\n",
    "    print(f\"Result: {x}\")\n",
    "except ZeroDivisionError as e:\n",
    "    print(f\"Caught an error: {e}\")\n",
    "finally:\n",
    "    print(\"This will always execute, regardless of an exception.\")"
   ]
  },
  {
   "cell_type": "code",
   "execution_count": 6,
   "id": "4b4494ca-d131-4965-b31a-92158902b6a7",
   "metadata": {},
   "outputs": [
    {
     "name": "stdout",
     "output_type": "stream",
     "text": [
      "\n",
      "Custom exception example\n",
      "Caught a custom exception: This is a custom exception.\n"
     ]
    }
   ],
   "source": [
    "# Custom exception\n",
    "class CustomError(Exception):\n",
    "    def __init__(self, message):\n",
    "        self.message = message\n",
    "        super().__init__(self.message)\n",
    "\n",
    "try:\n",
    "    print(\"\\nCustom exception example\")\n",
    "    raise CustomError(\"This is a custom exception.\")\n",
    "except CustomError as e:\n",
    "    print(f\"Caught a custom exception: {e}\")"
   ]
  },
  {
   "cell_type": "code",
   "execution_count": 7,
   "id": "af3f1939-6fb4-460c-b680-90ec45130c83",
   "metadata": {},
   "outputs": [
    {
     "name": "stdout",
     "output_type": "stream",
     "text": [
      "\n",
      "Nested try...except example\n",
      "Inner block caught an error: division by zero\n",
      "Outer block caught the re-raised error: division by zero\n",
      "Nested try...except example completed.\n"
     ]
    }
   ],
   "source": [
    "# Nested try...except\n",
    "try:\n",
    "    print(\"\\nNested try...except example\")\n",
    "    try:\n",
    "        result = 10 / 0\n",
    "    except ZeroDivisionError as e:\n",
    "        print(f\"Inner block caught an error: {e}\")\n",
    "        raise  # Re-raising the exception\n",
    "except ZeroDivisionError as e:\n",
    "    print(f\"Outer block caught the re-raised error: {e}\")\n",
    "finally:\n",
    "    print(\"Nested try...except example completed.\")"
   ]
  }
 ],
 "metadata": {
  "kernelspec": {
   "display_name": "Python 3 (ipykernel)",
   "language": "python",
   "name": "python3"
  },
  "language_info": {
   "codemirror_mode": {
    "name": "ipython",
    "version": 3
   },
   "file_extension": ".py",
   "mimetype": "text/x-python",
   "name": "python",
   "nbconvert_exporter": "python",
   "pygments_lexer": "ipython3",
   "version": "3.11.9"
  }
 },
 "nbformat": 4,
 "nbformat_minor": 5
}
