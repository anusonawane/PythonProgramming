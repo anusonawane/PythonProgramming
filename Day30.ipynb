{
 "cells": [
  {
   "cell_type": "raw",
   "id": "dfd9a77a-7038-49de-a851-68d54fc83227",
   "metadata": {},
   "source": [
    "You have a list of dictionaries, where each dictionary represents a student’s data. Your task is to:\n",
    "\n",
    "Calculate the average score for each subject across all students."
   ]
  },
  {
   "cell_type": "code",
   "execution_count": 1,
   "id": "266bd33a-2bb7-476f-80ee-5464d1e193ab",
   "metadata": {},
   "outputs": [],
   "source": [
    "students = [\n",
    "    {\"name\": \"Alice\", \"math\": 85, \"science\": 92, \"english\": 78},\n",
    "    {\"name\": \"Bob\", \"math\": 90, \"science\": 88, \"english\": 76},\n",
    "    {\"name\": \"Charlie\", \"math\": 78, \"science\": 80, \"english\": 85},\n",
    "    {\"name\": \"David\", \"math\": 92, \"science\": 86, \"english\": 82}\n",
    "]\n"
   ]
  },
  {
   "cell_type": "code",
   "execution_count": 3,
   "id": "d2e2e998-808e-45e8-b9b4-5a5dc9d44bdb",
   "metadata": {},
   "outputs": [],
   "source": [
    "def calculate_averages(students):\n",
    "    subjects = [\"math\", \"science\", \"english\"]\n",
    "    averages = {}\n",
    "    \n",
    "    for subject in subjects:\n",
    "        total_score = sum(student[subject] for student in students)\n",
    "        averages[subject] = total_score / len(students)\n",
    "    \n",
    "    return averages"
   ]
  },
  {
   "cell_type": "code",
   "execution_count": 4,
   "id": "fc1d05a6-68c0-4a42-8c90-4b1d28d5067c",
   "metadata": {},
   "outputs": [
    {
     "data": {
      "text/plain": [
       "{'math': 86.25, 'science': 86.5, 'english': 80.25}"
      ]
     },
     "execution_count": 4,
     "metadata": {},
     "output_type": "execute_result"
    }
   ],
   "source": [
    "calculate_averages(students)"
   ]
  },
  {
   "cell_type": "code",
   "execution_count": null,
   "id": "7a13a1d9-c877-433b-a83a-a7095c468b18",
   "metadata": {},
   "outputs": [],
   "source": []
  }
 ],
 "metadata": {
  "kernelspec": {
   "display_name": "Python 3 (ipykernel)",
   "language": "python",
   "name": "python3"
  },
  "language_info": {
   "codemirror_mode": {
    "name": "ipython",
    "version": 3
   },
   "file_extension": ".py",
   "mimetype": "text/x-python",
   "name": "python",
   "nbconvert_exporter": "python",
   "pygments_lexer": "ipython3",
   "version": "3.11.9"
  }
 },
 "nbformat": 4,
 "nbformat_minor": 5
}
