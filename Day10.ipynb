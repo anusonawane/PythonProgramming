{
 "cells": [
  {
   "cell_type": "markdown",
   "id": "7fb12c3b-eeb6-4d10-adcd-a2744cbde33c",
   "metadata": {},
   "source": [
    "Writing Fibonacci Series"
   ]
  },
  {
   "cell_type": "code",
   "execution_count": 1,
   "id": "2cef2daf-62cd-47df-ae30-d61618675a11",
   "metadata": {},
   "outputs": [
    {
     "name": "stdout",
     "output_type": "stream",
     "text": [
      "0 1 1 2 3 5 8 13 21 34 "
     ]
    }
   ],
   "source": [
    "def fibonacci_easy(n):\n",
    "    a, b = 0, 1\n",
    "    for _ in range(n):\n",
    "        print(a, end=\" \")\n",
    "        a, b = b, a + b\n",
    "\n",
    "# Test the function\n",
    "n = 10\n",
    "fibonacci_easy(n)"
   ]
  },
  {
   "cell_type": "code",
   "execution_count": null,
   "id": "1b888ae4-eb6d-4d5b-a589-e73ca89cd784",
   "metadata": {},
   "outputs": [],
   "source": [
    "\n"
   ]
  }
 ],
 "metadata": {
  "kernelspec": {
   "display_name": "Python 3 (ipykernel)",
   "language": "python",
   "name": "python3"
  },
  "language_info": {
   "codemirror_mode": {
    "name": "ipython",
    "version": 3
   },
   "file_extension": ".py",
   "mimetype": "text/x-python",
   "name": "python",
   "nbconvert_exporter": "python",
   "pygments_lexer": "ipython3",
   "version": "3.11.9"
  }
 },
 "nbformat": 4,
 "nbformat_minor": 5
}
