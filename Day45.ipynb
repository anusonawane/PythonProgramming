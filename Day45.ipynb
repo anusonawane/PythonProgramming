{
 "cells": [
  {
   "cell_type": "raw",
   "id": "215a30d5-34bf-4dc4-a95f-5e31473e575f",
   "metadata": {},
   "source": [
    "Check if Two Strings are Anagrams"
   ]
  },
  {
   "cell_type": "code",
   "execution_count": 2,
   "id": "cafc0c32-ae0e-4338-a7d5-17bbf709f35a",
   "metadata": {},
   "outputs": [],
   "source": [
    "str1 = \"listen\"\n",
    "str2 = \"silent\""
   ]
  },
  {
   "cell_type": "code",
   "execution_count": 3,
   "id": "c68cb4b8-be80-4c88-8ef2-e2fb389e79f8",
   "metadata": {},
   "outputs": [],
   "source": [
    "def are_anagrams(str1, str2):\n",
    "    return sorted(str1) == sorted(str2) "
   ]
  },
  {
   "cell_type": "code",
   "execution_count": null,
   "id": "9cef4b71-758a-4b99-88f4-906211fe46b8",
   "metadata": {},
   "outputs": [],
   "source": []
  }
 ],
 "metadata": {
  "kernelspec": {
   "display_name": "Python 3 (ipykernel)",
   "language": "python",
   "name": "python3"
  },
  "language_info": {
   "codemirror_mode": {
    "name": "ipython",
    "version": 3
   },
   "file_extension": ".py",
   "mimetype": "text/x-python",
   "name": "python",
   "nbconvert_exporter": "python",
   "pygments_lexer": "ipython3",
   "version": "3.11.9"
  }
 },
 "nbformat": 4,
 "nbformat_minor": 5
}
